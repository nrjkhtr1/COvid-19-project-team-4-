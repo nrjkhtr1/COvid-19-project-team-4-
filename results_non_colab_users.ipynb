{
 "cells": [
  {
   "cell_type": "markdown",
   "metadata": {},
   "source": [
    "## Results - non colab users"
   ]
  },
  {
   "cell_type": "code",
   "execution_count": null,
   "metadata": {},
   "outputs": [],
   "source": [
    "# if you are not using google colab then use this code\n",
    "with open(\"subtask_list.txt\", \"rb\") as fp:   # Unpickling\n",
    "    subtasks = pickle.load(fp)\n",
    "\n",
    "with open(\"tasks.txt\", \"rb\") as fp:   # Unpickling\n",
    "    tasks = pickle.load(fp)"
   ]
  },
  {
   "cell_type": "code",
   "execution_count": null,
   "metadata": {},
   "outputs": [],
   "source": [
    "!pip install transformers\n",
    "import re\n",
    "from transformers import pipeline\n",
    "import requests\n",
    "import pprint\n",
    "import time\n",
    "\n",
    "def bart_summary(key):\n",
    "    if((key == 9 )| (key == 11 ) | (key == 12 ) | (key == 13 ) ):\n",
    "        text = subtasks[key][0][0]\n",
    "    elif((key ==1)):\n",
    "        text = subtasks[key][4][0]\n",
    "    elif(key == 0):\n",
    "        text = subtasks[key][3][0]\n",
    "    else:\n",
    "        text = subtasks[key][2][0]\n",
    "    position = [m.start() for m in re.finditer(tasks[key], text)]\n",
    "    print(position)\n",
    "    if(len(position) > 10):\n",
    "        position = position[0:10]\n",
    "    text_ = \"\"\n",
    "    print(\"################## Title of the paper is: ###############\")\n",
    "    print(subtasks[key][2][1])\n",
    "    print(\"\\n\\n\\n\")\n",
    "    print(\"################## Task Answer: ###############\")\n",
    "    for i in range(len(position)):\n",
    "        if((position[i]>200) & ((position[i]+200)< len(text))):\n",
    "            text_ += text[position[i]-200:position[i]+200]\n",
    "            text_ += \" \\n\"\n",
    "        elif((position[i]>200) & ((position[i]+200)>len(text))):\n",
    "            text_ += text[position[i]-200:]\n",
    "            text_ += \" \\n\"\n",
    "        else:\n",
    "            text_ += text[0:position[i]+200]\n",
    "            text_ += \" \\n\"\n",
    "    pp = pprint.PrettyPrinter(indent=14)\n",
    "    summarizer_bart = pipeline(task='summarization', model=\"bart-large-cnn\")\n",
    "\n",
    "    t0 = time.time() # timer\n",
    "    summary_raw_bart = summarizer_bart(text_, min_length=200, max_length=300) # change min_ and max_length for different output\n",
    "    print(\"Summarization took \" + str(round((time.time() - t0) / 60, 2)) + \" minutes.\")\n",
    "\n",
    "    pp.pprint(summary_raw_bart[0]['summary_text'])\n",
    "    return summary_raw_bart[0]['summary_text']\n"
   ]
  },
  {
   "cell_type": "code",
   "execution_count": null,
   "metadata": {},
   "outputs": [],
   "source": [
    "class color:\n",
    "   PURPLE = '\\033[95m'\n",
    "   CYAN = '\\033[96m'\n",
    "   DARKCYAN = '\\033[36m'\n",
    "   BLUE = '\\033[94m'\n",
    "   GREEN = '\\033[92m'\n",
    "   YELLOW = '\\033[93m'\n",
    "   RED = '\\033[91m'\n",
    "   BOLD = '\\033[1m'\n",
    "   UNDERLINE = '\\033[4m'\n",
    "   END = '\\033[0m'\n",
    "\n",
    "print(color.BOLD + \"Select subtask from these subtasks:\\n\" + color.END)\n",
    "print(\"1. Range of incubation periods for the disease in humans (and how this varies across age and health status) and how\\\n",
    "long individuals are contagious, even after recovery.\\n\")\n",
    "print(\"2. Prevalence of asymptomatic shedding and transmission (e.g., particularly children).\\n\")\n",
    "print(\"3. Seasonality of transmission.\\n\")\n",
    "print(\"4. Physical science of the coronavirus (e.g., charge distribution, adhesion to hydrophilic/phobic surfaces, environmental\\\n",
    "survival to inform decontamination efforts for affected areas and provide information about viral shedding).\\n\")\n",
    "print(\"5. Persistence and stability on a multitude of substrates and sources (e.g., nasal discharge, sputum, urine, fecal matter, blood).\\n\")\n",
    "print(\"6. Persistence of virus on surfaces of different materials (e,g., copper, stainless steel, plastic).\\n\")\n",
    "print(\"7. Natural history of the virus and shedding of it from an infected person\\n\")\n",
    "print(\"8. Implementation of diagnostics and products to improve clinical processes\\n\")\n",
    "print(\"9. Disease models, including animal models for infection, disease and transmission\\n\")\n",
    "print(\"10. Tools and studies to monitor phenotypic change and potential adaptation of the virus\\n\")\n",
    "print(\"11. Immune response and immunity\\n\")\n",
    "print(\"12. Effectiveness of movement control strategies to prevent secondary transmission in health care and community settings\\n\")\n",
    "print(\"13. Effectiveness of personal protective equipment (PPE) and its usefulness to reduce risk of transmission in health care and\\\n",
    "community settings\\n\")\n",
    "print(\"14. Role of the environment in transmission\\n\")\n"
   ]
  },
  {
   "cell_type": "code",
   "execution_count": null,
   "metadata": {},
   "outputs": [],
   "source": [
    "input_task = int(input(\"Please select the task from the above list:\"))\n",
    "# fun_calculate_summary(input_task-1)\n",
    "bart_summary(input_task-1)"
   ]
  },
  {
   "cell_type": "code",
   "execution_count": null,
   "metadata": {},
   "outputs": [],
   "source": [
    "import pickle\n",
    "import numpy as np\n",
    "import pandas as pd\n",
    "!pip install ktrain\n",
    "import ktrain\n",
    "if not os.path.isfile(\"topic_model.txt\"):\n",
    "\n",
    "    df = pd.read_csv('final_lemmetized_df.csv')\n",
    "\n",
    "    ktrain.text.preprocessor.detect_lang = ktrain.text.textutils.detect_lang\n",
    "\n",
    "    max_vocab = 35000     # set the maximum vocabulary size\n",
    "    num_of_topics = 200  # set the number of topics\n",
    "    #max_vocab = 10000\n",
    "\n",
    "    # Run topic modeling using Keras wrappers on LDA\n",
    "    tm = ktrain.text.get_topic_model(df['text_lemmatized'], n_topics = num_of_topics, n_features = max_vocab, lda_max_iter = 10, lda_mode = 'batch')\n",
    "\n",
    "    tm.print_topics()\n",
    "\n",
    "    threshold_value = 0.25\n",
    "    tm.build(df['text_lemmatized'], threshold = threshold_value)\n",
    "\n",
    "    with open(\"topic_model.txt\", \"wb\") as fp:   #Pickling\n",
    "        pickle.dump(tm, fp)\n",
    "else\n",
    "    with open(\"topic_model.txt\", \"rb\") as fp:   # Unpickling\n",
    "        tm_save = pickle.load(fp)"
   ]
  },
  {
   "cell_type": "code",
   "execution_count": null,
   "metadata": {},
   "outputs": [],
   "source": [
    "text = bart_summary(4)"
   ]
  },
  {
   "cell_type": "code",
   "execution_count": null,
   "metadata": {},
   "outputs": [],
   "source": [
    "tm.topics[np.argmax(tm.predict([text]))]"
   ]
  },
  {
   "cell_type": "code",
   "execution_count": null,
   "metadata": {},
   "outputs": [],
   "source": [
    "import os\n",
    "import pickle\n",
    "\n",
    "if not os.path.isfile(\"summaries.txt\")\n",
    "# if not os.path.isfile(\"/content/drive/My Drive/Covid/summaries.txt\"): # for google colab\n",
    "\n",
    "    topic_all_tasks = []\n",
    "    for i in range(1,15):\n",
    "    topic_all_tasks.append(bart_summary(i))\n",
    "    with open(\"summaries.txt\", \"wb\") as fp:   #Pickling\n",
    "    with open(\"summaries.txt\", \"wb\") as fp:   #Pickling for google colab users\n",
    "        pickle.dump(topic_all_tasks, fp)\n",
    "else:\n",
    "    with open(\"summaries.txt\", \"rb\") as fp:   # Unpickling\n",
    "    with open(\"summaries.txt\", \"rb\") as fp:   # Unpickling for google colab users\n",
    "        summaries = pickle.load(fp)"
   ]
  },
  {
   "cell_type": "code",
   "execution_count": null,
   "metadata": {},
   "outputs": [],
   "source": [
    "for i, summ in enumerate(summaries):\n",
    "    print(i, tm_save.topics[np.argmax(tm_save.predict([summ]))])"
   ]
  }
 ],
 "metadata": {
  "kernelspec": {
   "display_name": "Python 3",
   "language": "python",
   "name": "python3"
  },
  "language_info": {
   "codemirror_mode": {
    "name": "ipython",
    "version": 3
   },
   "file_extension": ".py",
   "mimetype": "text/x-python",
   "name": "python",
   "nbconvert_exporter": "python",
   "pygments_lexer": "ipython3",
   "version": "3.7.5"
  }
 },
 "nbformat": 4,
 "nbformat_minor": 4
}
