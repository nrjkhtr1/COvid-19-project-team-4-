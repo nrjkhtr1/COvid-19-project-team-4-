{
  "nbformat": 4,
  "nbformat_minor": 0,
  "metadata": {
    "colab": {
      "name": "final_code.ipynb",
      "provenance": [],
      "collapsed_sections": [],
      "toc_visible": true
    },
    "kernelspec": {
      "name": "python3",
      "display_name": "Python 3"
    }
  },
  "cells": [
    {
      "cell_type": "markdown",
      "metadata": {
        "id": "0n5ZGlH4T3hz",
        "colab_type": "text"
      },
      "source": [
        "# You can start from Final Day section in the end to get the results.\n"
      ]
    },
    {
      "cell_type": "markdown",
      "metadata": {
        "id": "PA131CNHQ9kd",
        "colab_type": "text"
      },
      "source": [
        "\n",
        "## Day 1"
      ]
    },
    {
      "cell_type": "code",
      "metadata": {
        "id": "60jtSLqZT3y4",
        "colab_type": "code",
        "outputId": "a4c01346-29fa-4e43-f226-5f751e1dc34c",
        "colab": {
          "base_uri": "https://localhost:8080/",
          "height": 130
        }
      },
      "source": [
        "from google.colab import drive\n",
        "drive.mount('/content/drive')"
      ],
      "execution_count": 0,
      "outputs": [
        {
          "output_type": "stream",
          "text": [
            "Go to this URL in a browser: https://accounts.google.com/o/oauth2/auth?client_id=947318989803-6bn6qk8qdgf4n4g3pfee6491hc0brc4i.apps.googleusercontent.com&redirect_uri=urn%3aietf%3awg%3aoauth%3a2.0%3aoob&response_type=code&scope=email%20https%3a%2f%2fwww.googleapis.com%2fauth%2fdocs.test%20https%3a%2f%2fwww.googleapis.com%2fauth%2fdrive%20https%3a%2f%2fwww.googleapis.com%2fauth%2fdrive.photos.readonly%20https%3a%2f%2fwww.googleapis.com%2fauth%2fpeopleapi.readonly\n",
            "\n",
            "Enter your authorization code:\n",
            "··········\n",
            "Mounted at /content/drive\n"
          ],
          "name": "stdout"
        }
      ]
    },
    {
      "cell_type": "code",
      "metadata": {
        "id": "mzZwRDiaJdMK",
        "colab_type": "code",
        "outputId": "62578858-09d6-4115-f9e3-a4feb0468c5a",
        "colab": {
          "base_uri": "https://localhost:8080/",
          "height": 73
        }
      },
      "source": [
        "import nltk\n",
        "nltk.download('wordnet')"
      ],
      "execution_count": 0,
      "outputs": [
        {
          "output_type": "stream",
          "text": [
            "[nltk_data] Downloading package wordnet to /root/nltk_data...\n",
            "[nltk_data]   Unzipping corpora/wordnet.zip.\n"
          ],
          "name": "stdout"
        },
        {
          "output_type": "execute_result",
          "data": {
            "text/plain": [
              "True"
            ]
          },
          "metadata": {
            "tags": []
          },
          "execution_count": 3
        }
      ]
    },
    {
      "cell_type": "code",
      "metadata": {
        "id": "jj0PmoIM_VVs",
        "colab_type": "code",
        "colab": {}
      },
      "source": [
        "import sys\n",
        "import pandas as pd\n",
        "from nltk.corpus import wordnet"
      ],
      "execution_count": 0,
      "outputs": []
    },
    {
      "cell_type": "code",
      "metadata": {
        "id": "Iht8K3WVAV2r",
        "colab_type": "code",
        "outputId": "f7377579-4021-4bdc-c823-a17b5856965a",
        "colab": {
          "base_uri": "https://localhost:8080/",
          "height": 606
        }
      },
      "source": [
        "fname= pd.read_csv(\"/content/drive/My Drive/Covid/Comlete_Final_BodyText.csv\")\n",
        "#fname= pd.read_csv(\"data_clean_1.csv\")\n",
        "print(fname.shape)\n",
        "fname"
      ],
      "execution_count": 0,
      "outputs": [
        {
          "output_type": "stream",
          "text": [
            "(11390, 5)\n"
          ],
          "name": "stdout"
        },
        {
          "output_type": "execute_result",
          "data": {
            "text/html": [
              "<div>\n",
              "<style scoped>\n",
              "    .dataframe tbody tr th:only-of-type {\n",
              "        vertical-align: middle;\n",
              "    }\n",
              "\n",
              "    .dataframe tbody tr th {\n",
              "        vertical-align: top;\n",
              "    }\n",
              "\n",
              "    .dataframe thead th {\n",
              "        text-align: right;\n",
              "    }\n",
              "</style>\n",
              "<table border=\"1\" class=\"dataframe\">\n",
              "  <thead>\n",
              "    <tr style=\"text-align: right;\">\n",
              "      <th></th>\n",
              "      <th>Unnamed: 0</th>\n",
              "      <th>title</th>\n",
              "      <th>abstract</th>\n",
              "      <th>body_text</th>\n",
              "      <th>ref</th>\n",
              "    </tr>\n",
              "  </thead>\n",
              "  <tbody>\n",
              "    <tr>\n",
              "      <th>0</th>\n",
              "      <td>0</td>\n",
              "      <td>the rna pseudoknots in foot-and-mouth disease ...</td>\n",
              "      <td>word count 194 22 text word count 5168 23 24 2...</td>\n",
              "      <td>vp3 and vp0   the p2 64 and p3 regions encode ...</td>\n",
              "      <td>and-mouth disease virus  is a single stranded ...</td>\n",
              "    </tr>\n",
              "    <tr>\n",
              "      <th>1</th>\n",
              "      <td>1</td>\n",
              "      <td>analysis title regaining perspective on sars-c...</td>\n",
              "      <td>during the past three months a new coronavirus...</td>\n",
              "      <td>in december 2019 a novel coronavirus sars-cov-...</td>\n",
              "      <td>ms is supported in part by the stephany w holl...</td>\n",
              "    </tr>\n",
              "    <tr>\n",
              "      <th>2</th>\n",
              "      <td>3</td>\n",
              "      <td>relationship between average daily temperature...</td>\n",
              "      <td>the rapid outbreak of the new coronavirus pand...</td>\n",
              "      <td>the outbreak of infectious diseases has always...</td>\n",
              "      <td>other studies in this area include nkengasong ...</td>\n",
              "    </tr>\n",
              "    <tr>\n",
              "      <th>3</th>\n",
              "      <td>4</td>\n",
              "      <td>cheer hierarchical taxonomic classification fo...</td>\n",
              "      <td>the fast accumulation of viral metagenomic dat...</td>\n",
              "      <td>metagenomic sequencing which allows us to dire...</td>\n",
              "      <td>the flow chart and a simplified tree classific...</td>\n",
              "    </tr>\n",
              "    <tr>\n",
              "      <th>4</th>\n",
              "      <td>5</td>\n",
              "      <td>impact of covid-19 pandemic on severity of ill...</td>\n",
              "      <td>objective describe the changes in patient popu...</td>\n",
              "      <td>since its emergence in december 2019 the novel...</td>\n",
              "      <td>patient characteristics comparing the pre-covi...</td>\n",
              "    </tr>\n",
              "    <tr>\n",
              "      <th>...</th>\n",
              "      <td>...</td>\n",
              "      <td>...</td>\n",
              "      <td>...</td>\n",
              "      <td>...</td>\n",
              "      <td>...</td>\n",
              "    </tr>\n",
              "    <tr>\n",
              "      <th>11385</th>\n",
              "      <td>13952</td>\n",
              "      <td>brief definitive report macrophages geneticall...</td>\n",
              "      <td>there is extensive evidence that cultured macr...</td>\n",
              "      <td>experiments were designed to test whether subs...</td>\n",
              "      <td>controls of c3h cells alone and c3h cells trea...</td>\n",
              "    </tr>\n",
              "    <tr>\n",
              "      <th>11386</th>\n",
              "      <td>13953</td>\n",
              "      <td>identification of a subdomain of cenpb that is...</td>\n",
              "      <td>we have combined in vivo and in vitro approach...</td>\n",
              "      <td>can function in an autonomous fashion relocati...</td>\n",
              "      <td>schematic representation of cenp-b constructs ...</td>\n",
              "    </tr>\n",
              "    <tr>\n",
              "      <th>11387</th>\n",
              "      <td>13954</td>\n",
              "      <td>a strategy to prevent future epidemics similar...</td>\n",
              "      <td>a novel bat-origin coronavirus emerged in wuha...</td>\n",
              "      <td>the emergence of a novel coronavirus 2019-ncov...</td>\n",
              "      <td>httpdxdoiorg101016jbsheal202001003 2590-0536© ...</td>\n",
              "    </tr>\n",
              "    <tr>\n",
              "      <th>11388</th>\n",
              "      <td>13955</td>\n",
              "      <td>replication enhancer elements within the open ...</td>\n",
              "      <td>we provide experimental evidence of a replicat...</td>\n",
              "      <td>tick-borne encephalitis virus  is a human path...</td>\n",
              "      <td>conservation of sl6 among the tbfvs  mfold-sim...</td>\n",
              "    </tr>\n",
              "    <tr>\n",
              "      <th>11389</th>\n",
              "      <td>13956</td>\n",
              "      <td>supplemental material for the paper evidence o...</td>\n",
              "      <td>israel corresponding author  tamirtulposttauac...</td>\n",
              "      <td>20min we trimmed the poly-a adaptors from the ...</td>\n",
              "      <td>coli and bacteriophage lambda expressed genes ...</td>\n",
              "    </tr>\n",
              "  </tbody>\n",
              "</table>\n",
              "<p>11390 rows × 5 columns</p>\n",
              "</div>"
            ],
            "text/plain": [
              "       Unnamed: 0  ...                                                ref\n",
              "0               0  ...  and-mouth disease virus  is a single stranded ...\n",
              "1               1  ...  ms is supported in part by the stephany w holl...\n",
              "2               3  ...  other studies in this area include nkengasong ...\n",
              "3               4  ...  the flow chart and a simplified tree classific...\n",
              "4               5  ...  patient characteristics comparing the pre-covi...\n",
              "...           ...  ...                                                ...\n",
              "11385       13952  ...  controls of c3h cells alone and c3h cells trea...\n",
              "11386       13953  ...  schematic representation of cenp-b constructs ...\n",
              "11387       13954  ...  httpdxdoiorg101016jbsheal202001003 2590-0536© ...\n",
              "11388       13955  ...  conservation of sl6 among the tbfvs  mfold-sim...\n",
              "11389       13956  ...  coli and bacteriophage lambda expressed genes ...\n",
              "\n",
              "[11390 rows x 5 columns]"
            ]
          },
          "metadata": {
            "tags": []
          },
          "execution_count": 5
        }
      ]
    },
    {
      "cell_type": "code",
      "metadata": {
        "id": "KDOW4khT2TcD",
        "colab_type": "code",
        "outputId": "3c5db7b9-f37a-4946-ce9a-e75ad7f65665",
        "colab": {
          "base_uri": "https://localhost:8080/",
          "height": 33
        }
      },
      "source": [
        "Corona_words = []\n",
        "Corona_words.append('pandemic')\n",
        "Corona_words.append('coronavirus')\n",
        "Corona_words.append('corona')\n",
        "Corona_words.append('covid-19')\n",
        "Corona_words.append('sars-cov-2')\n",
        "Corona_words"
      ],
      "execution_count": 0,
      "outputs": [
        {
          "output_type": "execute_result",
          "data": {
            "text/plain": [
              "['pandemic', 'coronavirus', 'corona', 'covid-19', 'sars-cov-2']"
            ]
          },
          "metadata": {
            "tags": []
          },
          "execution_count": 6
        }
      ]
    },
    {
      "cell_type": "code",
      "metadata": {
        "id": "zcjniKsYRv3U",
        "colab_type": "code",
        "colab": {}
      },
      "source": [
        "l_w=[]\n",
        "word1=wordnet.synsets(\"Transmission\")\n",
        "l_w.extend([l.name() for s in word1 for l in s.lemmas()])\n",
        "word1=wordnet.synsets(\"incubation\")\n",
        "l_w.extend([l.name() for s in word1 for l in s.lemmas()])\n",
        "word1=wordnet.synsets(\"environmental\")\n",
        "l_w.extend([l.name() for s in word1 for l in s.lemmas()])\n",
        "word1=wordnet.synsets(\"environment\")\n",
        "l_w.extend([l.name() for s in word1 for l in s.lemmas()])\n",
        "word1=wordnet.synsets(\"stability\")\n",
        "l_w.extend([l.name() for s in word1 for l in s.lemmas()])"
      ],
      "execution_count": 0,
      "outputs": []
    },
    {
      "cell_type": "code",
      "metadata": {
        "id": "iC8WH2Zwv1h2",
        "colab_type": "code",
        "outputId": "0db52c97-3747-467d-d19d-272266b73c74",
        "colab": {
          "base_uri": "https://localhost:8080/",
          "height": 300
        }
      },
      "source": [
        "l_w = set(l_w)\n",
        "l_w\n",
        "WordsList = list(l_w)\n",
        "WordsList"
      ],
      "execution_count": 0,
      "outputs": [
        {
          "output_type": "execute_result",
          "data": {
            "text/plain": [
              "['environs',\n",
              " 'transmitting',\n",
              " 'transmittal',\n",
              " 'contagion',\n",
              " 'incubation',\n",
              " 'transmittance',\n",
              " 'surround',\n",
              " 'infection',\n",
              " 'transmission',\n",
              " 'brooding',\n",
              " 'stability',\n",
              " 'stableness',\n",
              " 'surroundings',\n",
              " 'constancy',\n",
              " 'transmission_system',\n",
              " 'environmental',\n",
              " 'environment']"
            ]
          },
          "metadata": {
            "tags": []
          },
          "execution_count": 8
        }
      ]
    },
    {
      "cell_type": "code",
      "metadata": {
        "id": "S9LzUDksTsnm",
        "colab_type": "code",
        "colab": {}
      },
      "source": [
        "def isWordPresent(s,w):\n",
        "  if(type(s) == str):\n",
        "\n",
        "    s1= s.split()\n",
        "    if w in s1:\n",
        "       return True\n",
        "  return False\n",
        "\n"
      ],
      "execution_count": 0,
      "outputs": []
    },
    {
      "cell_type": "code",
      "metadata": {
        "id": "SpgK_puk3ljh",
        "colab_type": "code",
        "outputId": "3405487c-5ba5-4a59-e9a5-372985c00971",
        "colab": {
          "base_uri": "https://localhost:8080/",
          "height": 297
        }
      },
      "source": [
        "fname.head()"
      ],
      "execution_count": 0,
      "outputs": [
        {
          "output_type": "execute_result",
          "data": {
            "text/html": [
              "<div>\n",
              "<style scoped>\n",
              "    .dataframe tbody tr th:only-of-type {\n",
              "        vertical-align: middle;\n",
              "    }\n",
              "\n",
              "    .dataframe tbody tr th {\n",
              "        vertical-align: top;\n",
              "    }\n",
              "\n",
              "    .dataframe thead th {\n",
              "        text-align: right;\n",
              "    }\n",
              "</style>\n",
              "<table border=\"1\" class=\"dataframe\">\n",
              "  <thead>\n",
              "    <tr style=\"text-align: right;\">\n",
              "      <th></th>\n",
              "      <th>Unnamed: 0</th>\n",
              "      <th>title</th>\n",
              "      <th>abstract</th>\n",
              "      <th>body_text</th>\n",
              "      <th>ref</th>\n",
              "    </tr>\n",
              "  </thead>\n",
              "  <tbody>\n",
              "    <tr>\n",
              "      <th>0</th>\n",
              "      <td>0</td>\n",
              "      <td>the rna pseudoknots in foot-and-mouth disease ...</td>\n",
              "      <td>word count 194 22 text word count 5168 23 24 2...</td>\n",
              "      <td>vp3 and vp0   the p2 64 and p3 regions encode ...</td>\n",
              "      <td>and-mouth disease virus  is a single stranded ...</td>\n",
              "    </tr>\n",
              "    <tr>\n",
              "      <th>1</th>\n",
              "      <td>1</td>\n",
              "      <td>analysis title regaining perspective on sars-c...</td>\n",
              "      <td>during the past three months a new coronavirus...</td>\n",
              "      <td>in december 2019 a novel coronavirus sars-cov-...</td>\n",
              "      <td>ms is supported in part by the stephany w holl...</td>\n",
              "    </tr>\n",
              "    <tr>\n",
              "      <th>2</th>\n",
              "      <td>3</td>\n",
              "      <td>relationship between average daily temperature...</td>\n",
              "      <td>the rapid outbreak of the new coronavirus pand...</td>\n",
              "      <td>the outbreak of infectious diseases has always...</td>\n",
              "      <td>other studies in this area include nkengasong ...</td>\n",
              "    </tr>\n",
              "    <tr>\n",
              "      <th>3</th>\n",
              "      <td>4</td>\n",
              "      <td>cheer hierarchical taxonomic classification fo...</td>\n",
              "      <td>the fast accumulation of viral metagenomic dat...</td>\n",
              "      <td>metagenomic sequencing which allows us to dire...</td>\n",
              "      <td>the flow chart and a simplified tree classific...</td>\n",
              "    </tr>\n",
              "    <tr>\n",
              "      <th>4</th>\n",
              "      <td>5</td>\n",
              "      <td>impact of covid-19 pandemic on severity of ill...</td>\n",
              "      <td>objective describe the changes in patient popu...</td>\n",
              "      <td>since its emergence in december 2019 the novel...</td>\n",
              "      <td>patient characteristics comparing the pre-covi...</td>\n",
              "    </tr>\n",
              "  </tbody>\n",
              "</table>\n",
              "</div>"
            ],
            "text/plain": [
              "   Unnamed: 0  ...                                                ref\n",
              "0           0  ...  and-mouth disease virus  is a single stranded ...\n",
              "1           1  ...  ms is supported in part by the stephany w holl...\n",
              "2           3  ...  other studies in this area include nkengasong ...\n",
              "3           4  ...  the flow chart and a simplified tree classific...\n",
              "4           5  ...  patient characteristics comparing the pre-covi...\n",
              "\n",
              "[5 rows x 5 columns]"
            ]
          },
          "metadata": {
            "tags": []
          },
          "execution_count": 10
        }
      ]
    },
    {
      "cell_type": "code",
      "metadata": {
        "id": "wW0cQ1JL3tG3",
        "colab_type": "code",
        "colab": {}
      },
      "source": [
        "body_text_list = fname['body_text'].tolist()\n",
        "list_contain = []\n",
        "for i in range(len(body_text_list)):\n",
        "    for j in range(len(Corona_words)):\n",
        "        if(isWordPresent(body_text_list[i], Corona_words[j])):\n",
        "            list_contain.append(i)\n",
        "\n",
        "list_contain_corona_words = list(set(list_contain))"
      ],
      "execution_count": 0,
      "outputs": []
    },
    {
      "cell_type": "code",
      "metadata": {
        "id": "YNIdkwaO4Sr2",
        "colab_type": "code",
        "outputId": "cb0bcc15-143c-4bf9-c130-3f1cebfa6dcc",
        "colab": {
          "base_uri": "https://localhost:8080/",
          "height": 33
        }
      },
      "source": [
        "len(list_contain_corona_words)"
      ],
      "execution_count": 0,
      "outputs": [
        {
          "output_type": "execute_result",
          "data": {
            "text/plain": [
              "6215"
            ]
          },
          "metadata": {
            "tags": []
          },
          "execution_count": 12
        }
      ]
    },
    {
      "cell_type": "code",
      "metadata": {
        "id": "Z9g1TWnn89Xi",
        "colab_type": "code",
        "colab": {}
      },
      "source": [
        "fname = fname.drop([\"Unnamed: 0\"], axis = 1)"
      ],
      "execution_count": 0,
      "outputs": []
    },
    {
      "cell_type": "code",
      "metadata": {
        "id": "uSbyZWQZ5By9",
        "colab_type": "code",
        "colab": {}
      },
      "source": [
        "new_df = fname.loc[list_contain_corona_words, :]"
      ],
      "execution_count": 0,
      "outputs": []
    },
    {
      "cell_type": "code",
      "metadata": {
        "id": "8UM5jdbi7LrJ",
        "colab_type": "code",
        "colab": {}
      },
      "source": [
        "body_text_list = new_df['body_text'].tolist()\n",
        "list_contain = []\n",
        "for i in range(len(body_text_list)):\n",
        "    for j in range(len(WordsList)):\n",
        "        if(isWordPresent(body_text_list[i], WordsList[j])):\n",
        "            list_contain.append(i)\n",
        "\n",
        "list_contain_task_words = list(set(list_contain))"
      ],
      "execution_count": 0,
      "outputs": []
    },
    {
      "cell_type": "code",
      "metadata": {
        "id": "jqld0Rny_Mr3",
        "colab_type": "code",
        "outputId": "479b6d80-0a8c-4202-c54e-7ba5f0d62d5f",
        "colab": {
          "base_uri": "https://localhost:8080/",
          "height": 33
        }
      },
      "source": [
        "len(list_contain_task_words)"
      ],
      "execution_count": 0,
      "outputs": [
        {
          "output_type": "execute_result",
          "data": {
            "text/plain": [
              "5874"
            ]
          },
          "metadata": {
            "tags": []
          },
          "execution_count": 16
        }
      ]
    },
    {
      "cell_type": "code",
      "metadata": {
        "id": "JNhAmAHp_iby",
        "colab_type": "code",
        "outputId": "14ea491f-b2b1-4f1e-d1a5-5a24defd410f",
        "colab": {
          "base_uri": "https://localhost:8080/",
          "height": 281
        }
      },
      "source": [
        "new_df.head()"
      ],
      "execution_count": 0,
      "outputs": [
        {
          "output_type": "execute_result",
          "data": {
            "text/html": [
              "<div>\n",
              "<style scoped>\n",
              "    .dataframe tbody tr th:only-of-type {\n",
              "        vertical-align: middle;\n",
              "    }\n",
              "\n",
              "    .dataframe tbody tr th {\n",
              "        vertical-align: top;\n",
              "    }\n",
              "\n",
              "    .dataframe thead th {\n",
              "        text-align: right;\n",
              "    }\n",
              "</style>\n",
              "<table border=\"1\" class=\"dataframe\">\n",
              "  <thead>\n",
              "    <tr style=\"text-align: right;\">\n",
              "      <th></th>\n",
              "      <th>title</th>\n",
              "      <th>abstract</th>\n",
              "      <th>body_text</th>\n",
              "      <th>ref</th>\n",
              "    </tr>\n",
              "  </thead>\n",
              "  <tbody>\n",
              "    <tr>\n",
              "      <th>1</th>\n",
              "      <td>analysis title regaining perspective on sars-c...</td>\n",
              "      <td>during the past three months a new coronavirus...</td>\n",
              "      <td>in december 2019 a novel coronavirus sars-cov-...</td>\n",
              "      <td>ms is supported in part by the stephany w holl...</td>\n",
              "    </tr>\n",
              "    <tr>\n",
              "      <th>2</th>\n",
              "      <td>relationship between average daily temperature...</td>\n",
              "      <td>the rapid outbreak of the new coronavirus pand...</td>\n",
              "      <td>the outbreak of infectious diseases has always...</td>\n",
              "      <td>other studies in this area include nkengasong ...</td>\n",
              "    </tr>\n",
              "    <tr>\n",
              "      <th>4</th>\n",
              "      <td>impact of covid-19 pandemic on severity of ill...</td>\n",
              "      <td>objective describe the changes in patient popu...</td>\n",
              "      <td>since its emergence in december 2019 the novel...</td>\n",
              "      <td>patient characteristics comparing the pre-covi...</td>\n",
              "    </tr>\n",
              "    <tr>\n",
              "      <th>7</th>\n",
              "      <td>assessing spread risk of wuhan novel coronavir...</td>\n",
              "      <td>background a novel coronavirus  emerged in wuh...</td>\n",
              "      <td>in december 2019 a cluster of patients with pn...</td>\n",
              "      <td>february 1 st  2020 reported by singapore  sou...</td>\n",
              "    </tr>\n",
              "    <tr>\n",
              "      <th>8</th>\n",
              "      <td>forecasting the worldwide spread of covid-19 b...</td>\n",
              "      <td>background with the outbreak of coronavirus di...</td>\n",
              "      <td>a novel coronavirus caused pneumonia cases in ...</td>\n",
              "      <td>including italy south korea iran and france th...</td>\n",
              "    </tr>\n",
              "  </tbody>\n",
              "</table>\n",
              "</div>"
            ],
            "text/plain": [
              "                                               title  ...                                                ref\n",
              "1  analysis title regaining perspective on sars-c...  ...  ms is supported in part by the stephany w holl...\n",
              "2  relationship between average daily temperature...  ...  other studies in this area include nkengasong ...\n",
              "4  impact of covid-19 pandemic on severity of ill...  ...  patient characteristics comparing the pre-covi...\n",
              "7  assessing spread risk of wuhan novel coronavir...  ...  february 1 st  2020 reported by singapore  sou...\n",
              "8  forecasting the worldwide spread of covid-19 b...  ...  including italy south korea iran and france th...\n",
              "\n",
              "[5 rows x 4 columns]"
            ]
          },
          "metadata": {
            "tags": []
          },
          "execution_count": 17
        }
      ]
    },
    {
      "cell_type": "code",
      "metadata": {
        "id": "s0WX6Qan-1Cf",
        "colab_type": "code",
        "colab": {}
      },
      "source": [
        "final_df = new_df.iloc[list_contain_task_words, :]"
      ],
      "execution_count": 0,
      "outputs": []
    },
    {
      "cell_type": "code",
      "metadata": {
        "id": "9MsMMkTV_L6K",
        "colab_type": "code",
        "outputId": "90e16c4a-338f-46c1-a81e-4f3d7d9cc4b4",
        "colab": {
          "base_uri": "https://localhost:8080/",
          "height": 33
        }
      },
      "source": [
        "final_df.shape"
      ],
      "execution_count": 0,
      "outputs": [
        {
          "output_type": "execute_result",
          "data": {
            "text/plain": [
              "(5874, 4)"
            ]
          },
          "metadata": {
            "tags": []
          },
          "execution_count": 19
        }
      ]
    },
    {
      "cell_type": "code",
      "metadata": {
        "id": "etov0E44_IPi",
        "colab_type": "code",
        "outputId": "838e30cc-35f7-48af-94b2-830a7ebe3ed7",
        "colab": {
          "base_uri": "https://localhost:8080/",
          "height": 136
        }
      },
      "source": [
        "import nltk\n",
        "\n",
        "w_tokenizer = nltk.tokenize.WhitespaceTokenizer()\n",
        "lemmatizer = nltk.stem.WordNetLemmatizer()\n",
        "\n",
        "def lemmatize_text(text):\n",
        "    return [lemmatizer.lemmatize(w) for w in w_tokenizer.tokenize(text)]\n",
        "final_df['text_lemmatized'] = final_df.body_text.apply(lemmatize_text)"
      ],
      "execution_count": 0,
      "outputs": [
        {
          "output_type": "stream",
          "text": [
            "/usr/local/lib/python3.6/dist-packages/ipykernel_launcher.py:8: SettingWithCopyWarning: \n",
            "A value is trying to be set on a copy of a slice from a DataFrame.\n",
            "Try using .loc[row_indexer,col_indexer] = value instead\n",
            "\n",
            "See the caveats in the documentation: https://pandas.pydata.org/pandas-docs/stable/user_guide/indexing.html#returning-a-view-versus-a-copy\n",
            "  \n"
          ],
          "name": "stderr"
        }
      ]
    },
    {
      "cell_type": "code",
      "metadata": {
        "id": "01f5LUDCU29f",
        "colab_type": "code",
        "colab": {}
      },
      "source": [
        "final_df.to_csv(\"/content/drive/My Drive/Covid/final_lemmetized_df.csv\")"
      ],
      "execution_count": 0,
      "outputs": []
    },
    {
      "cell_type": "code",
      "metadata": {
        "id": "bP7Vv9_bD01f",
        "colab_type": "code",
        "outputId": "f1dbf28c-f7a4-4734-9acb-eef8dfb5b98b",
        "colab": {
          "base_uri": "https://localhost:8080/",
          "height": 281
        }
      },
      "source": [
        "final_df.head()"
      ],
      "execution_count": 0,
      "outputs": [
        {
          "output_type": "execute_result",
          "data": {
            "text/html": [
              "<div>\n",
              "<style scoped>\n",
              "    .dataframe tbody tr th:only-of-type {\n",
              "        vertical-align: middle;\n",
              "    }\n",
              "\n",
              "    .dataframe tbody tr th {\n",
              "        vertical-align: top;\n",
              "    }\n",
              "\n",
              "    .dataframe thead th {\n",
              "        text-align: right;\n",
              "    }\n",
              "</style>\n",
              "<table border=\"1\" class=\"dataframe\">\n",
              "  <thead>\n",
              "    <tr style=\"text-align: right;\">\n",
              "      <th></th>\n",
              "      <th>title</th>\n",
              "      <th>abstract</th>\n",
              "      <th>body_text</th>\n",
              "      <th>ref</th>\n",
              "      <th>text_lemmatized</th>\n",
              "    </tr>\n",
              "  </thead>\n",
              "  <tbody>\n",
              "    <tr>\n",
              "      <th>1</th>\n",
              "      <td>analysis title regaining perspective on sars-c...</td>\n",
              "      <td>during the past three months a new coronavirus...</td>\n",
              "      <td>in december 2019 a novel coronavirus sars-cov-...</td>\n",
              "      <td>ms is supported in part by the stephany w holl...</td>\n",
              "      <td>[in, december, 2019, a, novel, coronavirus, sa...</td>\n",
              "    </tr>\n",
              "    <tr>\n",
              "      <th>2</th>\n",
              "      <td>relationship between average daily temperature...</td>\n",
              "      <td>the rapid outbreak of the new coronavirus pand...</td>\n",
              "      <td>the outbreak of infectious diseases has always...</td>\n",
              "      <td>other studies in this area include nkengasong ...</td>\n",
              "      <td>[the, outbreak, of, infectious, disease, ha, a...</td>\n",
              "    </tr>\n",
              "    <tr>\n",
              "      <th>7</th>\n",
              "      <td>assessing spread risk of wuhan novel coronavir...</td>\n",
              "      <td>background a novel coronavirus  emerged in wuh...</td>\n",
              "      <td>in december 2019 a cluster of patients with pn...</td>\n",
              "      <td>february 1 st  2020 reported by singapore  sou...</td>\n",
              "      <td>[in, december, 2019, a, cluster, of, patient, ...</td>\n",
              "    </tr>\n",
              "    <tr>\n",
              "      <th>8</th>\n",
              "      <td>forecasting the worldwide spread of covid-19 b...</td>\n",
              "      <td>background with the outbreak of coronavirus di...</td>\n",
              "      <td>a novel coronavirus caused pneumonia cases in ...</td>\n",
              "      <td>including italy south korea iran and france th...</td>\n",
              "      <td>[a, novel, coronavirus, caused, pneumonia, cas...</td>\n",
              "    </tr>\n",
              "    <tr>\n",
              "      <th>9</th>\n",
              "      <td>title the early scientific literature response...</td>\n",
              "      <td>all rights reserved no reuse allowed without p...</td>\n",
              "      <td>recent events highlight how emerging and re-em...</td>\n",
              "      <td>moher d liberati a tetzlaff j altman dg the pr...</td>\n",
              "      <td>[recent, event, highlight, how, emerging, and,...</td>\n",
              "    </tr>\n",
              "  </tbody>\n",
              "</table>\n",
              "</div>"
            ],
            "text/plain": [
              "                                               title  ...                                    text_lemmatized\n",
              "1  analysis title regaining perspective on sars-c...  ...  [in, december, 2019, a, novel, coronavirus, sa...\n",
              "2  relationship between average daily temperature...  ...  [the, outbreak, of, infectious, disease, ha, a...\n",
              "7  assessing spread risk of wuhan novel coronavir...  ...  [in, december, 2019, a, cluster, of, patient, ...\n",
              "8  forecasting the worldwide spread of covid-19 b...  ...  [a, novel, coronavirus, caused, pneumonia, cas...\n",
              "9  title the early scientific literature response...  ...  [recent, event, highlight, how, emerging, and,...\n",
              "\n",
              "[5 rows x 5 columns]"
            ]
          },
          "metadata": {
            "tags": []
          },
          "execution_count": 22
        }
      ]
    },
    {
      "cell_type": "code",
      "metadata": {
        "id": "jS9r11mhRpCb",
        "colab_type": "code",
        "outputId": "ab0ba0a1-8804-4bdb-cb2d-89e8ccecd184",
        "colab": {
          "base_uri": "https://localhost:8080/",
          "height": 33
        }
      },
      "source": [
        "final_df.shape"
      ],
      "execution_count": 0,
      "outputs": [
        {
          "output_type": "execute_result",
          "data": {
            "text/plain": [
              "(5874, 5)"
            ]
          },
          "metadata": {
            "tags": []
          },
          "execution_count": 23
        }
      ]
    },
    {
      "cell_type": "markdown",
      "metadata": {
        "id": "Wf5ys7Ptt8U-",
        "colab_type": "text"
      },
      "source": [
        "## Day2"
      ]
    },
    {
      "cell_type": "code",
      "metadata": {
        "id": "jnC1XuyTRbxx",
        "colab_type": "code",
        "colab": {}
      },
      "source": [
        "from google.colab import drive\n",
        "drive.mount('/content/drive')"
      ],
      "execution_count": 0,
      "outputs": []
    },
    {
      "cell_type": "code",
      "metadata": {
        "id": "j1-NYzfcSYt4",
        "colab_type": "code",
        "colab": {}
      },
      "source": [
        "import numpy as np\n",
        "import pandas as pd\n",
        "\n",
        "df = pd.read_csv('/content/drive/My Drive/Covid/final_lemmetized_df.csv')"
      ],
      "execution_count": 0,
      "outputs": []
    },
    {
      "cell_type": "code",
      "metadata": {
        "id": "eH5pQakG3ujf",
        "colab_type": "code",
        "outputId": "36c29c4b-77c0-406d-ba9c-7c296c21be06",
        "colab": {
          "base_uri": "https://localhost:8080/",
          "height": 310
        }
      },
      "source": [
        "df.head()"
      ],
      "execution_count": 0,
      "outputs": [
        {
          "output_type": "execute_result",
          "data": {
            "text/html": [
              "<div>\n",
              "<style scoped>\n",
              "    .dataframe tbody tr th:only-of-type {\n",
              "        vertical-align: middle;\n",
              "    }\n",
              "\n",
              "    .dataframe tbody tr th {\n",
              "        vertical-align: top;\n",
              "    }\n",
              "\n",
              "    .dataframe thead th {\n",
              "        text-align: right;\n",
              "    }\n",
              "</style>\n",
              "<table border=\"1\" class=\"dataframe\">\n",
              "  <thead>\n",
              "    <tr style=\"text-align: right;\">\n",
              "      <th></th>\n",
              "      <th>Unnamed: 0</th>\n",
              "      <th>title</th>\n",
              "      <th>abstract</th>\n",
              "      <th>body_text</th>\n",
              "      <th>ref</th>\n",
              "      <th>text_lemmatized</th>\n",
              "    </tr>\n",
              "  </thead>\n",
              "  <tbody>\n",
              "    <tr>\n",
              "      <th>0</th>\n",
              "      <td>1</td>\n",
              "      <td>analysis title regaining perspective on sars-c...</td>\n",
              "      <td>during the past three months a new coronavirus...</td>\n",
              "      <td>in december 2019 a novel coronavirus sars-cov-...</td>\n",
              "      <td>ms is supported in part by the stephany w holl...</td>\n",
              "      <td>['in', 'december', '2019', 'a', 'novel', 'coro...</td>\n",
              "    </tr>\n",
              "    <tr>\n",
              "      <th>1</th>\n",
              "      <td>2</td>\n",
              "      <td>relationship between average daily temperature...</td>\n",
              "      <td>the rapid outbreak of the new coronavirus pand...</td>\n",
              "      <td>the outbreak of infectious diseases has always...</td>\n",
              "      <td>other studies in this area include nkengasong ...</td>\n",
              "      <td>['the', 'outbreak', 'of', 'infectious', 'disea...</td>\n",
              "    </tr>\n",
              "    <tr>\n",
              "      <th>2</th>\n",
              "      <td>7</td>\n",
              "      <td>assessing spread risk of wuhan novel coronavir...</td>\n",
              "      <td>background a novel coronavirus  emerged in wuh...</td>\n",
              "      <td>in december 2019 a cluster of patients with pn...</td>\n",
              "      <td>february 1 st  2020 reported by singapore  sou...</td>\n",
              "      <td>['in', 'december', '2019', 'a', 'cluster', 'of...</td>\n",
              "    </tr>\n",
              "    <tr>\n",
              "      <th>3</th>\n",
              "      <td>8</td>\n",
              "      <td>forecasting the worldwide spread of covid-19 b...</td>\n",
              "      <td>background with the outbreak of coronavirus di...</td>\n",
              "      <td>a novel coronavirus caused pneumonia cases in ...</td>\n",
              "      <td>including italy south korea iran and france th...</td>\n",
              "      <td>['a', 'novel', 'coronavirus', 'caused', 'pneum...</td>\n",
              "    </tr>\n",
              "    <tr>\n",
              "      <th>4</th>\n",
              "      <td>9</td>\n",
              "      <td>title the early scientific literature response...</td>\n",
              "      <td>all rights reserved no reuse allowed without p...</td>\n",
              "      <td>recent events highlight how emerging and re-em...</td>\n",
              "      <td>moher d liberati a tetzlaff j altman dg the pr...</td>\n",
              "      <td>['recent', 'event', 'highlight', 'how', 'emerg...</td>\n",
              "    </tr>\n",
              "  </tbody>\n",
              "</table>\n",
              "</div>"
            ],
            "text/plain": [
              "   Unnamed: 0  ...                                    text_lemmatized\n",
              "0           1  ...  ['in', 'december', '2019', 'a', 'novel', 'coro...\n",
              "1           2  ...  ['the', 'outbreak', 'of', 'infectious', 'disea...\n",
              "2           7  ...  ['in', 'december', '2019', 'a', 'cluster', 'of...\n",
              "3           8  ...  ['a', 'novel', 'coronavirus', 'caused', 'pneum...\n",
              "4           9  ...  ['recent', 'event', 'highlight', 'how', 'emerg...\n",
              "\n",
              "[5 rows x 6 columns]"
            ]
          },
          "metadata": {
            "tags": []
          },
          "execution_count": 13
        }
      ]
    },
    {
      "cell_type": "code",
      "metadata": {
        "id": "MtNvJU9-3usn",
        "colab_type": "code",
        "outputId": "4b856099-2e09-481d-ffb9-7167267d68f0",
        "colab": {
          "base_uri": "https://localhost:8080/",
          "height": 1000
        }
      },
      "source": [
        "!pip install ktrain"
      ],
      "execution_count": 0,
      "outputs": [
        {
          "output_type": "stream",
          "text": [
            "Requirement already satisfied: ktrain in /usr/local/lib/python3.6/dist-packages (0.15.2)\n",
            "Requirement already satisfied: requests in /usr/local/lib/python3.6/dist-packages (from ktrain) (2.23.0)\n",
            "Requirement already satisfied: keras-bert>=0.81.0 in /usr/local/lib/python3.6/dist-packages (from ktrain) (0.81.0)\n",
            "Requirement already satisfied: joblib in /usr/local/lib/python3.6/dist-packages (from ktrain) (0.15.1)\n",
            "Requirement already satisfied: seqeval in /usr/local/lib/python3.6/dist-packages (from ktrain) (0.0.12)\n",
            "Requirement already satisfied: jieba in /usr/local/lib/python3.6/dist-packages (from ktrain) (0.42.1)\n",
            "Requirement already satisfied: transformers>=2.7.0 in /usr/local/lib/python3.6/dist-packages (from ktrain) (2.8.0)\n",
            "Requirement already satisfied: cchardet==2.1.5 in /usr/local/lib/python3.6/dist-packages (from ktrain) (2.1.5)\n",
            "Requirement already satisfied: tensorflow==2.1.0 in /usr/local/lib/python3.6/dist-packages (from ktrain) (2.1.0)\n",
            "Requirement already satisfied: fastprogress>=0.1.21 in /usr/local/lib/python3.6/dist-packages (from ktrain) (0.2.3)\n",
            "Requirement already satisfied: matplotlib>=3.0.0 in /usr/local/lib/python3.6/dist-packages (from ktrain) (3.2.1)\n",
            "Requirement already satisfied: tensorflow-datasets in /usr/local/lib/python3.6/dist-packages (from ktrain) (2.1.0)\n",
            "Requirement already satisfied: langdetect in /usr/local/lib/python3.6/dist-packages (from ktrain) (1.0.8)\n",
            "Requirement already satisfied: syntok in /usr/local/lib/python3.6/dist-packages (from ktrain) (1.3.1)\n",
            "Requirement already satisfied: ipython in /usr/local/lib/python3.6/dist-packages (from ktrain) (5.5.0)\n",
            "Requirement already satisfied: whoosh in /usr/local/lib/python3.6/dist-packages (from ktrain) (2.7.4)\n",
            "Requirement already satisfied: pandas>=1.0.1 in /usr/local/lib/python3.6/dist-packages (from ktrain) (1.0.3)\n",
            "Requirement already satisfied: packaging in /usr/local/lib/python3.6/dist-packages (from ktrain) (20.4)\n",
            "Requirement already satisfied: networkx>=2.3 in /usr/local/lib/python3.6/dist-packages (from ktrain) (2.4)\n",
            "Requirement already satisfied: bokeh in /usr/local/lib/python3.6/dist-packages (from ktrain) (1.4.0)\n",
            "Requirement already satisfied: scikit-learn==0.21.3 in /usr/local/lib/python3.6/dist-packages (from ktrain) (0.21.3)\n",
            "Requirement already satisfied: chardet<4,>=3.0.2 in /usr/local/lib/python3.6/dist-packages (from requests->ktrain) (3.0.4)\n",
            "Requirement already satisfied: urllib3!=1.25.0,!=1.25.1,<1.26,>=1.21.1 in /usr/local/lib/python3.6/dist-packages (from requests->ktrain) (1.24.3)\n",
            "Requirement already satisfied: certifi>=2017.4.17 in /usr/local/lib/python3.6/dist-packages (from requests->ktrain) (2020.4.5.1)\n",
            "Requirement already satisfied: idna<3,>=2.5 in /usr/local/lib/python3.6/dist-packages (from requests->ktrain) (2.9)\n",
            "Requirement already satisfied: Keras in /usr/local/lib/python3.6/dist-packages (from keras-bert>=0.81.0->ktrain) (2.3.1)\n",
            "Requirement already satisfied: keras-transformer>=0.30.0 in /usr/local/lib/python3.6/dist-packages (from keras-bert>=0.81.0->ktrain) (0.33.0)\n",
            "Requirement already satisfied: numpy in /usr/local/lib/python3.6/dist-packages (from keras-bert>=0.81.0->ktrain) (1.18.4)\n",
            "Requirement already satisfied: tokenizers==0.5.2 in /usr/local/lib/python3.6/dist-packages (from transformers>=2.7.0->ktrain) (0.5.2)\n",
            "Requirement already satisfied: sacremoses in /usr/local/lib/python3.6/dist-packages (from transformers>=2.7.0->ktrain) (0.0.43)\n",
            "Requirement already satisfied: boto3 in /usr/local/lib/python3.6/dist-packages (from transformers>=2.7.0->ktrain) (1.13.13)\n",
            "Requirement already satisfied: dataclasses; python_version < \"3.7\" in /usr/local/lib/python3.6/dist-packages (from transformers>=2.7.0->ktrain) (0.7)\n",
            "Requirement already satisfied: regex!=2019.12.17 in /usr/local/lib/python3.6/dist-packages (from transformers>=2.7.0->ktrain) (2019.12.20)\n",
            "Requirement already satisfied: sentencepiece in /usr/local/lib/python3.6/dist-packages (from transformers>=2.7.0->ktrain) (0.1.91)\n",
            "Requirement already satisfied: filelock in /usr/local/lib/python3.6/dist-packages (from transformers>=2.7.0->ktrain) (3.0.12)\n",
            "Requirement already satisfied: tqdm>=4.27 in /usr/local/lib/python3.6/dist-packages (from transformers>=2.7.0->ktrain) (4.41.1)\n",
            "Requirement already satisfied: termcolor>=1.1.0 in /usr/local/lib/python3.6/dist-packages (from tensorflow==2.1.0->ktrain) (1.1.0)\n",
            "Requirement already satisfied: wheel>=0.26; python_version >= \"3\" in /usr/local/lib/python3.6/dist-packages (from tensorflow==2.1.0->ktrain) (0.34.2)\n",
            "Requirement already satisfied: six>=1.12.0 in /usr/local/lib/python3.6/dist-packages (from tensorflow==2.1.0->ktrain) (1.12.0)\n",
            "Requirement already satisfied: keras-preprocessing>=1.1.0 in /usr/local/lib/python3.6/dist-packages (from tensorflow==2.1.0->ktrain) (1.1.2)\n",
            "Requirement already satisfied: absl-py>=0.7.0 in /usr/local/lib/python3.6/dist-packages (from tensorflow==2.1.0->ktrain) (0.9.0)\n",
            "Requirement already satisfied: tensorboard<2.2.0,>=2.1.0 in /usr/local/lib/python3.6/dist-packages (from tensorflow==2.1.0->ktrain) (2.1.1)\n",
            "Requirement already satisfied: grpcio>=1.8.6 in /usr/local/lib/python3.6/dist-packages (from tensorflow==2.1.0->ktrain) (1.29.0)\n",
            "Requirement already satisfied: protobuf>=3.8.0 in /usr/local/lib/python3.6/dist-packages (from tensorflow==2.1.0->ktrain) (3.10.0)\n",
            "Requirement already satisfied: gast==0.2.2 in /usr/local/lib/python3.6/dist-packages (from tensorflow==2.1.0->ktrain) (0.2.2)\n",
            "Requirement already satisfied: google-pasta>=0.1.6 in /usr/local/lib/python3.6/dist-packages (from tensorflow==2.1.0->ktrain) (0.2.0)\n",
            "Requirement already satisfied: opt-einsum>=2.3.2 in /usr/local/lib/python3.6/dist-packages (from tensorflow==2.1.0->ktrain) (3.2.1)\n",
            "Requirement already satisfied: wrapt>=1.11.1 in /usr/local/lib/python3.6/dist-packages (from tensorflow==2.1.0->ktrain) (1.12.1)\n",
            "Requirement already satisfied: scipy==1.4.1; python_version >= \"3\" in /usr/local/lib/python3.6/dist-packages (from tensorflow==2.1.0->ktrain) (1.4.1)\n",
            "Requirement already satisfied: tensorflow-estimator<2.2.0,>=2.1.0rc0 in /usr/local/lib/python3.6/dist-packages (from tensorflow==2.1.0->ktrain) (2.1.0)\n",
            "Requirement already satisfied: keras-applications>=1.0.8 in /usr/local/lib/python3.6/dist-packages (from tensorflow==2.1.0->ktrain) (1.0.8)\n",
            "Requirement already satisfied: astor>=0.6.0 in /usr/local/lib/python3.6/dist-packages (from tensorflow==2.1.0->ktrain) (0.8.1)\n",
            "Requirement already satisfied: cycler>=0.10 in /usr/local/lib/python3.6/dist-packages (from matplotlib>=3.0.0->ktrain) (0.10.0)\n",
            "Requirement already satisfied: kiwisolver>=1.0.1 in /usr/local/lib/python3.6/dist-packages (from matplotlib>=3.0.0->ktrain) (1.2.0)\n",
            "Requirement already satisfied: pyparsing!=2.0.4,!=2.1.2,!=2.1.6,>=2.0.1 in /usr/local/lib/python3.6/dist-packages (from matplotlib>=3.0.0->ktrain) (2.4.7)\n",
            "Requirement already satisfied: python-dateutil>=2.1 in /usr/local/lib/python3.6/dist-packages (from matplotlib>=3.0.0->ktrain) (2.8.1)\n",
            "Requirement already satisfied: tensorflow-metadata in /usr/local/lib/python3.6/dist-packages (from tensorflow-datasets->ktrain) (0.22.0)\n",
            "Requirement already satisfied: future in /usr/local/lib/python3.6/dist-packages (from tensorflow-datasets->ktrain) (0.16.0)\n",
            "Requirement already satisfied: promise in /usr/local/lib/python3.6/dist-packages (from tensorflow-datasets->ktrain) (2.3)\n",
            "Requirement already satisfied: dill in /usr/local/lib/python3.6/dist-packages (from tensorflow-datasets->ktrain) (0.3.1.1)\n",
            "Requirement already satisfied: attrs>=18.1.0 in /usr/local/lib/python3.6/dist-packages (from tensorflow-datasets->ktrain) (19.3.0)\n",
            "Requirement already satisfied: simplegeneric>0.8 in /usr/local/lib/python3.6/dist-packages (from ipython->ktrain) (0.8.1)\n",
            "Requirement already satisfied: prompt-toolkit<2.0.0,>=1.0.4 in /usr/local/lib/python3.6/dist-packages (from ipython->ktrain) (1.0.18)\n",
            "Requirement already satisfied: pickleshare in /usr/local/lib/python3.6/dist-packages (from ipython->ktrain) (0.7.5)\n",
            "Requirement already satisfied: pygments in /usr/local/lib/python3.6/dist-packages (from ipython->ktrain) (2.1.3)\n",
            "Requirement already satisfied: pexpect; sys_platform != \"win32\" in /usr/local/lib/python3.6/dist-packages (from ipython->ktrain) (4.8.0)\n",
            "Requirement already satisfied: traitlets>=4.2 in /usr/local/lib/python3.6/dist-packages (from ipython->ktrain) (4.3.3)\n",
            "Requirement already satisfied: decorator in /usr/local/lib/python3.6/dist-packages (from ipython->ktrain) (4.4.2)\n",
            "Requirement already satisfied: setuptools>=18.5 in /usr/local/lib/python3.6/dist-packages (from ipython->ktrain) (46.3.0)\n",
            "Requirement already satisfied: pytz>=2017.2 in /usr/local/lib/python3.6/dist-packages (from pandas>=1.0.1->ktrain) (2018.9)\n",
            "Requirement already satisfied: tornado>=4.3 in /usr/local/lib/python3.6/dist-packages (from bokeh->ktrain) (4.5.3)\n",
            "Requirement already satisfied: Jinja2>=2.7 in /usr/local/lib/python3.6/dist-packages (from bokeh->ktrain) (2.11.2)\n",
            "Requirement already satisfied: PyYAML>=3.10 in /usr/local/lib/python3.6/dist-packages (from bokeh->ktrain) (3.13)\n",
            "Requirement already satisfied: pillow>=4.0 in /usr/local/lib/python3.6/dist-packages (from bokeh->ktrain) (7.0.0)\n",
            "Requirement already satisfied: h5py in /usr/local/lib/python3.6/dist-packages (from Keras->keras-bert>=0.81.0->ktrain) (2.10.0)\n",
            "Requirement already satisfied: keras-multi-head>=0.22.0 in /usr/local/lib/python3.6/dist-packages (from keras-transformer>=0.30.0->keras-bert>=0.81.0->ktrain) (0.24.0)\n",
            "Requirement already satisfied: keras-position-wise-feed-forward>=0.5.0 in /usr/local/lib/python3.6/dist-packages (from keras-transformer>=0.30.0->keras-bert>=0.81.0->ktrain) (0.6.0)\n",
            "Requirement already satisfied: keras-embed-sim>=0.7.0 in /usr/local/lib/python3.6/dist-packages (from keras-transformer>=0.30.0->keras-bert>=0.81.0->ktrain) (0.7.0)\n",
            "Requirement already satisfied: keras-pos-embd>=0.10.0 in /usr/local/lib/python3.6/dist-packages (from keras-transformer>=0.30.0->keras-bert>=0.81.0->ktrain) (0.11.0)\n",
            "Requirement already satisfied: keras-layer-normalization>=0.12.0 in /usr/local/lib/python3.6/dist-packages (from keras-transformer>=0.30.0->keras-bert>=0.81.0->ktrain) (0.14.0)\n",
            "Requirement already satisfied: click in /usr/local/lib/python3.6/dist-packages (from sacremoses->transformers>=2.7.0->ktrain) (7.1.2)\n",
            "Requirement already satisfied: botocore<1.17.0,>=1.16.13 in /usr/local/lib/python3.6/dist-packages (from boto3->transformers>=2.7.0->ktrain) (1.16.13)\n",
            "Requirement already satisfied: s3transfer<0.4.0,>=0.3.0 in /usr/local/lib/python3.6/dist-packages (from boto3->transformers>=2.7.0->ktrain) (0.3.3)\n",
            "Requirement already satisfied: jmespath<1.0.0,>=0.7.1 in /usr/local/lib/python3.6/dist-packages (from boto3->transformers>=2.7.0->ktrain) (0.10.0)\n",
            "Requirement already satisfied: markdown>=2.6.8 in /usr/local/lib/python3.6/dist-packages (from tensorboard<2.2.0,>=2.1.0->tensorflow==2.1.0->ktrain) (3.2.2)\n",
            "Requirement already satisfied: google-auth<2,>=1.6.3 in /usr/local/lib/python3.6/dist-packages (from tensorboard<2.2.0,>=2.1.0->tensorflow==2.1.0->ktrain) (1.7.2)\n",
            "Requirement already satisfied: google-auth-oauthlib<0.5,>=0.4.1 in /usr/local/lib/python3.6/dist-packages (from tensorboard<2.2.0,>=2.1.0->tensorflow==2.1.0->ktrain) (0.4.1)\n",
            "Requirement already satisfied: werkzeug>=0.11.15 in /usr/local/lib/python3.6/dist-packages (from tensorboard<2.2.0,>=2.1.0->tensorflow==2.1.0->ktrain) (1.0.1)\n",
            "Requirement already satisfied: googleapis-common-protos in /usr/local/lib/python3.6/dist-packages (from tensorflow-metadata->tensorflow-datasets->ktrain) (1.51.0)\n",
            "Requirement already satisfied: wcwidth in /usr/local/lib/python3.6/dist-packages (from prompt-toolkit<2.0.0,>=1.0.4->ipython->ktrain) (0.1.9)\n",
            "Requirement already satisfied: ptyprocess>=0.5 in /usr/local/lib/python3.6/dist-packages (from pexpect; sys_platform != \"win32\"->ipython->ktrain) (0.6.0)\n",
            "Requirement already satisfied: ipython-genutils in /usr/local/lib/python3.6/dist-packages (from traitlets>=4.2->ipython->ktrain) (0.2.0)\n",
            "Requirement already satisfied: MarkupSafe>=0.23 in /usr/local/lib/python3.6/dist-packages (from Jinja2>=2.7->bokeh->ktrain) (1.1.1)\n",
            "Requirement already satisfied: keras-self-attention==0.41.0 in /usr/local/lib/python3.6/dist-packages (from keras-multi-head>=0.22.0->keras-transformer>=0.30.0->keras-bert>=0.81.0->ktrain) (0.41.0)\n",
            "Requirement already satisfied: docutils<0.16,>=0.10 in /usr/local/lib/python3.6/dist-packages (from botocore<1.17.0,>=1.16.13->boto3->transformers>=2.7.0->ktrain) (0.15.2)\n",
            "Requirement already satisfied: importlib-metadata; python_version < \"3.8\" in /usr/local/lib/python3.6/dist-packages (from markdown>=2.6.8->tensorboard<2.2.0,>=2.1.0->tensorflow==2.1.0->ktrain) (1.6.0)\n",
            "Requirement already satisfied: rsa<4.1,>=3.1.4 in /usr/local/lib/python3.6/dist-packages (from google-auth<2,>=1.6.3->tensorboard<2.2.0,>=2.1.0->tensorflow==2.1.0->ktrain) (4.0)\n",
            "Requirement already satisfied: pyasn1-modules>=0.2.1 in /usr/local/lib/python3.6/dist-packages (from google-auth<2,>=1.6.3->tensorboard<2.2.0,>=2.1.0->tensorflow==2.1.0->ktrain) (0.2.8)\n",
            "Requirement already satisfied: cachetools<3.2,>=2.0.0 in /usr/local/lib/python3.6/dist-packages (from google-auth<2,>=1.6.3->tensorboard<2.2.0,>=2.1.0->tensorflow==2.1.0->ktrain) (3.1.1)\n",
            "Requirement already satisfied: requests-oauthlib>=0.7.0 in /usr/local/lib/python3.6/dist-packages (from google-auth-oauthlib<0.5,>=0.4.1->tensorboard<2.2.0,>=2.1.0->tensorflow==2.1.0->ktrain) (1.3.0)\n",
            "Requirement already satisfied: zipp>=0.5 in /usr/local/lib/python3.6/dist-packages (from importlib-metadata; python_version < \"3.8\"->markdown>=2.6.8->tensorboard<2.2.0,>=2.1.0->tensorflow==2.1.0->ktrain) (3.1.0)\n",
            "Requirement already satisfied: pyasn1>=0.1.3 in /usr/local/lib/python3.6/dist-packages (from rsa<4.1,>=3.1.4->google-auth<2,>=1.6.3->tensorboard<2.2.0,>=2.1.0->tensorflow==2.1.0->ktrain) (0.4.8)\n",
            "Requirement already satisfied: oauthlib>=3.0.0 in /usr/local/lib/python3.6/dist-packages (from requests-oauthlib>=0.7.0->google-auth-oauthlib<0.5,>=0.4.1->tensorboard<2.2.0,>=2.1.0->tensorflow==2.1.0->ktrain) (3.1.0)\n"
          ],
          "name": "stdout"
        }
      ]
    },
    {
      "cell_type": "code",
      "metadata": {
        "id": "5wO168oa30GS",
        "colab_type": "code",
        "outputId": "ce41f6ba-09fe-4df2-ee60-80816112ba16",
        "colab": {
          "base_uri": "https://localhost:8080/",
          "height": 279
        }
      },
      "source": [
        "import ktrain\n",
        "ktrain.text.preprocessor.detect_lang = ktrain.text.textutils.detect_lang\n",
        "\n",
        "max_vocab = 35000     # set the maximum vocabulary size\n",
        "num_of_topics = 200  # set the number of topics\n",
        "#max_vocab = 10000\n",
        "\n",
        "# Run topic modeling using Keras wrappers on LDA\n",
        "tm = ktrain.text.get_topic_model(df['text_lemmatized'], n_topics = num_of_topics, n_features = max_vocab, lda_max_iter = 10, lda_mode = 'batch')"
      ],
      "execution_count": 0,
      "outputs": [
        {
          "output_type": "stream",
          "text": [
            "lang: en\n",
            "preprocessing texts...\n",
            "fitting model...\n",
            "iteration: 1 of max_iter: 10\n",
            "iteration: 2 of max_iter: 10\n",
            "iteration: 3 of max_iter: 10\n",
            "iteration: 4 of max_iter: 10\n",
            "iteration: 5 of max_iter: 10\n",
            "iteration: 6 of max_iter: 10\n",
            "iteration: 7 of max_iter: 10\n",
            "iteration: 8 of max_iter: 10\n",
            "iteration: 9 of max_iter: 10\n",
            "iteration: 10 of max_iter: 10\n",
            "done.\n"
          ],
          "name": "stdout"
        }
      ]
    },
    {
      "cell_type": "code",
      "metadata": {
        "id": "Pzq2c8rW30Qq",
        "colab_type": "code",
        "outputId": "39512756-9dca-4c52-9e7e-7fa90ab7cef5",
        "colab": {
          "base_uri": "https://localhost:8080/",
          "height": 1000
        }
      },
      "source": [
        "tm.print_topics()"
      ],
      "execution_count": 0,
      "outputs": [
        {
          "output_type": "stream",
          "text": [
            "topic 0 | expression immune cytokine il-6 production macrophage epithelial innate induced tnf\n",
            "topic 1 | antigen nanoparticles delivery immune surface particle vaccine peptide adjuvant dna\n",
            "topic 2 | duck chicken dna hsv-1 avian bird iltv adp-ribosylation ape vector\n",
            "topic 3 | lung inflammatory macrophage cytokine inflammation immune neutrophil alveolar airway pulmonary\n",
            "topic 4 | autophagy mouse spinal cord astrocyte autophagic brain replication expression demyelination\n",
            "topic 5 | genetic allele variant snp locus susceptibility qtl phenotype variation marker\n",
            "topic 6 | pdcov hong kong mortality organoids death excess diarrhea porcine deltacoronavirus\n",
            "topic 7 | bacterial bacteria microbiota microbiome microbial gut healthy abundance community diversity\n",
            "topic 8 | brain cns microglia neuron microglial encephalitis neuronal vitamin astrocyte neurological\n",
            "topic 9 | titre m41 hand b1648 virucidal log seed suspension product rt-qpcr\n",
            "topic 10 | idv cd9 htnv hef icv inflow hygiene hadv-7 neat1 hubei\n",
            "topic 11 | chikv nsp2 cough droplet corona denv1 denv2 albopictus mucus amyloid\n",
            "topic 12 | household air pollution transmission member index speech task quality connected\n",
            "topic 13 | resource care resident pandemic practice guideline public facility policy recommendation\n",
            "topic 14 | hiv-1 hiv env cd4 gag infectivity nef p24 mink kit\n",
            "topic 15 | cleavage protease fusion spike site tmprss2 entry glycoprotein furin receptor\n",
            "topic 16 | cycle parasite phase expression arrest cyclin g0g1 replication g2m eef1a\n",
            "topic 17 | city school mobility closure epidemic spatial flow pattern location week\n",
            "topic 18 | nuclear channel ion nucleolar nucleus localization nucleolus export transport rev\n",
            "topic 19 | cd8 pd-1 pd-l1 cd4 tfh nthi endothelial expression brain differentiation\n",
            "topic 20 | tree phylogenetic transmission cluster clade evolutionary genetic lineage distance phylogeny\n",
            "topic 21 | pig swine farm porcine rotavirus animal enteric diarrhea orf2 astrovirus\n",
            "topic 22 | aptamers aptamer dna target binding molecule modification affinity surface modified\n",
            "topic 23 | hadv agent risk gs-5734 coping learning unigenes hexon perception epidemic\n",
            "topic 24 | herd mbl cmv brsv serum antibody bcv concentration fermentation production\n",
            "topic 25 | expression transfected plasmid mutant antibody expressing interaction western buffer vector\n",
            "topic 26 | medium pdcs pdc tregs spleen news equation mass ifn-a solution\n",
            "topic 27 | frameshifting codon ribosome mrna site translation structure frameshift pseudoknot frame\n",
            "topic 28 | epitope antibody binding neutralizing mabs sars affinity immune chain library\n",
            "topic 29 | pneumonia lung chest pulmonary consolidation imaging pleural diagnostic scan effusion\n",
            "topic 30 | confinement housing calf territory balance fecal ghana public stall box\n",
            "topic 31 | hcv liver hepatitis huh7 core genotype replication cd81 line entry\n",
            "topic 32 | preprint covid-19 medrxiv license granted display copyright holder authorfunder perpetuitythe\n",
            "topic 33 | golgi membrane compartment form min transport secretory virion complex localization\n",
            "topic 34 | read genome sequencing library reference database coverage assembly length illumina\n",
            "topic 35 | replication cellular interaction complex mechanism pathway transcription binding target degradation\n",
            "topic 36 | iav replication inhibitor assay a549 entry k22 luciferase min mdck\n",
            "topic 37 | jev rnai sirna replication nsp11 sirnas mavs mrna antiviral sfrna\n",
            "topic 38 | haplotype contigs window set cyclophilin abundance clustering contig adv strain\n",
            "topic 39 | preprint copyright holder sars-cov-2 doi license authorfunder international biorxiv cc-by-nc-nd\n",
            "topic 40 | mers-cov dpp4 mers dromedary camel east middle receptor coronaviruses spike\n",
            "topic 41 | expression expressed transcript ace2 pathway differentially profile set enrichment network\n",
            "topic 42 | specie diversity distribution variable richness family parasite genus effort ecological\n",
            "topic 43 | hospital staff hcws medical care nurse worker room ward department\n",
            "topic 44 | tgev interaction binding sialic papn sia prcv acid hmgb1 receptor\n",
            "topic 45 | icu mortality admission outcome care hospital ventilation score blood failure\n",
            "topic 46 | ifn-i cox-2 cd8 bartonella cxcr5 pge mouse cox il-27 p14\n",
            "topic 47 | membrane raft place lipid inclusion assembly factory entry cholesterol cellular\n",
            "topic 48 | student isolation knowledge facility course medical setting learning care country\n",
            "topic 49 | saudi ata hfmd arabia search index keywords middle mef ear\n",
            "topic 50 | ns1 nmd protease pathway mrna interaction pkr inhibition transcript family\n",
            "topic 51 | asthma exacerbation airway hrv copd asthmatic rhinovirus allergic wheezing subject\n",
            "topic 52 | denv denv-2 dengue escape tat nab plasma myosin internalisation month\n",
            "topic 53 | min virion buffer incubated purified washed antibody macrophage added hiv-1\n",
            "topic 54 | laboratory exercise participant guideline surveillance national mrsa hai diagnostic ipc\n",
            "topic 55 | specie pcr genome sequencing identity genus acid family novel phylogenetic\n",
            "topic 56 | ifn ifns antiviral iii isgs signaling expression isg induced specie\n",
            "topic 57 | pol horse sox mrna decay sam shutoff mhv68 ecov xrn1\n",
            "topic 58 | dna p58 occludin temperature vpr repair crl plate damage heater\n",
            "topic 59 | drug resistance antibiotic therapy agent antimicrobial toxin bacteria bacterial therapeutic\n",
            "topic 60 | malaria social participant sv40 food falciparum cue isolation image elimination\n",
            "topic 61 | ev71 entry phev actin endocytosis erad inhibitor aecopd vp1 scarb2\n",
            "topic 62 | peptide epitope binding mab amino acid membrane incubated concentration min\n",
            "topic 63 | mhv stem prf mhv-a59 hairpin upstream a59 mutant assay attenuation\n",
            "topic 64 | genome domain exon family size conserved nidoviruses fidelity nidovirus genomic\n",
            "topic 65 | mers-cov mouse rbd vaccine antibody animal sars-cov neutralizing therapeutic subunit\n",
            "topic 66 | hsv-1 hnpcs m336 epithelial rotavirus antibody mouse vp7 ben light\n",
            "topic 67 | vlps membrane vlp arb min liposome lipid fraction binding mutant\n",
            "topic 68 | hrsv adenovirus ev-a71 enterovirus replication entry receptor alpaca bactrian ard\n",
            "topic 69 | poultry h5n1 market hpai risk bird area avian spatial chicken\n",
            "topic 70 | cat blood dog feline felv urine renal week plasma serum\n",
            "topic 71 | age child adult incidence aged prevalence period older old young\n",
            "topic 72 | lectin binding ptx3 bind grft sp-d acid receptor dc-sign interaction\n",
            "topic 73 | ferret animal gland goat mammary wash titer vaccinated inactivated challenge\n",
            "topic 74 | assay pcr sensitivity primer reaction amplification kit specimen rt-pcr testing\n",
            "topic 75 | mrna nsp1 utr translation cleavage ire element site structure transcript\n",
            "topic 76 | disorder igy disordered work intervention harm pid shell business seen\n",
            "topic 77 | pedv vero strain piglet ped cv777 diarrhea porcine trypsin antibody\n",
            "topic 78 | pathway signaling activation cypa expression phosphorylation involved apoptosis kinase inhibitor\n",
            "topic 79 | dna cd147 hcmv rbd nhps neutralization mers-cov spike rep d12\n",
            "topic 80 | tissue lung lesion animal tract nasal section epithelial organ inoculation\n",
            "topic 81 | mirnas mirna sirna p38 expression mapk target jnk g6pd sirnas\n",
            "topic 82 | rabies expert asia risk country survey area asian gps iran\n",
            "topic 83 | strain isolates genotype genome nucleotide phylogenetic genetic amino acid isolated\n",
            "topic 84 | network node degree distance epidemic spread edge graph connected size\n",
            "topic 85 | genome plant approach target technology dna expression synthetic genetic biology\n",
            "topic 86 | bcg risk tuberculosis bronchiectasis occupational vaccination country exposure biological rhinitis\n",
            "topic 87 | bat specie pertussis paramyxovirus site myotis genus coronaviruses cave pcr\n",
            "topic 88 | public country global national international capacity preparedness emergency community local\n",
            "topic 89 | parameter probability dynamic size equation susceptible transmission example simulation stochastic\n",
            "topic 90 | contact transmission tracing isolation probability symptom scenario quarantine period matrix\n",
            "topic 91 | dog canine cpv cdv cpv-2 surface parvovirus infantum parasite lri\n",
            "topic 92 | prv hsv tweet stress pheasant team nectin-1 twitter nurse reared\n",
            "topic 93 | mers mers-cov transmission saudi korea hospital contact arabia healthcare south\n",
            "topic 94 | particle temperature phage capsid min concentration humidity incubated hour library\n",
            "topic 95 | mutation strain h1n1 avian pandemic h3n2 mutant subtypes substitution adaptation\n",
            "topic 96 | ifitm3 ifit1 mrna complex ifit3 eif4e translation binding ifit2 interaction\n",
            "topic 97 | participant risk pandemic survey respondent perception people measure public questionnaire\n",
            "topic 98 | rodent reservoir specie arm hantavirus participant hantaviruses primary parasite forest\n",
            "topic 99 | preprint right reuse reserved allowed holder copyright doi authorfunder permissionthe\n",
            "topic 100 | animal transmission zoonotic specie area livestock risk spread world wildlife\n",
            "topic 101 | child pneumonia pneumoniae bacterial cap antibiotic swab bacteria specimen pcr\n",
            "topic 102 | therapy diagnosis recipient transplant month risk subject cmv transplantation symptom\n",
            "topic 103 | nsp16 nsp10 mtase binding nsp14 rig-i cap structure complex mda5\n",
            "topic 104 | sleep packaging sfb trypsin nsp15 grna monocyte apo cyt normal\n",
            "topic 105 | residue structure pro binding protease site substrate inhibitor crystal bond\n",
            "topic 106 | site selection genome mutation variant amino acid sars-cov-2 position substitution\n",
            "topic 107 | domain mutant structure interaction membrane residue acid surface structural receptor\n",
            "topic 108 | h5n1 macaque lung animal rhesus h1n1 kshv treated avian replication\n",
            "topic 109 | h1n1pdm cd200 insulin rat chlamydia min volume concentration chlamydial substance\n",
            "topic 110 | mouse lung weight animal loss titer survival ifnar tissue experiment\n",
            "topic 111 | surveillance ili pandemic illness season seasonal week sari laboratory period\n",
            "topic 112 | risk approach transmission community example area set parameter state spatial\n",
            "topic 113 | zikv flavivirus wnv mosquito denv zika strain vero dengue fever\n",
            "topic 114 | epidemic intervention peak measure impact strategy pandemic social reduction effective\n",
            "topic 115 | apoptosis expression ifitm3 ifitm antibody ifitm1 entry antiviral mitochondrial membrane\n",
            "topic 116 | recombination recombinant mers-cov genome tree breakpoints heterogeneity camel breakpoint distribution\n",
            "topic 117 | sars-cov cov covs coronaviruses nsp3 sars nsp4 membrane mhv replication\n",
            "topic 118 | wild specie bird avian domestic lion prevalence juvenile fiv duck\n",
            "topic 119 | membrane replication structure dmvs vesicle electron formation spherule dmv synthesis\n",
            "topic 120 | estimate distribution period interval estimated transmission onset epidemic parameter incubation\n",
            "topic 121 | flu behavior facemask search correlation intention hong social kong google\n",
            "topic 122 | faecal cryptosporidium parvum nanopore diarrhoea flock oocysts construct npi fusobacterium\n",
            "topic 123 | ifn signaling activation irf3 rig-i innate immune pathway antiviral expression\n",
            "topic 124 | camel dog dromedary seroprevalence canine breed herd animal nasal fecal\n",
            "topic 125 | peptide fusion inhibitor hr1 target hr2 trim ek1 inhibitory cathepsin\n",
            "topic 126 | assay replication concentration inhibition antiviral plate medium incubated added hour\n",
            "topic 127 | bat line alecto hcq interferon fruit antiviral specie hev reservoir\n",
            "topic 128 | dpi shedding iga antibody titer challenge serum fecal animal igg\n",
            "topic 129 | entry expression vector luciferase transduction expressing particle pseudotyped vsv glycoprotein\n",
            "topic 130 | mask transmission risk respirator contact exposure n95 protection measure pilgrim\n",
            "topic 131 | h7n9 zinc h1n1 depression risk ptsd weight iavs allele cbd\n",
            "topic 132 | country epidemic growth parameter death curve daily point exponential china\n",
            "topic 133 | ibv chicken strain bird egg ndv poultry avian kidney trachea\n",
            "topic 134 | probe array microarray bacterial target specie hybridization bacteria dna organism\n",
            "topic 135 | calf diarrhea cattle farm animal bovine coli fecal age brd\n",
            "topic 136 | concentration extract treated rat antiviral dose animal assay drug mgkg\n",
            "topic 137 | particle air aerosol airborne droplet room concentration size flow filter\n",
            "topic 138 | bat specie transmission reservoir lyssavirus spillover dynamic colony cov africa\n",
            "topic 139 | ifitm1 mutant particle caffeine copi coat interferon transport copii vsv-g\n",
            "topic 140 | interaction binding complex structure mass site domain peptide buffer residue\n",
            "topic 141 | csa cytokine reinfection spectrum il6 ntcp concentration variation peak strain\n",
            "topic 142 | binding structure glycosylation glycan glycans glycoprotein g4s ncl site surface\n",
            "topic 143 | rsv child hmpv infant hrv age tract rhinovirus pediatric bronchiolitis\n",
            "topic 144 | membrane fusion lipid endosomes autophagy vesicle lysosome endosomal compartment trafficking\n",
            "topic 145 | prrsv fmdv marc-145 expression tissue prrsv-infected prrs porcine hp-prrsv interaction\n",
            "topic 146 | ev-d68 aeruginosa glycyrrhizin ddx5 haemofelis chimera cd31 ipd skin exposure\n",
            "topic 147 | mouse immune cd8 cytokine cd4 expression il-10 ifn production antigen\n",
            "topic 148 | primer ventilation set hcp location zone pair design hbov1 gown\n",
            "topic 149 | article public search publication database term published scientific researcher user\n",
            "topic 150 | nlrp3 inflammasome hmpv activation diabetes mitochondrial berberine caspase-1 mitochondrion il-18\n",
            "topic 151 | drug antiviral inhibitor replication chloroquine inhibit vitro inhibition combination compound\n",
            "topic 152 | compound derivative antiviral concentration inhibition acid active spectrum chemical inhibitory\n",
            "topic 153 | stat3 snp association allele genotype polymorphism susceptibility frequency ifitm3 promoter\n",
            "topic 154 | ebola motif polymerase sierra leone guinea base hms-1 ebolavirus template\n",
            "topic 155 | country travel passenger screening risk transmission imported traveller spread temperature\n",
            "topic 156 | piglet intestinal sow intestine diarrhoea diarrhea litter gilt ileum pig\n",
            "topic 157 | woman pregnant pregnancy maternal infant mother neonatal birth trimester newborn\n",
            "topic 158 | primer pcr cdna genome product dna plasmid clone reverse replication\n",
            "topic 159 | crp bacterial pct antibiotic biomarkers blood mxa foal wbc mgl\n",
            "topic 160 | pandemic shelter pcp civ cambodia taipei state law primary imp\n",
            "topic 161 | adjuvant cpg alum mpl hcov-emc vaccine ifitms formulation ssrna immune\n",
            "topic 162 | cat fcov fip feline fipv tissue mutation fecv serotype fcovs\n",
            "topic 163 | hbv rnase load replication isg20 antiviral ns4b therapy target ns2\n",
            "topic 164 | segment plasmid vrna pr8 reporter strain gfp promoter transfection rescue\n",
            "topic 165 | ace2 rbd binding structure receptor residue sars-cov-2 interaction spike conformation\n",
            "topic 166 | helicase dna atp duplex atpase helicases substrate unwinding nsp13 strand\n",
            "topic 167 | dengue mosquito vector rvfv egypt ddx1 transmission risk area growth\n",
            "topic 168 | strain gc376 drug growth oil concentration pomegranate yeast membrane essential\n",
            "topic 169 | house becn1 trap oxygen adult larva lesser skp2 lure extraction\n",
            "topic 170 | antibody serum igg elisa neutralizing mouse titer assay mab neutralization\n",
            "topic 171 | feed inactivation surface temperature pedv pig experiment material ingredient infectivity\n",
            "topic 172 | pool sick prevalence water state pressure hsp meteorological average germany\n",
            "topic 173 | pig passage titer replication attenuated pcv2 piglet animal inoculated culture\n",
            "topic 174 | vaccination vaccine ph1n1 mucosal military nmi uptake recruit camp administration\n",
            "topic 175 | lncrnas lncrna specimen tannin selection bottleneck flua coding pst sequencing\n",
            "topic 176 | mtb phage agonist adenoid tonsil bag3 antagonist receptor ozone bplf1\n",
            "topic 177 | isg15 hev rdrp ubiquitin polymerase domain enzyme reaction isgylation assay\n",
            "topic 178 | hcov-nl63 hcov-229e hcov-oc43 coronaviruses hcov hcovs hcov-hku1 oc43 hku1 tract\n",
            "topic 179 | cost economic impact eid loss eids vaccine event global risk\n",
            "topic 180 | symptom fever hospital diagnosis illness cough onset admission laboratory history\n",
            "topic 181 | trial outcome review risk bias placebo systematic randomized adverse meta-analysis\n",
            "topic 182 | prediction epitope predicted structure score tool algorithm feature energy set\n",
            "topic 183 | expression mrna stress hpi pathway cellular transcription induced activation replication\n",
            "topic 184 | transcript pcv3 b19 size reovirus dna profile similarity exon viperin\n",
            "topic 185 | acid expression activation production liver lipid cancer metabolism oxidative pathway\n",
            "topic 186 | filmarray isg20 pkr amplification cea mx1 oas1 dna pouch stage\n",
            "topic 187 | fusion class receptor entry mhc membrane molecule peptide binding haplotype\n",
            "topic 188 | codon usage yeast prion bias prp composition component bse selection\n",
            "topic 189 | orf orfs trs tfr1 genome vip coronaviruses accessory acid amino\n",
            "topic 190 | del della che una non tra salute come studio nei\n",
            "topic 191 | visit temperature hospital emergency dip average ratio standard pixel code\n",
            "topic 192 | vaccine vaccination vector immune protection antibody challenge dna immunization antigen\n",
            "topic 193 | sampling site area environmental variable county collection location sampler blood\n",
            "topic 194 | tcm inhibitor drug mast cytokine active vitro target immune molecule\n",
            "topic 195 | cancer tumor district idsr chemotherapy cam therapy oncology malignancy antibiotic\n",
            "topic 196 | culture medium surface epithelial incubated antibody min receptor staining washed\n",
            "topic 197 | ebov fusion filovirus marv npc1 concentration membrane target effector surface\n",
            "topic 198 | preprint license medrxiv granted display covid-19 authorfunder international holder copyright\n",
            "topic 199 | china sars province wuhan january chinese ncov epidemic hubei people\n"
          ],
          "name": "stdout"
        }
      ]
    },
    {
      "cell_type": "code",
      "metadata": {
        "id": "AhL6bdIa30N_",
        "colab_type": "code",
        "outputId": "b0123ece-9246-48b9-b7b5-6d14595873e3",
        "colab": {
          "base_uri": "https://localhost:8080/",
          "height": 36
        }
      },
      "source": [
        "threshold_value = 0.25\n",
        "tm.build(df['text_lemmatized'], threshold = threshold_value)"
      ],
      "execution_count": 0,
      "outputs": [
        {
          "output_type": "stream",
          "text": [
            "done.\n"
          ],
          "name": "stdout"
        }
      ]
    },
    {
      "cell_type": "code",
      "metadata": {
        "id": "Bd6vetuZ4BUR",
        "colab_type": "code",
        "colab": {}
      },
      "source": [
        "topic_list = []              # list of topic numbers for the primary topic for each paper\n",
        "topic_words_list = []        # list of the words for the primary topic of each paper\n",
        "\n",
        "# Iterate through the lemmatized paper texts\n",
        "\n",
        "for i in df['text_lemmatized']:\n",
        "    \n",
        "    # Identify the most likely topic or primary topic for the paper text\n",
        "    topic_list.append(np.argmax(tm.predict([i])))\n",
        "    \n",
        "    # Identify the string of words for the most likely topic for the paper text\n",
        "    topic_words_list.append(tm.topics[np.argmax(tm.predict([i]))])\n",
        "\n",
        "# Add the list of most likely topics for each paper, and the corresponding topic word string to df     \n",
        "df['Topic Number'] = topic_list\n",
        "df['List of Topics'] = topic_words_list"
      ],
      "execution_count": 0,
      "outputs": []
    },
    {
      "cell_type": "code",
      "metadata": {
        "id": "UECfUuFb4DiP",
        "colab_type": "code",
        "outputId": "7b7bad86-c98d-4614-f498-4379b917569c",
        "colab": {
          "base_uri": "https://localhost:8080/",
          "height": 697
        }
      },
      "source": [
        "df.head(10)"
      ],
      "execution_count": 0,
      "outputs": [
        {
          "output_type": "execute_result",
          "data": {
            "text/html": [
              "<div>\n",
              "<style scoped>\n",
              "    .dataframe tbody tr th:only-of-type {\n",
              "        vertical-align: middle;\n",
              "    }\n",
              "\n",
              "    .dataframe tbody tr th {\n",
              "        vertical-align: top;\n",
              "    }\n",
              "\n",
              "    .dataframe thead th {\n",
              "        text-align: right;\n",
              "    }\n",
              "</style>\n",
              "<table border=\"1\" class=\"dataframe\">\n",
              "  <thead>\n",
              "    <tr style=\"text-align: right;\">\n",
              "      <th></th>\n",
              "      <th>Unnamed: 0</th>\n",
              "      <th>title</th>\n",
              "      <th>abstract</th>\n",
              "      <th>body_text</th>\n",
              "      <th>ref</th>\n",
              "      <th>text_lemmatized</th>\n",
              "      <th>Topic Number</th>\n",
              "      <th>List of Topics</th>\n",
              "    </tr>\n",
              "  </thead>\n",
              "  <tbody>\n",
              "    <tr>\n",
              "      <th>0</th>\n",
              "      <td>1</td>\n",
              "      <td>analysis title regaining perspective on sars-c...</td>\n",
              "      <td>during the past three months a new coronavirus...</td>\n",
              "      <td>in december 2019 a novel coronavirus sars-cov-...</td>\n",
              "      <td>ms is supported in part by the stephany w holl...</td>\n",
              "      <td>['in', 'december', '2019', 'a', 'novel', 'coro...</td>\n",
              "      <td>20</td>\n",
              "      <td>tree phylogenetic transmission cluster clade e...</td>\n",
              "    </tr>\n",
              "    <tr>\n",
              "      <th>1</th>\n",
              "      <td>2</td>\n",
              "      <td>relationship between average daily temperature...</td>\n",
              "      <td>the rapid outbreak of the new coronavirus pand...</td>\n",
              "      <td>the outbreak of infectious diseases has always...</td>\n",
              "      <td>other studies in this area include nkengasong ...</td>\n",
              "      <td>['the', 'outbreak', 'of', 'infectious', 'disea...</td>\n",
              "      <td>132</td>\n",
              "      <td>country epidemic growth parameter death curve ...</td>\n",
              "    </tr>\n",
              "    <tr>\n",
              "      <th>2</th>\n",
              "      <td>7</td>\n",
              "      <td>assessing spread risk of wuhan novel coronavir...</td>\n",
              "      <td>background a novel coronavirus  emerged in wuh...</td>\n",
              "      <td>in december 2019 a cluster of patients with pn...</td>\n",
              "      <td>february 1 st  2020 reported by singapore  sou...</td>\n",
              "      <td>['in', 'december', '2019', 'a', 'cluster', 'of...</td>\n",
              "      <td>155</td>\n",
              "      <td>country travel passenger screening risk transm...</td>\n",
              "    </tr>\n",
              "    <tr>\n",
              "      <th>3</th>\n",
              "      <td>8</td>\n",
              "      <td>forecasting the worldwide spread of covid-19 b...</td>\n",
              "      <td>background with the outbreak of coronavirus di...</td>\n",
              "      <td>a novel coronavirus caused pneumonia cases in ...</td>\n",
              "      <td>including italy south korea iran and france th...</td>\n",
              "      <td>['a', 'novel', 'coronavirus', 'caused', 'pneum...</td>\n",
              "      <td>198</td>\n",
              "      <td>preprint license medrxiv granted display covid...</td>\n",
              "    </tr>\n",
              "    <tr>\n",
              "      <th>4</th>\n",
              "      <td>9</td>\n",
              "      <td>title the early scientific literature response...</td>\n",
              "      <td>all rights reserved no reuse allowed without p...</td>\n",
              "      <td>recent events highlight how emerging and re-em...</td>\n",
              "      <td>moher d liberati a tetzlaff j altman dg the pr...</td>\n",
              "      <td>['recent', 'event', 'highlight', 'how', 'emerg...</td>\n",
              "      <td>149</td>\n",
              "      <td>article public search publication database ter...</td>\n",
              "    </tr>\n",
              "    <tr>\n",
              "      <th>5</th>\n",
              "      <td>10</td>\n",
              "      <td>twirls an automated topic-wise inference metho...</td>\n",
              "      <td>faced with the current large-scale public heal...</td>\n",
              "      <td>the sudden outbreak of the new coronavirus  at...</td>\n",
              "      <td>shows the cshgs in the 2 o connections of ifit...</td>\n",
              "      <td>['the', 'sudden', 'outbreak', 'of', 'the', 'ne...</td>\n",
              "      <td>149</td>\n",
              "      <td>article public search publication database ter...</td>\n",
              "    </tr>\n",
              "    <tr>\n",
              "      <th>6</th>\n",
              "      <td>12</td>\n",
              "      <td>the impact of regular school closure on season...</td>\n",
              "      <td>school closure is often considered as an optio...</td>\n",
              "      <td>they affect seasonal influenza dynamics the mo...</td>\n",
              "      <td>calibration results - simulated and empirical ...</td>\n",
              "      <td>['they', 'affect', 'seasonal', 'influenza', 'd...</td>\n",
              "      <td>17</td>\n",
              "      <td>city school mobility closure epidemic spatial ...</td>\n",
              "    </tr>\n",
              "    <tr>\n",
              "      <th>7</th>\n",
              "      <td>14</td>\n",
              "      <td>predict the next moves of covid-19 reveal the ...</td>\n",
              "      <td>the spread of covid-19 engulfs almost all the ...</td>\n",
              "      <td>after the incidence of some mysterious sars-li...</td>\n",
              "      <td>31 2019 reported in hubei province of wuhan ch...</td>\n",
              "      <td>['after', 'the', 'incidence', 'of', 'some', 'm...</td>\n",
              "      <td>198</td>\n",
              "      <td>preprint license medrxiv granted display covid...</td>\n",
              "    </tr>\n",
              "    <tr>\n",
              "      <th>8</th>\n",
              "      <td>16</td>\n",
              "      <td>a hidden gene in astroviruses encodes a cell-p...</td>\n",
              "      <td>human astroviruses are small nonenveloped viru...</td>\n",
              "      <td>humans astroviruses  belong to genus mamastrov...</td>\n",
              "      <td>the putative xp proteins encoded by genogroup ...</td>\n",
              "      <td>['human', 'astroviruses', 'belong', 'to', 'gen...</td>\n",
              "      <td>27</td>\n",
              "      <td>frameshifting codon ribosome mrna site transla...</td>\n",
              "    </tr>\n",
              "    <tr>\n",
              "      <th>9</th>\n",
              "      <td>18</td>\n",
              "      <td>on predicting the novel covid-19 human infecti...</td>\n",
              "      <td>since the introduction of the novel corona vir...</td>\n",
              "      <td>since the novel corona virus 19 was first dete...</td>\n",
              "      <td>pandemic situations  at a school-hawaii may 20...</td>\n",
              "      <td>['since', 'the', 'novel', 'corona', 'virus', '...</td>\n",
              "      <td>198</td>\n",
              "      <td>preprint license medrxiv granted display covid...</td>\n",
              "    </tr>\n",
              "  </tbody>\n",
              "</table>\n",
              "</div>"
            ],
            "text/plain": [
              "   Unnamed: 0  ...                                     List of Topics\n",
              "0           1  ...  tree phylogenetic transmission cluster clade e...\n",
              "1           2  ...  country epidemic growth parameter death curve ...\n",
              "2           7  ...  country travel passenger screening risk transm...\n",
              "3           8  ...  preprint license medrxiv granted display covid...\n",
              "4           9  ...  article public search publication database ter...\n",
              "5          10  ...  article public search publication database ter...\n",
              "6          12  ...  city school mobility closure epidemic spatial ...\n",
              "7          14  ...  preprint license medrxiv granted display covid...\n",
              "8          16  ...  frameshifting codon ribosome mrna site transla...\n",
              "9          18  ...  preprint license medrxiv granted display covid...\n",
              "\n",
              "[10 rows x 8 columns]"
            ]
          },
          "metadata": {
            "tags": []
          },
          "execution_count": 34
        }
      ]
    },
    {
      "cell_type": "code",
      "metadata": {
        "id": "33l0LQnu4F-s",
        "colab_type": "code",
        "colab": {}
      },
      "source": [
        "df.to_csv('/content/drive/My Drive/Covid/final_after_modelling_3.csv', index=False)"
      ],
      "execution_count": 0,
      "outputs": []
    },
    {
      "cell_type": "code",
      "metadata": {
        "id": "ERTHxVFT7Uo9",
        "colab_type": "code",
        "colab": {}
      },
      "source": [
        "df_topic = pd.read_csv(\"/content/drive/My Drive/Covid/final_after_modelling_3.csv\", index_col = None)"
      ],
      "execution_count": 0,
      "outputs": []
    },
    {
      "cell_type": "code",
      "metadata": {
        "id": "pos4PLOOB60e",
        "colab_type": "code",
        "outputId": "c763c5d5-1557-49de-f2d3-abc4bfb15b46",
        "colab": {
          "base_uri": "https://localhost:8080/",
          "height": 50
        }
      },
      "source": [
        "import nltk\n",
        "nltk.download('wordnet')\n",
        "from nltk.corpus import wordnet\n",
        "transmission=[]\n",
        "incubation=[]\n",
        "stability=[]\n",
        "word1=wordnet.synsets(\"Transmission\")\n",
        "transmission.extend([l.name() for s in word1 for l in s.lemmas()])\n",
        "word1=wordnet.synsets(\"incubation\")\n",
        "incubation.extend([l.name() for s in word1 for l in s.lemmas()])\n",
        "word1=wordnet.synsets(\"environmental\")\n",
        "stability.extend([l.name() for s in word1 for l in s.lemmas()])\n",
        "word1=wordnet.synsets(\"environment\")\n",
        "stability.extend([l.name() for s in word1 for l in s.lemmas()])\n",
        "word1=wordnet.synsets(\"stability\")\n",
        "stability.extend([l.name() for s in word1 for l in s.lemmas()])\n",
        "incubation.append(\"incubated\")\n",
        "incubation.append(\"establishment\")\n",
        "incubation.append(\"time\")\n",
        "incubation.append(\"rate\")\n",
        "incubation.append(\"growth\")\n",
        "incubation.append(\"duration\")\n",
        "\n",
        "stability.append(\"surrounding\")\n",
        "stability.append(\"climate\")\n",
        "stability.append(\"weather\")\n",
        "stability.append(\"celcius\")\n",
        "stability.append(\"habitat\")\n",
        "stability.append(\"temperature\")"
      ],
      "execution_count": 0,
      "outputs": [
        {
          "output_type": "stream",
          "text": [
            "[nltk_data] Downloading package wordnet to /root/nltk_data...\n",
            "[nltk_data]   Package wordnet is already up-to-date!\n"
          ],
          "name": "stdout"
        }
      ]
    },
    {
      "cell_type": "code",
      "metadata": {
        "id": "tgeHM8wqBqkH",
        "colab_type": "code",
        "colab": {}
      },
      "source": [
        "transmission = list(set(transmission))\n",
        "stability = list(set(stability))\n",
        "incubation = list(set(incubation))"
      ],
      "execution_count": 0,
      "outputs": []
    },
    {
      "cell_type": "code",
      "metadata": {
        "id": "_7izojdkIFpD",
        "colab_type": "code",
        "outputId": "1b4b24e8-bab5-4762-f885-37747a3a6548",
        "colab": {
          "base_uri": "https://localhost:8080/",
          "height": 250
        }
      },
      "source": [
        "stability"
      ],
      "execution_count": 0,
      "outputs": [
        {
          "output_type": "execute_result",
          "data": {
            "text/plain": [
              "['environs',\n",
              " 'climate',\n",
              " 'habitat',\n",
              " 'temperature',\n",
              " 'surround',\n",
              " 'stableness',\n",
              " 'stability',\n",
              " 'celcius',\n",
              " 'constancy',\n",
              " 'weather',\n",
              " 'surroundings',\n",
              " 'environmental',\n",
              " 'environment',\n",
              " 'surrounding']"
            ]
          },
          "metadata": {
            "tags": []
          },
          "execution_count": 39
        }
      ]
    },
    {
      "cell_type": "code",
      "metadata": {
        "id": "z_YoLUxNIFwl",
        "colab_type": "code",
        "outputId": "0ab945cd-1f10-4fb7-a15d-457af04857ee",
        "colab": {
          "base_uri": "https://localhost:8080/",
          "height": 150
        }
      },
      "source": [
        "incubation"
      ],
      "execution_count": 0,
      "outputs": [
        {
          "output_type": "execute_result",
          "data": {
            "text/plain": [
              "['rate',\n",
              " 'duration',\n",
              " 'incubation',\n",
              " 'brooding',\n",
              " 'growth',\n",
              " 'incubated',\n",
              " 'time',\n",
              " 'establishment']"
            ]
          },
          "metadata": {
            "tags": []
          },
          "execution_count": 40
        }
      ]
    },
    {
      "cell_type": "code",
      "metadata": {
        "id": "0PbQYvh1C7si",
        "colab_type": "code",
        "outputId": "c8c41a16-a961-4448-dad2-2a2d4fc1abdc",
        "colab": {
          "base_uri": "https://localhost:8080/",
          "height": 148
        }
      },
      "source": [
        "transmission"
      ],
      "execution_count": 0,
      "outputs": [
        {
          "output_type": "execute_result",
          "data": {
            "text/plain": [
              "['transmission_system',\n",
              " 'transmittance',\n",
              " 'infection',\n",
              " 'transmitting',\n",
              " 'transmission',\n",
              " 'transmittal',\n",
              " 'contagion']"
            ]
          },
          "metadata": {
            "tags": []
          },
          "execution_count": 69
        }
      ]
    },
    {
      "cell_type": "code",
      "metadata": {
        "id": "c-wCqibfDBlf",
        "colab_type": "code",
        "colab": {}
      },
      "source": [
        "topics_list = df_topic['List of Topics'].tolist()\n",
        "topic_number = df_topic['Topic Number'].tolist()\n",
        "\n",
        "topics_dict = {}\n",
        "\n",
        "for i in range(len(topics_list)):\n",
        "    topics_dict[topic_number[i]] = topics_list[i]"
      ],
      "execution_count": 0,
      "outputs": []
    },
    {
      "cell_type": "code",
      "metadata": {
        "id": "eUe7nOdUDHaa",
        "colab_type": "code",
        "outputId": "c926ba5f-fbdb-4c03-a1a8-7a6282944407",
        "colab": {
          "base_uri": "https://localhost:8080/",
          "height": 33
        }
      },
      "source": [
        "len(topics_dict)"
      ],
      "execution_count": 0,
      "outputs": [
        {
          "output_type": "execute_result",
          "data": {
            "text/plain": [
              "200"
            ]
          },
          "metadata": {
            "tags": []
          },
          "execution_count": 42
        }
      ]
    },
    {
      "cell_type": "code",
      "metadata": {
        "id": "MwT6ZiOwEfcN",
        "colab_type": "code",
        "outputId": "e1965865-563d-4c8a-9ad3-bf7006a906e2",
        "colab": {
          "base_uri": "https://localhost:8080/",
          "height": 1000
        }
      },
      "source": [
        "topics_dict"
      ],
      "execution_count": 0,
      "outputs": [
        {
          "output_type": "execute_result",
          "data": {
            "text/plain": [
              "{0: 'expression immune cytokine il-6 production macrophage epithelial innate induced tnf',\n",
              " 1: 'antigen nanoparticles delivery immune surface particle vaccine peptide adjuvant dna',\n",
              " 2: 'duck chicken dna hsv-1 avian bird iltv adp-ribosylation ape vector',\n",
              " 3: 'lung inflammatory macrophage cytokine inflammation immune neutrophil alveolar airway pulmonary',\n",
              " 4: 'autophagy mouse spinal cord astrocyte autophagic brain replication expression demyelination',\n",
              " 5: 'genetic allele variant snp locus susceptibility qtl phenotype variation marker',\n",
              " 6: 'pdcov hong kong mortality organoids death excess diarrhea porcine deltacoronavirus',\n",
              " 7: 'bacterial bacteria microbiota microbiome microbial gut healthy abundance community diversity',\n",
              " 8: 'brain cns microglia neuron microglial encephalitis neuronal vitamin astrocyte neurological',\n",
              " 9: 'titre m41 hand b1648 virucidal log seed suspension product rt-qpcr',\n",
              " 10: 'idv cd9 htnv hef icv inflow hygiene hadv-7 neat1 hubei',\n",
              " 11: 'chikv nsp2 cough droplet corona denv1 denv2 albopictus mucus amyloid',\n",
              " 12: 'household air pollution transmission member index speech task quality connected',\n",
              " 13: 'resource care resident pandemic practice guideline public facility policy recommendation',\n",
              " 14: 'hiv-1 hiv env cd4 gag infectivity nef p24 mink kit',\n",
              " 15: 'cleavage protease fusion spike site tmprss2 entry glycoprotein furin receptor',\n",
              " 16: 'cycle parasite phase expression arrest cyclin g0g1 replication g2m eef1a',\n",
              " 17: 'city school mobility closure epidemic spatial flow pattern location week',\n",
              " 18: 'nuclear channel ion nucleolar nucleus localization nucleolus export transport rev',\n",
              " 19: 'cd8 pd-1 pd-l1 cd4 tfh nthi endothelial expression brain differentiation',\n",
              " 20: 'tree phylogenetic transmission cluster clade evolutionary genetic lineage distance phylogeny',\n",
              " 21: 'pig swine farm porcine rotavirus animal enteric diarrhea orf2 astrovirus',\n",
              " 22: 'aptamers aptamer dna target binding molecule modification affinity surface modified',\n",
              " 23: 'hadv agent risk gs-5734 coping learning unigenes hexon perception epidemic',\n",
              " 24: 'herd mbl cmv brsv serum antibody bcv concentration fermentation production',\n",
              " 25: 'expression transfected plasmid mutant antibody expressing interaction western buffer vector',\n",
              " 26: 'medium pdcs pdc tregs spleen news equation mass ifn-a solution',\n",
              " 27: 'frameshifting codon ribosome mrna site translation structure frameshift pseudoknot frame',\n",
              " 28: 'epitope antibody binding neutralizing mabs sars affinity immune chain library',\n",
              " 29: 'pneumonia lung chest pulmonary consolidation imaging pleural diagnostic scan effusion',\n",
              " 30: 'confinement housing calf territory balance fecal ghana public stall box',\n",
              " 31: 'hcv liver hepatitis huh7 core genotype replication cd81 line entry',\n",
              " 32: 'preprint covid-19 medrxiv license granted display copyright holder authorfunder perpetuitythe',\n",
              " 33: 'golgi membrane compartment form min transport secretory virion complex localization',\n",
              " 34: 'read genome sequencing library reference database coverage assembly length illumina',\n",
              " 35: 'replication cellular interaction complex mechanism pathway transcription binding target degradation',\n",
              " 36: 'iav replication inhibitor assay a549 entry k22 luciferase min mdck',\n",
              " 37: 'jev rnai sirna replication nsp11 sirnas mavs mrna antiviral sfrna',\n",
              " 38: 'haplotype contigs window set cyclophilin abundance clustering contig adv strain',\n",
              " 39: 'preprint copyright holder sars-cov-2 doi license authorfunder international biorxiv cc-by-nc-nd',\n",
              " 40: 'mers-cov dpp4 mers dromedary camel east middle receptor coronaviruses spike',\n",
              " 41: 'expression expressed transcript ace2 pathway differentially profile set enrichment network',\n",
              " 42: 'specie diversity distribution variable richness family parasite genus effort ecological',\n",
              " 43: 'hospital staff hcws medical care nurse worker room ward department',\n",
              " 44: 'tgev interaction binding sialic papn sia prcv acid hmgb1 receptor',\n",
              " 45: 'icu mortality admission outcome care hospital ventilation score blood failure',\n",
              " 46: 'ifn-i cox-2 cd8 bartonella cxcr5 pge mouse cox il-27 p14',\n",
              " 47: 'membrane raft place lipid inclusion assembly factory entry cholesterol cellular',\n",
              " 48: 'student isolation knowledge facility course medical setting learning care country',\n",
              " 49: 'saudi ata hfmd arabia search index keywords middle mef ear',\n",
              " 50: 'ns1 nmd protease pathway mrna interaction pkr inhibition transcript family',\n",
              " 51: 'asthma exacerbation airway hrv copd asthmatic rhinovirus allergic wheezing subject',\n",
              " 52: 'denv denv-2 dengue escape tat nab plasma myosin internalisation month',\n",
              " 53: 'min virion buffer incubated purified washed antibody macrophage added hiv-1',\n",
              " 54: 'laboratory exercise participant guideline surveillance national mrsa hai diagnostic ipc',\n",
              " 55: 'specie pcr genome sequencing identity genus acid family novel phylogenetic',\n",
              " 56: 'ifn ifns antiviral iii isgs signaling expression isg induced specie',\n",
              " 57: 'pol horse sox mrna decay sam shutoff mhv68 ecov xrn1',\n",
              " 58: 'dna p58 occludin temperature vpr repair crl plate damage heater',\n",
              " 59: 'drug resistance antibiotic therapy agent antimicrobial toxin bacteria bacterial therapeutic',\n",
              " 60: 'malaria social participant sv40 food falciparum cue isolation image elimination',\n",
              " 61: 'ev71 entry phev actin endocytosis erad inhibitor aecopd vp1 scarb2',\n",
              " 62: 'peptide epitope binding mab amino acid membrane incubated concentration min',\n",
              " 63: 'mhv stem prf mhv-a59 hairpin upstream a59 mutant assay attenuation',\n",
              " 64: 'genome domain exon family size conserved nidoviruses fidelity nidovirus genomic',\n",
              " 65: 'mers-cov mouse rbd vaccine antibody animal sars-cov neutralizing therapeutic subunit',\n",
              " 66: 'hsv-1 hnpcs m336 epithelial rotavirus antibody mouse vp7 ben light',\n",
              " 67: 'vlps membrane vlp arb min liposome lipid fraction binding mutant',\n",
              " 68: 'hrsv adenovirus ev-a71 enterovirus replication entry receptor alpaca bactrian ard',\n",
              " 69: 'poultry h5n1 market hpai risk bird area avian spatial chicken',\n",
              " 70: 'cat blood dog feline felv urine renal week plasma serum',\n",
              " 71: 'age child adult incidence aged prevalence period older old young',\n",
              " 72: 'lectin binding ptx3 bind grft sp-d acid receptor dc-sign interaction',\n",
              " 73: 'ferret animal gland goat mammary wash titer vaccinated inactivated challenge',\n",
              " 74: 'assay pcr sensitivity primer reaction amplification kit specimen rt-pcr testing',\n",
              " 75: 'mrna nsp1 utr translation cleavage ire element site structure transcript',\n",
              " 76: 'disorder igy disordered work intervention harm pid shell business seen',\n",
              " 77: 'pedv vero strain piglet ped cv777 diarrhea porcine trypsin antibody',\n",
              " 78: 'pathway signaling activation cypa expression phosphorylation involved apoptosis kinase inhibitor',\n",
              " 79: 'dna cd147 hcmv rbd nhps neutralization mers-cov spike rep d12',\n",
              " 80: 'tissue lung lesion animal tract nasal section epithelial organ inoculation',\n",
              " 81: 'mirnas mirna sirna p38 expression mapk target jnk g6pd sirnas',\n",
              " 82: 'rabies expert asia risk country survey area asian gps iran',\n",
              " 83: 'strain isolates genotype genome nucleotide phylogenetic genetic amino acid isolated',\n",
              " 84: 'network node degree distance epidemic spread edge graph connected size',\n",
              " 85: 'genome plant approach target technology dna expression synthetic genetic biology',\n",
              " 86: 'bcg risk tuberculosis bronchiectasis occupational vaccination country exposure biological rhinitis',\n",
              " 87: 'bat specie pertussis paramyxovirus site myotis genus coronaviruses cave pcr',\n",
              " 88: 'public country global national international capacity preparedness emergency community local',\n",
              " 89: 'parameter probability dynamic size equation susceptible transmission example simulation stochastic',\n",
              " 90: 'contact transmission tracing isolation probability symptom scenario quarantine period matrix',\n",
              " 91: 'dog canine cpv cdv cpv-2 surface parvovirus infantum parasite lri',\n",
              " 92: 'prv hsv tweet stress pheasant team nectin-1 twitter nurse reared',\n",
              " 93: 'mers mers-cov transmission saudi korea hospital contact arabia healthcare south',\n",
              " 94: 'particle temperature phage capsid min concentration humidity incubated hour library',\n",
              " 95: 'mutation strain h1n1 avian pandemic h3n2 mutant subtypes substitution adaptation',\n",
              " 96: 'ifitm3 ifit1 mrna complex ifit3 eif4e translation binding ifit2 interaction',\n",
              " 97: 'participant risk pandemic survey respondent perception people measure public questionnaire',\n",
              " 98: 'rodent reservoir specie arm hantavirus participant hantaviruses primary parasite forest',\n",
              " 99: 'preprint right reuse reserved allowed holder copyright doi authorfunder permissionthe',\n",
              " 100: 'animal transmission zoonotic specie area livestock risk spread world wildlife',\n",
              " 101: 'child pneumonia pneumoniae bacterial cap antibiotic swab bacteria specimen pcr',\n",
              " 102: 'therapy diagnosis recipient transplant month risk subject cmv transplantation symptom',\n",
              " 103: 'nsp16 nsp10 mtase binding nsp14 rig-i cap structure complex mda5',\n",
              " 104: 'sleep packaging sfb trypsin nsp15 grna monocyte apo cyt normal',\n",
              " 105: 'residue structure pro binding protease site substrate inhibitor crystal bond',\n",
              " 106: 'site selection genome mutation variant amino acid sars-cov-2 position substitution',\n",
              " 107: 'domain mutant structure interaction membrane residue acid surface structural receptor',\n",
              " 108: 'h5n1 macaque lung animal rhesus h1n1 kshv treated avian replication',\n",
              " 109: 'h1n1pdm cd200 insulin rat chlamydia min volume concentration chlamydial substance',\n",
              " 110: 'mouse lung weight animal loss titer survival ifnar tissue experiment',\n",
              " 111: 'surveillance ili pandemic illness season seasonal week sari laboratory period',\n",
              " 112: 'risk approach transmission community example area set parameter state spatial',\n",
              " 113: 'zikv flavivirus wnv mosquito denv zika strain vero dengue fever',\n",
              " 114: 'epidemic intervention peak measure impact strategy pandemic social reduction effective',\n",
              " 115: 'apoptosis expression ifitm3 ifitm antibody ifitm1 entry antiviral mitochondrial membrane',\n",
              " 116: 'recombination recombinant mers-cov genome tree breakpoints heterogeneity camel breakpoint distribution',\n",
              " 117: 'sars-cov cov covs coronaviruses nsp3 sars nsp4 membrane mhv replication',\n",
              " 118: 'wild specie bird avian domestic lion prevalence juvenile fiv duck',\n",
              " 119: 'membrane replication structure dmvs vesicle electron formation spherule dmv synthesis',\n",
              " 120: 'estimate distribution period interval estimated transmission onset epidemic parameter incubation',\n",
              " 121: 'flu behavior facemask search correlation intention hong social kong google',\n",
              " 122: 'faecal cryptosporidium parvum nanopore diarrhoea flock oocysts construct npi fusobacterium',\n",
              " 123: 'ifn signaling activation irf3 rig-i innate immune pathway antiviral expression',\n",
              " 124: 'camel dog dromedary seroprevalence canine breed herd animal nasal fecal',\n",
              " 125: 'peptide fusion inhibitor hr1 target hr2 trim ek1 inhibitory cathepsin',\n",
              " 126: 'assay replication concentration inhibition antiviral plate medium incubated added hour',\n",
              " 127: 'bat line alecto hcq interferon fruit antiviral specie hev reservoir',\n",
              " 128: 'dpi shedding iga antibody titer challenge serum fecal animal igg',\n",
              " 129: 'entry expression vector luciferase transduction expressing particle pseudotyped vsv glycoprotein',\n",
              " 130: 'mask transmission risk respirator contact exposure n95 protection measure pilgrim',\n",
              " 131: 'h7n9 zinc h1n1 depression risk ptsd weight iavs allele cbd',\n",
              " 132: 'country epidemic growth parameter death curve daily point exponential china',\n",
              " 133: 'ibv chicken strain bird egg ndv poultry avian kidney trachea',\n",
              " 134: 'probe array microarray bacterial target specie hybridization bacteria dna organism',\n",
              " 135: 'calf diarrhea cattle farm animal bovine coli fecal age brd',\n",
              " 136: 'concentration extract treated rat antiviral dose animal assay drug mgkg',\n",
              " 137: 'particle air aerosol airborne droplet room concentration size flow filter',\n",
              " 138: 'bat specie transmission reservoir lyssavirus spillover dynamic colony cov africa',\n",
              " 139: 'ifitm1 mutant particle caffeine copi coat interferon transport copii vsv-g',\n",
              " 140: 'interaction binding complex structure mass site domain peptide buffer residue',\n",
              " 141: 'csa cytokine reinfection spectrum il6 ntcp concentration variation peak strain',\n",
              " 142: 'binding structure glycosylation glycan glycans glycoprotein g4s ncl site surface',\n",
              " 143: 'rsv child hmpv infant hrv age tract rhinovirus pediatric bronchiolitis',\n",
              " 144: 'membrane fusion lipid endosomes autophagy vesicle lysosome endosomal compartment trafficking',\n",
              " 145: 'prrsv fmdv marc-145 expression tissue prrsv-infected prrs porcine hp-prrsv interaction',\n",
              " 146: 'ev-d68 aeruginosa glycyrrhizin ddx5 haemofelis chimera cd31 ipd skin exposure',\n",
              " 147: 'mouse immune cd8 cytokine cd4 expression il-10 ifn production antigen',\n",
              " 148: 'primer ventilation set hcp location zone pair design hbov1 gown',\n",
              " 149: 'article public search publication database term published scientific researcher user',\n",
              " 150: 'nlrp3 inflammasome hmpv activation diabetes mitochondrial berberine caspase-1 mitochondrion il-18',\n",
              " 151: 'drug antiviral inhibitor replication chloroquine inhibit vitro inhibition combination compound',\n",
              " 152: 'compound derivative antiviral concentration inhibition acid active spectrum chemical inhibitory',\n",
              " 153: 'stat3 snp association allele genotype polymorphism susceptibility frequency ifitm3 promoter',\n",
              " 154: 'ebola motif polymerase sierra leone guinea base hms-1 ebolavirus template',\n",
              " 155: 'country travel passenger screening risk transmission imported traveller spread temperature',\n",
              " 156: 'piglet intestinal sow intestine diarrhoea diarrhea litter gilt ileum pig',\n",
              " 157: 'woman pregnant pregnancy maternal infant mother neonatal birth trimester newborn',\n",
              " 158: 'primer pcr cdna genome product dna plasmid clone reverse replication',\n",
              " 159: 'crp bacterial pct antibiotic biomarkers blood mxa foal wbc mgl',\n",
              " 160: 'pandemic shelter pcp civ cambodia taipei state law primary imp',\n",
              " 161: 'adjuvant cpg alum mpl hcov-emc vaccine ifitms formulation ssrna immune',\n",
              " 162: 'cat fcov fip feline fipv tissue mutation fecv serotype fcovs',\n",
              " 163: 'hbv rnase load replication isg20 antiviral ns4b therapy target ns2',\n",
              " 164: 'segment plasmid vrna pr8 reporter strain gfp promoter transfection rescue',\n",
              " 165: 'ace2 rbd binding structure receptor residue sars-cov-2 interaction spike conformation',\n",
              " 166: 'helicase dna atp duplex atpase helicases substrate unwinding nsp13 strand',\n",
              " 167: 'dengue mosquito vector rvfv egypt ddx1 transmission risk area growth',\n",
              " 168: 'strain gc376 drug growth oil concentration pomegranate yeast membrane essential',\n",
              " 169: 'house becn1 trap oxygen adult larva lesser skp2 lure extraction',\n",
              " 170: 'antibody serum igg elisa neutralizing mouse titer assay mab neutralization',\n",
              " 171: 'feed inactivation surface temperature pedv pig experiment material ingredient infectivity',\n",
              " 172: 'pool sick prevalence water state pressure hsp meteorological average germany',\n",
              " 173: 'pig passage titer replication attenuated pcv2 piglet animal inoculated culture',\n",
              " 174: 'vaccination vaccine ph1n1 mucosal military nmi uptake recruit camp administration',\n",
              " 175: 'lncrnas lncrna specimen tannin selection bottleneck flua coding pst sequencing',\n",
              " 176: 'mtb phage agonist adenoid tonsil bag3 antagonist receptor ozone bplf1',\n",
              " 177: 'isg15 hev rdrp ubiquitin polymerase domain enzyme reaction isgylation assay',\n",
              " 178: 'hcov-nl63 hcov-229e hcov-oc43 coronaviruses hcov hcovs hcov-hku1 oc43 hku1 tract',\n",
              " 179: 'cost economic impact eid loss eids vaccine event global risk',\n",
              " 180: 'symptom fever hospital diagnosis illness cough onset admission laboratory history',\n",
              " 181: 'trial outcome review risk bias placebo systematic randomized adverse meta-analysis',\n",
              " 182: 'prediction epitope predicted structure score tool algorithm feature energy set',\n",
              " 183: 'expression mrna stress hpi pathway cellular transcription induced activation replication',\n",
              " 184: 'transcript pcv3 b19 size reovirus dna profile similarity exon viperin',\n",
              " 185: 'acid expression activation production liver lipid cancer metabolism oxidative pathway',\n",
              " 186: 'filmarray isg20 pkr amplification cea mx1 oas1 dna pouch stage',\n",
              " 187: 'fusion class receptor entry mhc membrane molecule peptide binding haplotype',\n",
              " 188: 'codon usage yeast prion bias prp composition component bse selection',\n",
              " 189: 'orf orfs trs tfr1 genome vip coronaviruses accessory acid amino',\n",
              " 190: 'del della che una non tra salute come studio nei',\n",
              " 191: 'visit temperature hospital emergency dip average ratio standard pixel code',\n",
              " 192: 'vaccine vaccination vector immune protection antibody challenge dna immunization antigen',\n",
              " 193: 'sampling site area environmental variable county collection location sampler blood',\n",
              " 194: 'tcm inhibitor drug mast cytokine active vitro target immune molecule',\n",
              " 195: 'cancer tumor district idsr chemotherapy cam therapy oncology malignancy antibiotic',\n",
              " 196: 'culture medium surface epithelial incubated antibody min receptor staining washed',\n",
              " 197: 'ebov fusion filovirus marv npc1 concentration membrane target effector surface',\n",
              " 198: 'preprint license medrxiv granted display covid-19 authorfunder international holder copyright',\n",
              " 199: 'china sars province wuhan january chinese ncov epidemic hubei people'}"
            ]
          },
          "metadata": {
            "tags": []
          },
          "execution_count": 43
        }
      ]
    },
    {
      "cell_type": "code",
      "metadata": {
        "id": "mdXFzw4mFhyz",
        "colab_type": "code",
        "colab": {}
      },
      "source": [
        "transmission_list_number = []\n",
        "for key, values in topics_dict.items():\n",
        "    for word in transmission:\n",
        "        if (word in values.split()):\n",
        "            transmission_list_number.append(key)\n",
        "\n",
        "stability_list_number = []\n",
        "for key, values in topics_dict.items():\n",
        "    for word in stability:\n",
        "        if (word in values.split()):\n",
        "            stability_list_number.append(key)\n",
        "\n",
        "incubation_list_number = []\n",
        "for key, values in topics_dict.items():\n",
        "    for word in incubation:\n",
        "        if (word in values.split()):\n",
        "            incubation_list_number.append(key)"
      ],
      "execution_count": 0,
      "outputs": []
    },
    {
      "cell_type": "code",
      "metadata": {
        "id": "8jo8TWNAGZfr",
        "colab_type": "code",
        "outputId": "97ab5acc-7a82-453a-c986-94ec1e8975c3",
        "colab": {
          "base_uri": "https://localhost:8080/",
          "height": 33
        }
      },
      "source": [
        "transmission_list_number = list(set(transmission_list_number))\n",
        "transmission_list_number"
      ],
      "execution_count": 0,
      "outputs": [
        {
          "output_type": "execute_result",
          "data": {
            "text/plain": [
              "[130, 100, 167, 138, 12, 112, 20, 120, 89, 90, 155, 93]"
            ]
          },
          "metadata": {
            "tags": []
          },
          "execution_count": 45
        }
      ]
    },
    {
      "cell_type": "code",
      "metadata": {
        "id": "2Bo8padFHsjV",
        "colab_type": "code",
        "outputId": "9ff88087-ec98-4030-f127-259d806a557b",
        "colab": {
          "base_uri": "https://localhost:8080/",
          "height": 33
        }
      },
      "source": [
        "stability_list_number = list(set(stability_list_number))\n",
        "stability_list_number"
      ],
      "execution_count": 0,
      "outputs": [
        {
          "output_type": "execute_result",
          "data": {
            "text/plain": [
              "[193, 171, 58, 155, 94, 191]"
            ]
          },
          "metadata": {
            "tags": []
          },
          "execution_count": 46
        }
      ]
    },
    {
      "cell_type": "code",
      "metadata": {
        "id": "So1Ba9mvHvEo",
        "colab_type": "code",
        "outputId": "39c5b96c-98a0-40ab-a419-99e1ea99ef7c",
        "colab": {
          "base_uri": "https://localhost:8080/",
          "height": 33
        }
      },
      "source": [
        "incubation_list_number = list(set(incubation_list_number))\n",
        "incubation_list_number"
      ],
      "execution_count": 0,
      "outputs": [
        {
          "output_type": "execute_result",
          "data": {
            "text/plain": [
              "[196, 132, 167, 168, 53, 62, 120, 94, 126]"
            ]
          },
          "metadata": {
            "tags": []
          },
          "execution_count": 47
        }
      ]
    },
    {
      "cell_type": "code",
      "metadata": {
        "id": "PfU71qgtHw5D",
        "colab_type": "code",
        "outputId": "40055a99-90f4-47af-ec6c-e5a3294ac27f",
        "colab": {
          "base_uri": "https://localhost:8080/",
          "height": 381
        }
      },
      "source": [
        "df_topic = df_topic.drop([\"Unnamed: 0\"], axis = 1)\n",
        "df_topic.head()"
      ],
      "execution_count": 0,
      "outputs": [
        {
          "output_type": "execute_result",
          "data": {
            "text/html": [
              "<div>\n",
              "<style scoped>\n",
              "    .dataframe tbody tr th:only-of-type {\n",
              "        vertical-align: middle;\n",
              "    }\n",
              "\n",
              "    .dataframe tbody tr th {\n",
              "        vertical-align: top;\n",
              "    }\n",
              "\n",
              "    .dataframe thead th {\n",
              "        text-align: right;\n",
              "    }\n",
              "</style>\n",
              "<table border=\"1\" class=\"dataframe\">\n",
              "  <thead>\n",
              "    <tr style=\"text-align: right;\">\n",
              "      <th></th>\n",
              "      <th>title</th>\n",
              "      <th>abstract</th>\n",
              "      <th>body_text</th>\n",
              "      <th>ref</th>\n",
              "      <th>text_lemmatized</th>\n",
              "      <th>Topic Number</th>\n",
              "      <th>List of Topics</th>\n",
              "    </tr>\n",
              "  </thead>\n",
              "  <tbody>\n",
              "    <tr>\n",
              "      <th>0</th>\n",
              "      <td>analysis title regaining perspective on sars-c...</td>\n",
              "      <td>during the past three months a new coronavirus...</td>\n",
              "      <td>in december 2019 a novel coronavirus sars-cov-...</td>\n",
              "      <td>ms is supported in part by the stephany w holl...</td>\n",
              "      <td>['in', 'december', '2019', 'a', 'novel', 'coro...</td>\n",
              "      <td>20</td>\n",
              "      <td>tree phylogenetic transmission cluster clade e...</td>\n",
              "    </tr>\n",
              "    <tr>\n",
              "      <th>1</th>\n",
              "      <td>relationship between average daily temperature...</td>\n",
              "      <td>the rapid outbreak of the new coronavirus pand...</td>\n",
              "      <td>the outbreak of infectious diseases has always...</td>\n",
              "      <td>other studies in this area include nkengasong ...</td>\n",
              "      <td>['the', 'outbreak', 'of', 'infectious', 'disea...</td>\n",
              "      <td>132</td>\n",
              "      <td>country epidemic growth parameter death curve ...</td>\n",
              "    </tr>\n",
              "    <tr>\n",
              "      <th>2</th>\n",
              "      <td>assessing spread risk of wuhan novel coronavir...</td>\n",
              "      <td>background a novel coronavirus  emerged in wuh...</td>\n",
              "      <td>in december 2019 a cluster of patients with pn...</td>\n",
              "      <td>february 1 st  2020 reported by singapore  sou...</td>\n",
              "      <td>['in', 'december', '2019', 'a', 'cluster', 'of...</td>\n",
              "      <td>155</td>\n",
              "      <td>country travel passenger screening risk transm...</td>\n",
              "    </tr>\n",
              "    <tr>\n",
              "      <th>3</th>\n",
              "      <td>forecasting the worldwide spread of covid-19 b...</td>\n",
              "      <td>background with the outbreak of coronavirus di...</td>\n",
              "      <td>a novel coronavirus caused pneumonia cases in ...</td>\n",
              "      <td>including italy south korea iran and france th...</td>\n",
              "      <td>['a', 'novel', 'coronavirus', 'caused', 'pneum...</td>\n",
              "      <td>198</td>\n",
              "      <td>preprint license medrxiv granted display covid...</td>\n",
              "    </tr>\n",
              "    <tr>\n",
              "      <th>4</th>\n",
              "      <td>title the early scientific literature response...</td>\n",
              "      <td>all rights reserved no reuse allowed without p...</td>\n",
              "      <td>recent events highlight how emerging and re-em...</td>\n",
              "      <td>moher d liberati a tetzlaff j altman dg the pr...</td>\n",
              "      <td>['recent', 'event', 'highlight', 'how', 'emerg...</td>\n",
              "      <td>149</td>\n",
              "      <td>article public search publication database ter...</td>\n",
              "    </tr>\n",
              "  </tbody>\n",
              "</table>\n",
              "</div>"
            ],
            "text/plain": [
              "                                               title  ...                                     List of Topics\n",
              "0  analysis title regaining perspective on sars-c...  ...  tree phylogenetic transmission cluster clade e...\n",
              "1  relationship between average daily temperature...  ...  country epidemic growth parameter death curve ...\n",
              "2  assessing spread risk of wuhan novel coronavir...  ...  country travel passenger screening risk transm...\n",
              "3  forecasting the worldwide spread of covid-19 b...  ...  preprint license medrxiv granted display covid...\n",
              "4  title the early scientific literature response...  ...  article public search publication database ter...\n",
              "\n",
              "[5 rows x 7 columns]"
            ]
          },
          "metadata": {
            "tags": []
          },
          "execution_count": 48
        }
      ]
    },
    {
      "cell_type": "code",
      "metadata": {
        "id": "w60fr0ZFSDKe",
        "colab_type": "code",
        "colab": {}
      },
      "source": [
        "df_topic[\"task\"] = \"not_required\""
      ],
      "execution_count": 0,
      "outputs": []
    },
    {
      "cell_type": "code",
      "metadata": {
        "id": "7JQZJe_ATLXg",
        "colab_type": "code",
        "colab": {}
      },
      "source": [
        "for i in range(df_topic.shape[0]):\n",
        "    if int(df.loc[i,\"Topic Number\"]) in incubation_list_number:\n",
        "        df_topic.iloc[i, 7] = \"incubation\"\n",
        "    if int(df.loc[i,\"Topic Number\"]) in transmission_list_number:\n",
        "        df_topic.iloc[i, 7] = \"transmission\"\n",
        "    if int(df.loc[i,\"Topic Number\"]) in stability_list_number:\n",
        "        df_topic.iloc[i, 7] = \"stability\""
      ],
      "execution_count": 0,
      "outputs": []
    },
    {
      "cell_type": "code",
      "metadata": {
        "id": "-XUKxq0eTY0o",
        "colab_type": "code",
        "outputId": "a51c8c4d-8b11-45be-e4b9-4dbc1f0048f4",
        "colab": {
          "base_uri": "https://localhost:8080/",
          "height": 381
        }
      },
      "source": [
        "df_topic = df_topic[df_topic['task'] != \"not_required\"]\n",
        "df_topic.head()"
      ],
      "execution_count": 0,
      "outputs": [
        {
          "output_type": "execute_result",
          "data": {
            "text/html": [
              "<div>\n",
              "<style scoped>\n",
              "    .dataframe tbody tr th:only-of-type {\n",
              "        vertical-align: middle;\n",
              "    }\n",
              "\n",
              "    .dataframe tbody tr th {\n",
              "        vertical-align: top;\n",
              "    }\n",
              "\n",
              "    .dataframe thead th {\n",
              "        text-align: right;\n",
              "    }\n",
              "</style>\n",
              "<table border=\"1\" class=\"dataframe\">\n",
              "  <thead>\n",
              "    <tr style=\"text-align: right;\">\n",
              "      <th></th>\n",
              "      <th>title</th>\n",
              "      <th>abstract</th>\n",
              "      <th>body_text</th>\n",
              "      <th>ref</th>\n",
              "      <th>text_lemmatized</th>\n",
              "      <th>Topic Number</th>\n",
              "      <th>List of Topics</th>\n",
              "      <th>task</th>\n",
              "    </tr>\n",
              "  </thead>\n",
              "  <tbody>\n",
              "    <tr>\n",
              "      <th>0</th>\n",
              "      <td>analysis title regaining perspective on sars-c...</td>\n",
              "      <td>during the past three months a new coronavirus...</td>\n",
              "      <td>in december 2019 a novel coronavirus sars-cov-...</td>\n",
              "      <td>ms is supported in part by the stephany w holl...</td>\n",
              "      <td>['in', 'december', '2019', 'a', 'novel', 'coro...</td>\n",
              "      <td>20</td>\n",
              "      <td>tree phylogenetic transmission cluster clade e...</td>\n",
              "      <td>transmission</td>\n",
              "    </tr>\n",
              "    <tr>\n",
              "      <th>1</th>\n",
              "      <td>relationship between average daily temperature...</td>\n",
              "      <td>the rapid outbreak of the new coronavirus pand...</td>\n",
              "      <td>the outbreak of infectious diseases has always...</td>\n",
              "      <td>other studies in this area include nkengasong ...</td>\n",
              "      <td>['the', 'outbreak', 'of', 'infectious', 'disea...</td>\n",
              "      <td>132</td>\n",
              "      <td>country epidemic growth parameter death curve ...</td>\n",
              "      <td>incubation</td>\n",
              "    </tr>\n",
              "    <tr>\n",
              "      <th>2</th>\n",
              "      <td>assessing spread risk of wuhan novel coronavir...</td>\n",
              "      <td>background a novel coronavirus  emerged in wuh...</td>\n",
              "      <td>in december 2019 a cluster of patients with pn...</td>\n",
              "      <td>february 1 st  2020 reported by singapore  sou...</td>\n",
              "      <td>['in', 'december', '2019', 'a', 'cluster', 'of...</td>\n",
              "      <td>155</td>\n",
              "      <td>country travel passenger screening risk transm...</td>\n",
              "      <td>stability</td>\n",
              "    </tr>\n",
              "    <tr>\n",
              "      <th>10</th>\n",
              "      <td>estimation of the final size of the second pha...</td>\n",
              "      <td>in the note the logistic growth regression mod...</td>\n",
              "      <td>however use approximate solution and thus obta...</td>\n",
              "      <td>doubling time predicted evaluation of coronavi...</td>\n",
              "      <td>['however', 'use', 'approximate', 'solution', ...</td>\n",
              "      <td>132</td>\n",
              "      <td>country epidemic growth parameter death curve ...</td>\n",
              "      <td>incubation</td>\n",
              "    </tr>\n",
              "    <tr>\n",
              "      <th>19</th>\n",
              "      <td>quantifying sars-cov-2 transmission suggests e...</td>\n",
              "      <td>the newly emergent human virus sars-cov-2 is r...</td>\n",
              "      <td>environmental transmission transmission via co...</td>\n",
              "      <td>the value does not depend significantly on the...</td>\n",
              "      <td>['environmental', 'transmission', 'transmissio...</td>\n",
              "      <td>120</td>\n",
              "      <td>estimate distribution period interval estimate...</td>\n",
              "      <td>transmission</td>\n",
              "    </tr>\n",
              "  </tbody>\n",
              "</table>\n",
              "</div>"
            ],
            "text/plain": [
              "                                                title  ...          task\n",
              "0   analysis title regaining perspective on sars-c...  ...  transmission\n",
              "1   relationship between average daily temperature...  ...    incubation\n",
              "2   assessing spread risk of wuhan novel coronavir...  ...     stability\n",
              "10  estimation of the final size of the second pha...  ...    incubation\n",
              "19  quantifying sars-cov-2 transmission suggests e...  ...  transmission\n",
              "\n",
              "[5 rows x 8 columns]"
            ]
          },
          "metadata": {
            "tags": []
          },
          "execution_count": 51
        }
      ]
    },
    {
      "cell_type": "code",
      "metadata": {
        "id": "w_oDYvqSTt4C",
        "colab_type": "code",
        "outputId": "7516d74c-36a3-40fd-820a-3b7ba0b3f2a1",
        "colab": {
          "base_uri": "https://localhost:8080/",
          "height": 33
        }
      },
      "source": [
        "df_topic.shape"
      ],
      "execution_count": 0,
      "outputs": [
        {
          "output_type": "execute_result",
          "data": {
            "text/plain": [
              "(887, 8)"
            ]
          },
          "metadata": {
            "tags": []
          },
          "execution_count": 52
        }
      ]
    },
    {
      "cell_type": "code",
      "metadata": {
        "id": "l2ssSrLUUCO1",
        "colab_type": "code",
        "colab": {}
      },
      "source": [
        "df_topic.to_csv(\"/content/drive/My Drive/Covid/final_threetopics.csv\")"
      ],
      "execution_count": 0,
      "outputs": []
    },
    {
      "cell_type": "code",
      "metadata": {
        "id": "RKaqNrVmUQoG",
        "colab_type": "code",
        "outputId": "22e02be1-0896-41b0-ccec-d1bb8837721d",
        "colab": {
          "base_uri": "https://localhost:8080/",
          "height": 381
        }
      },
      "source": [
        "df_topic = pd.read_csv(\"/content/drive/My Drive/Covid/final_threetopics.csv\", index_col = None)\n",
        "df_topic = df_topic.drop([\"Unnamed: 0\"], axis = 1)\n",
        "df_topic.head()"
      ],
      "execution_count": 0,
      "outputs": [
        {
          "output_type": "execute_result",
          "data": {
            "text/html": [
              "<div>\n",
              "<style scoped>\n",
              "    .dataframe tbody tr th:only-of-type {\n",
              "        vertical-align: middle;\n",
              "    }\n",
              "\n",
              "    .dataframe tbody tr th {\n",
              "        vertical-align: top;\n",
              "    }\n",
              "\n",
              "    .dataframe thead th {\n",
              "        text-align: right;\n",
              "    }\n",
              "</style>\n",
              "<table border=\"1\" class=\"dataframe\">\n",
              "  <thead>\n",
              "    <tr style=\"text-align: right;\">\n",
              "      <th></th>\n",
              "      <th>title</th>\n",
              "      <th>abstract</th>\n",
              "      <th>body_text</th>\n",
              "      <th>ref</th>\n",
              "      <th>text_lemmatized</th>\n",
              "      <th>Topic Number</th>\n",
              "      <th>List of Topics</th>\n",
              "      <th>task</th>\n",
              "    </tr>\n",
              "  </thead>\n",
              "  <tbody>\n",
              "    <tr>\n",
              "      <th>0</th>\n",
              "      <td>analysis title regaining perspective on sars-c...</td>\n",
              "      <td>during the past three months a new coronavirus...</td>\n",
              "      <td>in december 2019 a novel coronavirus sars-cov-...</td>\n",
              "      <td>ms is supported in part by the stephany w holl...</td>\n",
              "      <td>['in', 'december', '2019', 'a', 'novel', 'coro...</td>\n",
              "      <td>20</td>\n",
              "      <td>tree phylogenetic transmission cluster clade e...</td>\n",
              "      <td>transmission</td>\n",
              "    </tr>\n",
              "    <tr>\n",
              "      <th>1</th>\n",
              "      <td>relationship between average daily temperature...</td>\n",
              "      <td>the rapid outbreak of the new coronavirus pand...</td>\n",
              "      <td>the outbreak of infectious diseases has always...</td>\n",
              "      <td>other studies in this area include nkengasong ...</td>\n",
              "      <td>['the', 'outbreak', 'of', 'infectious', 'disea...</td>\n",
              "      <td>132</td>\n",
              "      <td>country epidemic growth parameter death curve ...</td>\n",
              "      <td>incubation</td>\n",
              "    </tr>\n",
              "    <tr>\n",
              "      <th>2</th>\n",
              "      <td>assessing spread risk of wuhan novel coronavir...</td>\n",
              "      <td>background a novel coronavirus  emerged in wuh...</td>\n",
              "      <td>in december 2019 a cluster of patients with pn...</td>\n",
              "      <td>february 1 st  2020 reported by singapore  sou...</td>\n",
              "      <td>['in', 'december', '2019', 'a', 'cluster', 'of...</td>\n",
              "      <td>155</td>\n",
              "      <td>country travel passenger screening risk transm...</td>\n",
              "      <td>stability</td>\n",
              "    </tr>\n",
              "    <tr>\n",
              "      <th>3</th>\n",
              "      <td>estimation of the final size of the second pha...</td>\n",
              "      <td>in the note the logistic growth regression mod...</td>\n",
              "      <td>however use approximate solution and thus obta...</td>\n",
              "      <td>doubling time predicted evaluation of coronavi...</td>\n",
              "      <td>['however', 'use', 'approximate', 'solution', ...</td>\n",
              "      <td>132</td>\n",
              "      <td>country epidemic growth parameter death curve ...</td>\n",
              "      <td>incubation</td>\n",
              "    </tr>\n",
              "    <tr>\n",
              "      <th>4</th>\n",
              "      <td>quantifying sars-cov-2 transmission suggests e...</td>\n",
              "      <td>the newly emergent human virus sars-cov-2 is r...</td>\n",
              "      <td>environmental transmission transmission via co...</td>\n",
              "      <td>the value does not depend significantly on the...</td>\n",
              "      <td>['environmental', 'transmission', 'transmissio...</td>\n",
              "      <td>120</td>\n",
              "      <td>estimate distribution period interval estimate...</td>\n",
              "      <td>transmission</td>\n",
              "    </tr>\n",
              "  </tbody>\n",
              "</table>\n",
              "</div>"
            ],
            "text/plain": [
              "                                               title  ...          task\n",
              "0  analysis title regaining perspective on sars-c...  ...  transmission\n",
              "1  relationship between average daily temperature...  ...    incubation\n",
              "2  assessing spread risk of wuhan novel coronavir...  ...     stability\n",
              "3  estimation of the final size of the second pha...  ...    incubation\n",
              "4  quantifying sars-cov-2 transmission suggests e...  ...  transmission\n",
              "\n",
              "[5 rows x 8 columns]"
            ]
          },
          "metadata": {
            "tags": []
          },
          "execution_count": 55
        }
      ]
    },
    {
      "cell_type": "code",
      "metadata": {
        "id": "2NopZ42WUm0l",
        "colab_type": "code",
        "colab": {}
      },
      "source": [
        "df_topic[\"count_task\"] = 0"
      ],
      "execution_count": 0,
      "outputs": []
    },
    {
      "cell_type": "code",
      "metadata": {
        "id": "3Dx-cBCcWfXb",
        "colab_type": "code",
        "colab": {}
      },
      "source": [
        "text_body = df_topic['body_text'].tolist()\n",
        "tokens = [word.split() for word in text_body]"
      ],
      "execution_count": 0,
      "outputs": []
    },
    {
      "cell_type": "code",
      "metadata": {
        "id": "XSrsWsN4Vare",
        "colab_type": "code",
        "colab": {}
      },
      "source": [
        "for i in range(df_topic.shape[0]):\n",
        "    count = 0\n",
        "    task = df_topic.iloc[i,7]\n",
        "    if(task == \"transmission\"):\n",
        "        # print(\"t\")\n",
        "        for word in transmission:\n",
        "            if (tokens[i].count(word)>0):\n",
        "                count += tokens[i].count(word)\n",
        "        df_topic.loc[i, \"count_task\"] = count\n",
        "\n",
        "    elif(task == \"stability\"):\n",
        "        # print(\"s\")\n",
        "        for word in stability:\n",
        "            if (tokens[i].count(word)>0):\n",
        "                count += tokens[i].count(word)\n",
        "        df_topic.loc[i, \"count_task\"] = count\n",
        "\n",
        "    elif(task == \"incubation\"):\n",
        "        # print(\"i\")\n",
        "        for word in incubation:\n",
        "            if (tokens[i].count(word)>0):\n",
        "                count += tokens[i].count(word)\n",
        "        df_topic.loc[i, \"count_task\"] = count\n",
        "    else:\n",
        "        # print(\"m\")\n",
        "        continue"
      ],
      "execution_count": 0,
      "outputs": []
    },
    {
      "cell_type": "code",
      "metadata": {
        "id": "EbJ0vzbLWCzx",
        "colab_type": "code",
        "outputId": "8be60103-2b4e-4bf9-eff3-6a09d537fb22",
        "colab": {
          "base_uri": "https://localhost:8080/",
          "height": 464
        }
      },
      "source": [
        "df_topic.head()"
      ],
      "execution_count": 0,
      "outputs": [
        {
          "output_type": "execute_result",
          "data": {
            "text/html": [
              "<div>\n",
              "<style scoped>\n",
              "    .dataframe tbody tr th:only-of-type {\n",
              "        vertical-align: middle;\n",
              "    }\n",
              "\n",
              "    .dataframe tbody tr th {\n",
              "        vertical-align: top;\n",
              "    }\n",
              "\n",
              "    .dataframe thead th {\n",
              "        text-align: right;\n",
              "    }\n",
              "</style>\n",
              "<table border=\"1\" class=\"dataframe\">\n",
              "  <thead>\n",
              "    <tr style=\"text-align: right;\">\n",
              "      <th></th>\n",
              "      <th>title</th>\n",
              "      <th>abstract</th>\n",
              "      <th>body_text</th>\n",
              "      <th>ref</th>\n",
              "      <th>text_lemmatized</th>\n",
              "      <th>Topic Number</th>\n",
              "      <th>List of Topics</th>\n",
              "      <th>task</th>\n",
              "      <th>count_task</th>\n",
              "    </tr>\n",
              "  </thead>\n",
              "  <tbody>\n",
              "    <tr>\n",
              "      <th>0</th>\n",
              "      <td>analysis title regaining perspective on sars-c...</td>\n",
              "      <td>during the past three months a new coronavirus...</td>\n",
              "      <td>in december 2019 a novel coronavirus sars-cov-...</td>\n",
              "      <td>ms is supported in part by the stephany w holl...</td>\n",
              "      <td>['in', 'december', '2019', 'a', 'novel', 'coro...</td>\n",
              "      <td>20</td>\n",
              "      <td>tree phylogenetic transmission cluster clade e...</td>\n",
              "      <td>transmission</td>\n",
              "      <td>3</td>\n",
              "    </tr>\n",
              "    <tr>\n",
              "      <th>1</th>\n",
              "      <td>relationship between average daily temperature...</td>\n",
              "      <td>the rapid outbreak of the new coronavirus pand...</td>\n",
              "      <td>the outbreak of infectious diseases has always...</td>\n",
              "      <td>other studies in this area include nkengasong ...</td>\n",
              "      <td>['the', 'outbreak', 'of', 'infectious', 'disea...</td>\n",
              "      <td>132</td>\n",
              "      <td>country epidemic growth parameter death curve ...</td>\n",
              "      <td>incubation</td>\n",
              "      <td>34</td>\n",
              "    </tr>\n",
              "    <tr>\n",
              "      <th>2</th>\n",
              "      <td>assessing spread risk of wuhan novel coronavir...</td>\n",
              "      <td>background a novel coronavirus  emerged in wuh...</td>\n",
              "      <td>in december 2019 a cluster of patients with pn...</td>\n",
              "      <td>february 1 st  2020 reported by singapore  sou...</td>\n",
              "      <td>['in', 'december', '2019', 'a', 'cluster', 'of...</td>\n",
              "      <td>155</td>\n",
              "      <td>country travel passenger screening risk transm...</td>\n",
              "      <td>stability</td>\n",
              "      <td>1</td>\n",
              "    </tr>\n",
              "    <tr>\n",
              "      <th>3</th>\n",
              "      <td>estimation of the final size of the second pha...</td>\n",
              "      <td>in the note the logistic growth regression mod...</td>\n",
              "      <td>however use approximate solution and thus obta...</td>\n",
              "      <td>doubling time predicted evaluation of coronavi...</td>\n",
              "      <td>['however', 'use', 'approximate', 'solution', ...</td>\n",
              "      <td>132</td>\n",
              "      <td>country epidemic growth parameter death curve ...</td>\n",
              "      <td>incubation</td>\n",
              "      <td>16</td>\n",
              "    </tr>\n",
              "    <tr>\n",
              "      <th>4</th>\n",
              "      <td>quantifying sars-cov-2 transmission suggests e...</td>\n",
              "      <td>the newly emergent human virus sars-cov-2 is r...</td>\n",
              "      <td>environmental transmission transmission via co...</td>\n",
              "      <td>the value does not depend significantly on the...</td>\n",
              "      <td>['environmental', 'transmission', 'transmissio...</td>\n",
              "      <td>120</td>\n",
              "      <td>estimate distribution period interval estimate...</td>\n",
              "      <td>transmission</td>\n",
              "      <td>36</td>\n",
              "    </tr>\n",
              "  </tbody>\n",
              "</table>\n",
              "</div>"
            ],
            "text/plain": [
              "                                               title  ... count_task\n",
              "0  analysis title regaining perspective on sars-c...  ...          3\n",
              "1  relationship between average daily temperature...  ...         34\n",
              "2  assessing spread risk of wuhan novel coronavir...  ...          1\n",
              "3  estimation of the final size of the second pha...  ...         16\n",
              "4  quantifying sars-cov-2 transmission suggests e...  ...         36\n",
              "\n",
              "[5 rows x 9 columns]"
            ]
          },
          "metadata": {
            "tags": []
          },
          "execution_count": 59
        }
      ]
    },
    {
      "cell_type": "code",
      "metadata": {
        "id": "MqfcWPxgX1h_",
        "colab_type": "code",
        "colab": {}
      },
      "source": [
        "df_topic = df_topic.sort_values(by =['task', 'count_task'], inplace = False, ascending = False)"
      ],
      "execution_count": 0,
      "outputs": []
    },
    {
      "cell_type": "code",
      "metadata": {
        "id": "OJZDUC9Wa4a1",
        "colab_type": "code",
        "outputId": "43cbfa72-9e8d-4f3e-bd7f-8461e29735ec",
        "colab": {
          "base_uri": "https://localhost:8080/",
          "height": 464
        }
      },
      "source": [
        "df_topic.head()"
      ],
      "execution_count": 0,
      "outputs": [
        {
          "output_type": "execute_result",
          "data": {
            "text/html": [
              "<div>\n",
              "<style scoped>\n",
              "    .dataframe tbody tr th:only-of-type {\n",
              "        vertical-align: middle;\n",
              "    }\n",
              "\n",
              "    .dataframe tbody tr th {\n",
              "        vertical-align: top;\n",
              "    }\n",
              "\n",
              "    .dataframe thead th {\n",
              "        text-align: right;\n",
              "    }\n",
              "</style>\n",
              "<table border=\"1\" class=\"dataframe\">\n",
              "  <thead>\n",
              "    <tr style=\"text-align: right;\">\n",
              "      <th></th>\n",
              "      <th>title</th>\n",
              "      <th>abstract</th>\n",
              "      <th>body_text</th>\n",
              "      <th>ref</th>\n",
              "      <th>text_lemmatized</th>\n",
              "      <th>Topic Number</th>\n",
              "      <th>List of Topics</th>\n",
              "      <th>task</th>\n",
              "      <th>count_task</th>\n",
              "    </tr>\n",
              "  </thead>\n",
              "  <tbody>\n",
              "    <tr>\n",
              "      <th>559</th>\n",
              "      <td>detecting differential transmissibilities that...</td>\n",
              "      <td>our ability to respond appropriately to infect...</td>\n",
              "      <td>many infections only occur as isolated cases s...</td>\n",
              "      <td>six ways of modeling the transmission of two p...</td>\n",
              "      <td>['many', 'infection', 'only', 'occur', 'a', 'i...</td>\n",
              "      <td>112</td>\n",
              "      <td>risk approach transmission community example a...</td>\n",
              "      <td>transmission</td>\n",
              "      <td>153</td>\n",
              "    </tr>\n",
              "    <tr>\n",
              "      <th>365</th>\n",
              "      <td>ecology of zoonotic infectious diseases in bat...</td>\n",
              "      <td>• bats are hosts to a range of pathogens some ...</td>\n",
              "      <td>emerging infectious diseases in wildlife threa...</td>\n",
              "      <td>ecology of zoonotic infectious diseases in bat...</td>\n",
              "      <td>['emerging', 'infectious', 'disease', 'in', 'w...</td>\n",
              "      <td>138</td>\n",
              "      <td>bat specie transmission reservoir lyssavirus s...</td>\n",
              "      <td>transmission</td>\n",
              "      <td>119</td>\n",
              "    </tr>\n",
              "    <tr>\n",
              "      <th>681</th>\n",
              "      <td>when are pathogen genome sequences informative...</td>\n",
              "      <td>recent years have seen the development of nume...</td>\n",
              "      <td>a1111111111 a1111111111 a1111111111 a111111111...</td>\n",
              "      <td>distributions of simulated transmission diverg...</td>\n",
              "      <td>['a1111111111', 'a1111111111', 'a1111111111', ...</td>\n",
              "      <td>20</td>\n",
              "      <td>tree phylogenetic transmission cluster clade e...</td>\n",
              "      <td>transmission</td>\n",
              "      <td>119</td>\n",
              "    </tr>\n",
              "    <tr>\n",
              "      <th>548</th>\n",
              "      <td>minimal within-host dengue models highlight th...</td>\n",
              "      <td>in recent years the within-host viral dynamics...</td>\n",
              "      <td>in recent years the within-host viral dynamics...</td>\n",
              "      <td>primary infection model analysis rows show dis...</td>\n",
              "      <td>['in', 'recent', 'year', 'the', 'within-host',...</td>\n",
              "      <td>112</td>\n",
              "      <td>risk approach transmission community example a...</td>\n",
              "      <td>transmission</td>\n",
              "      <td>108</td>\n",
              "    </tr>\n",
              "    <tr>\n",
              "      <th>612</th>\n",
              "      <td>estimating individual and household reproducti...</td>\n",
              "      <td>reproduction numbers defined as averages of th...</td>\n",
              "      <td>the household is a fundamental unit of transmi...</td>\n",
              "      <td>concept of approach as a starting point consid...</td>\n",
              "      <td>['the', 'household', 'is', 'a', 'fundamental',...</td>\n",
              "      <td>89</td>\n",
              "      <td>parameter probability dynamic size equation su...</td>\n",
              "      <td>transmission</td>\n",
              "      <td>98</td>\n",
              "    </tr>\n",
              "  </tbody>\n",
              "</table>\n",
              "</div>"
            ],
            "text/plain": [
              "                                                 title  ... count_task\n",
              "559  detecting differential transmissibilities that...  ...        153\n",
              "365  ecology of zoonotic infectious diseases in bat...  ...        119\n",
              "681  when are pathogen genome sequences informative...  ...        119\n",
              "548  minimal within-host dengue models highlight th...  ...        108\n",
              "612  estimating individual and household reproducti...  ...         98\n",
              "\n",
              "[5 rows x 9 columns]"
            ]
          },
          "metadata": {
            "tags": []
          },
          "execution_count": 61
        }
      ]
    },
    {
      "cell_type": "code",
      "metadata": {
        "id": "lMHu5-lka6aD",
        "colab_type": "code",
        "colab": {}
      },
      "source": [
        "incubation_df = df_topic[df_topic[\"task\"] == \"incubation\"]"
      ],
      "execution_count": 0,
      "outputs": []
    },
    {
      "cell_type": "code",
      "metadata": {
        "id": "2Kn9zpkGbcbr",
        "colab_type": "code",
        "colab": {}
      },
      "source": [
        "stability_df = df_topic[df_topic[\"task\"] == \"stability\"]"
      ],
      "execution_count": 0,
      "outputs": []
    },
    {
      "cell_type": "code",
      "metadata": {
        "id": "1Yhim5ypbjhR",
        "colab_type": "code",
        "colab": {}
      },
      "source": [
        "transmission_df = df_topic[df_topic[\"task\"] == \"transmission\"]"
      ],
      "execution_count": 0,
      "outputs": []
    },
    {
      "cell_type": "code",
      "metadata": {
        "id": "kdlzs9_6b9Vm",
        "colab_type": "code",
        "colab": {}
      },
      "source": [
        "incubation_df.to_csv(\"/content/drive/My Drive/Covid/final_incubation_df.csv\")\n",
        "stability_df.to_csv(\"/content/drive/My Drive/Covid/final_stability_df_df.csv\")\n",
        "transmission_df.to_csv(\"/content/drive/My Drive/Covid/final_transmission_df.csv\")"
      ],
      "execution_count": 0,
      "outputs": []
    },
    {
      "cell_type": "markdown",
      "metadata": {
        "id": "AWg25ZuPvXgH",
        "colab_type": "text"
      },
      "source": [
        "## Day3"
      ]
    },
    {
      "cell_type": "code",
      "metadata": {
        "id": "oZx9NLC_RdJm",
        "colab_type": "code",
        "colab": {}
      },
      "source": [
        "from google.colab import drive\n",
        "drive.mount('/content/drive')"
      ],
      "execution_count": 0,
      "outputs": []
    },
    {
      "cell_type": "code",
      "metadata": {
        "id": "fq0KGwmDvWfM",
        "colab_type": "code",
        "colab": {}
      },
      "source": [
        "import pandas as pd\n",
        "incubation_df = pd.read_csv(\"/content/drive/My Drive/Covid/final_incubation_df.csv\")\n",
        "incubation_df = incubation_df.drop(['Unnamed: 0'], axis = 1)\n",
        "\n",
        "stability_df = pd.read_csv(\"/content/drive/My Drive/Covid/final_stability_df_df.csv\")\n",
        "stability_df = stability_df.drop(['Unnamed: 0'], axis = 1)\n",
        "\n",
        "transmission_df = pd.read_csv(\"/content/drive/My Drive/Covid/final_transmission_df.csv\")\n",
        "transmission_df = transmission_df.drop(['Unnamed: 0'], axis = 1)"
      ],
      "execution_count": 0,
      "outputs": []
    },
    {
      "cell_type": "code",
      "metadata": {
        "id": "BJ2lqGiYiOTl",
        "colab_type": "code",
        "colab": {}
      },
      "source": [
        "covid = pd.read_csv(\"/content/drive/My Drive/Covid/Covid_csv.csv\")\n",
        "covid = covid.drop(['Unnamed: 0'], axis = 1)"
      ],
      "execution_count": 0,
      "outputs": []
    },
    {
      "cell_type": "code",
      "metadata": {
        "id": "a8nL7I9vHIM2",
        "colab_type": "code",
        "outputId": "c799af4f-9e26-444e-fd19-add2d9d1b8d1",
        "colab": {
          "base_uri": "https://localhost:8080/",
          "height": 293
        }
      },
      "source": [
        "covid.head()"
      ],
      "execution_count": 0,
      "outputs": [
        {
          "output_type": "execute_result",
          "data": {
            "text/html": [
              "<div>\n",
              "<style scoped>\n",
              "    .dataframe tbody tr th:only-of-type {\n",
              "        vertical-align: middle;\n",
              "    }\n",
              "\n",
              "    .dataframe tbody tr th {\n",
              "        vertical-align: top;\n",
              "    }\n",
              "\n",
              "    .dataframe thead th {\n",
              "        text-align: right;\n",
              "    }\n",
              "</style>\n",
              "<table border=\"1\" class=\"dataframe\">\n",
              "  <thead>\n",
              "    <tr style=\"text-align: right;\">\n",
              "      <th></th>\n",
              "      <th>title</th>\n",
              "      <th>abstract</th>\n",
              "      <th>body_text</th>\n",
              "      <th>ref</th>\n",
              "    </tr>\n",
              "  </thead>\n",
              "  <tbody>\n",
              "    <tr>\n",
              "      <th>0</th>\n",
              "      <td>The RNA pseudoknots in foot-and-mouth disease ...</td>\n",
              "      <td>word count: 194 22 Text word count: 5168 23 24...</td>\n",
              "      <td>VP3, and VP0 (which is further processed to VP...</td>\n",
              "      <td>and-mouth disease virus (FMDV) is a single str...</td>\n",
              "    </tr>\n",
              "    <tr>\n",
              "      <th>1</th>\n",
              "      <td>Analysis Title: Regaining perspective on SARS-...</td>\n",
              "      <td>During the past three months, a new coronaviru...</td>\n",
              "      <td>In December 2019, a novel coronavirus, SARS-Co...</td>\n",
              "      <td>MS is supported in part by the Stephany W. Hol...</td>\n",
              "    </tr>\n",
              "    <tr>\n",
              "      <th>2</th>\n",
              "      <td>Healthcare-resource-adjusted vulnerabilities t...</td>\n",
              "      <td>NaN</td>\n",
              "      <td>The 2019-nCoV epidemic has spread across China...</td>\n",
              "      <td>(A) The estimated number of infected individua...</td>\n",
              "    </tr>\n",
              "    <tr>\n",
              "      <th>3</th>\n",
              "      <td>Relationship between Average Daily Temperature...</td>\n",
              "      <td>The rapid outbreak of the new Coronavirus pand...</td>\n",
              "      <td>The outbreak of infectious diseases has always...</td>\n",
              "      <td>Other studies in this area include Nkengasong ...</td>\n",
              "    </tr>\n",
              "    <tr>\n",
              "      <th>4</th>\n",
              "      <td>CHEER: hierarCHical taxonomic classification f...</td>\n",
              "      <td>The fast accumulation of viral metagenomic dat...</td>\n",
              "      <td>Metagenomic sequencing, which allows us to dir...</td>\n",
              "      <td>The flow chart and a simplified tree classific...</td>\n",
              "    </tr>\n",
              "  </tbody>\n",
              "</table>\n",
              "</div>"
            ],
            "text/plain": [
              "                                               title  ...                                                ref\n",
              "0  The RNA pseudoknots in foot-and-mouth disease ...  ...  and-mouth disease virus (FMDV) is a single str...\n",
              "1  Analysis Title: Regaining perspective on SARS-...  ...  MS is supported in part by the Stephany W. Hol...\n",
              "2  Healthcare-resource-adjusted vulnerabilities t...  ...  (A) The estimated number of infected individua...\n",
              "3  Relationship between Average Daily Temperature...  ...  Other studies in this area include Nkengasong ...\n",
              "4  CHEER: hierarCHical taxonomic classification f...  ...  The flow chart and a simplified tree classific...\n",
              "\n",
              "[5 rows x 4 columns]"
            ]
          },
          "metadata": {
            "tags": []
          },
          "execution_count": 4
        }
      ]
    },
    {
      "cell_type": "code",
      "metadata": {
        "id": "H3FsI6rxEBVg",
        "colab_type": "code",
        "outputId": "729e2098-6547-4f96-d7bb-ea374618b5d8",
        "colab": {
          "base_uri": "https://localhost:8080/",
          "height": 36
        }
      },
      "source": [
        "covid.shape"
      ],
      "execution_count": 0,
      "outputs": [
        {
          "output_type": "execute_result",
          "data": {
            "text/plain": [
              "(13957, 4)"
            ]
          },
          "metadata": {
            "tags": []
          },
          "execution_count": 5
        }
      ]
    },
    {
      "cell_type": "code",
      "metadata": {
        "id": "fupZYbU-hZuV",
        "colab_type": "code",
        "colab": {}
      },
      "source": [
        "task_1_incubation = ['incubation', 'days', 'covid19', 'covid', 'corona']"
      ],
      "execution_count": 0,
      "outputs": []
    },
    {
      "cell_type": "code",
      "metadata": {
        "id": "guqRbRt_lXhR",
        "colab_type": "code",
        "colab": {}
      },
      "source": [
        "incubation_df[\"count_subtask1\"] = 0\n",
        "text_body = incubation_df['body_text'].tolist()\n",
        "tokens = [word.split() for word in text_body]"
      ],
      "execution_count": 0,
      "outputs": []
    },
    {
      "cell_type": "code",
      "metadata": {
        "id": "SdKX6yc5livh",
        "colab_type": "code",
        "colab": {}
      },
      "source": [
        "for i in range(incubation_df.shape[0]):\n",
        "    count = 0\n",
        "    for word in task_1_incubation:\n",
        "        if (tokens[i].count(word)>0):\n",
        "            count += tokens[i].count(word)\n",
        "    incubation_df.loc[i, \"count_subtask1\"] = count"
      ],
      "execution_count": 0,
      "outputs": []
    },
    {
      "cell_type": "code",
      "metadata": {
        "id": "K2VWzx9qli64",
        "colab_type": "code",
        "outputId": "508ef656-d83b-4072-c780-141ad060ee83",
        "colab": {
          "base_uri": "https://localhost:8080/",
          "height": 449
        }
      },
      "source": [
        "incubation_df = incubation_df.sort_values(by =['count_subtask1'], inplace = False, ascending = False)\n",
        "incubation_df.head(5)"
      ],
      "execution_count": 0,
      "outputs": [
        {
          "output_type": "execute_result",
          "data": {
            "text/html": [
              "<div>\n",
              "<style scoped>\n",
              "    .dataframe tbody tr th:only-of-type {\n",
              "        vertical-align: middle;\n",
              "    }\n",
              "\n",
              "    .dataframe tbody tr th {\n",
              "        vertical-align: top;\n",
              "    }\n",
              "\n",
              "    .dataframe thead th {\n",
              "        text-align: right;\n",
              "    }\n",
              "</style>\n",
              "<table border=\"1\" class=\"dataframe\">\n",
              "  <thead>\n",
              "    <tr style=\"text-align: right;\">\n",
              "      <th></th>\n",
              "      <th>title</th>\n",
              "      <th>abstract</th>\n",
              "      <th>body_text</th>\n",
              "      <th>ref</th>\n",
              "      <th>text_lemmatized</th>\n",
              "      <th>Topic Number</th>\n",
              "      <th>List of Topics</th>\n",
              "      <th>task</th>\n",
              "      <th>count_task</th>\n",
              "      <th>count_subtask1</th>\n",
              "    </tr>\n",
              "  </thead>\n",
              "  <tbody>\n",
              "    <tr>\n",
              "      <th>226</th>\n",
              "      <td>high-titer preparation of bombyx mori nucleopo...</td>\n",
              "      <td>background budded baculoviruses are utilized f...</td>\n",
              "      <td>baculoviruses are large enveloped viruses with...</td>\n",
              "      <td>-pcr analysis of bmnpv-cp --bx-ggt2  the graph...</td>\n",
              "      <td>['baculoviruses', 'are', 'large', 'enveloped',...</td>\n",
              "      <td>62</td>\n",
              "      <td>peptide epitope binding mab amino acid membran...</td>\n",
              "      <td>incubation</td>\n",
              "      <td>8</td>\n",
              "      <td>44</td>\n",
              "    </tr>\n",
              "    <tr>\n",
              "      <th>12</th>\n",
              "      <td>a data-driven model for predicting the course ...</td>\n",
              "      <td>for an emergent disease such as covid-19 with ...</td>\n",
              "      <td>1 introduction 54 the current covid-19 epidemi...</td>\n",
              "      <td>the derivative of the logarithm of daily newly...</td>\n",
              "      <td>['1', 'introduction', '54', 'the', 'current', ...</td>\n",
              "      <td>132</td>\n",
              "      <td>country epidemic growth parameter death curve ...</td>\n",
              "      <td>incubation</td>\n",
              "      <td>67</td>\n",
              "      <td>39</td>\n",
              "    </tr>\n",
              "    <tr>\n",
              "      <th>15</th>\n",
              "      <td>understanding epidemic data and statistics a c...</td>\n",
              "      <td>the 2019-novel-coronavirus  has affected 115 c...</td>\n",
              "      <td>human coronaviruses  which causes gastrointest...</td>\n",
              "      <td>tyrrell  bynoe 1966 2  other discovered human...</td>\n",
              "      <td>['human', 'coronaviruses', 'which', 'cause', '...</td>\n",
              "      <td>132</td>\n",
              "      <td>country epidemic growth parameter death curve ...</td>\n",
              "      <td>incubation</td>\n",
              "      <td>61</td>\n",
              "      <td>39</td>\n",
              "    </tr>\n",
              "    <tr>\n",
              "      <th>78</th>\n",
              "      <td>propagation analysis and prediction of the cov...</td>\n",
              "      <td>based on the official data modeling this paper...</td>\n",
              "      <td>situation  7 the average number of days from d...</td>\n",
              "      <td>how to predict the development of italian epi...</td>\n",
              "      <td>['situation', '7', 'the', 'average', 'number',...</td>\n",
              "      <td>132</td>\n",
              "      <td>country epidemic growth parameter death curve ...</td>\n",
              "      <td>incubation</td>\n",
              "      <td>26</td>\n",
              "      <td>35</td>\n",
              "    </tr>\n",
              "    <tr>\n",
              "      <th>2</th>\n",
              "      <td>spreading rates and potential change points fo...</td>\n",
              "      <td>as covid-19 is rapidly spreading across the gl...</td>\n",
              "      <td>introduction when faced with the outbreak of a...</td>\n",
              "      <td>as of april 1 we have evidence of a first cha...</td>\n",
              "      <td>['introduction', 'when', 'faced', 'with', 'the...</td>\n",
              "      <td>132</td>\n",
              "      <td>country epidemic growth parameter death curve ...</td>\n",
              "      <td>incubation</td>\n",
              "      <td>123</td>\n",
              "      <td>25</td>\n",
              "    </tr>\n",
              "  </tbody>\n",
              "</table>\n",
              "</div>"
            ],
            "text/plain": [
              "                                                 title  ... count_subtask1\n",
              "226  high-titer preparation of bombyx mori nucleopo...  ...             44\n",
              "12   a data-driven model for predicting the course ...  ...             39\n",
              "15   understanding epidemic data and statistics a c...  ...             39\n",
              "78   propagation analysis and prediction of the cov...  ...             35\n",
              "2    spreading rates and potential change points fo...  ...             25\n",
              "\n",
              "[5 rows x 10 columns]"
            ]
          },
          "metadata": {
            "tags": []
          },
          "execution_count": 9
        }
      ]
    },
    {
      "cell_type": "code",
      "metadata": {
        "id": "PtUDgzGApu2m",
        "colab_type": "code",
        "colab": {}
      },
      "source": [
        "incubation_df.dropna(inplace=True)"
      ],
      "execution_count": 0,
      "outputs": []
    },
    {
      "cell_type": "code",
      "metadata": {
        "id": "znotSNOkp1a9",
        "colab_type": "code",
        "outputId": "3155c9eb-4825-40fc-ca1d-04ba7cb8f801",
        "colab": {
          "base_uri": "https://localhost:8080/",
          "height": 449
        }
      },
      "source": [
        "incubation_df.head()"
      ],
      "execution_count": 0,
      "outputs": [
        {
          "output_type": "execute_result",
          "data": {
            "text/html": [
              "<div>\n",
              "<style scoped>\n",
              "    .dataframe tbody tr th:only-of-type {\n",
              "        vertical-align: middle;\n",
              "    }\n",
              "\n",
              "    .dataframe tbody tr th {\n",
              "        vertical-align: top;\n",
              "    }\n",
              "\n",
              "    .dataframe thead th {\n",
              "        text-align: right;\n",
              "    }\n",
              "</style>\n",
              "<table border=\"1\" class=\"dataframe\">\n",
              "  <thead>\n",
              "    <tr style=\"text-align: right;\">\n",
              "      <th></th>\n",
              "      <th>title</th>\n",
              "      <th>abstract</th>\n",
              "      <th>body_text</th>\n",
              "      <th>ref</th>\n",
              "      <th>text_lemmatized</th>\n",
              "      <th>Topic Number</th>\n",
              "      <th>List of Topics</th>\n",
              "      <th>task</th>\n",
              "      <th>count_task</th>\n",
              "      <th>count_subtask1</th>\n",
              "    </tr>\n",
              "  </thead>\n",
              "  <tbody>\n",
              "    <tr>\n",
              "      <th>226</th>\n",
              "      <td>high-titer preparation of bombyx mori nucleopo...</td>\n",
              "      <td>background budded baculoviruses are utilized f...</td>\n",
              "      <td>baculoviruses are large enveloped viruses with...</td>\n",
              "      <td>-pcr analysis of bmnpv-cp --bx-ggt2  the graph...</td>\n",
              "      <td>['baculoviruses', 'are', 'large', 'enveloped',...</td>\n",
              "      <td>62</td>\n",
              "      <td>peptide epitope binding mab amino acid membran...</td>\n",
              "      <td>incubation</td>\n",
              "      <td>8</td>\n",
              "      <td>44</td>\n",
              "    </tr>\n",
              "    <tr>\n",
              "      <th>12</th>\n",
              "      <td>a data-driven model for predicting the course ...</td>\n",
              "      <td>for an emergent disease such as covid-19 with ...</td>\n",
              "      <td>1 introduction 54 the current covid-19 epidemi...</td>\n",
              "      <td>the derivative of the logarithm of daily newly...</td>\n",
              "      <td>['1', 'introduction', '54', 'the', 'current', ...</td>\n",
              "      <td>132</td>\n",
              "      <td>country epidemic growth parameter death curve ...</td>\n",
              "      <td>incubation</td>\n",
              "      <td>67</td>\n",
              "      <td>39</td>\n",
              "    </tr>\n",
              "    <tr>\n",
              "      <th>15</th>\n",
              "      <td>understanding epidemic data and statistics a c...</td>\n",
              "      <td>the 2019-novel-coronavirus  has affected 115 c...</td>\n",
              "      <td>human coronaviruses  which causes gastrointest...</td>\n",
              "      <td>tyrrell  bynoe 1966 2  other discovered human...</td>\n",
              "      <td>['human', 'coronaviruses', 'which', 'cause', '...</td>\n",
              "      <td>132</td>\n",
              "      <td>country epidemic growth parameter death curve ...</td>\n",
              "      <td>incubation</td>\n",
              "      <td>61</td>\n",
              "      <td>39</td>\n",
              "    </tr>\n",
              "    <tr>\n",
              "      <th>78</th>\n",
              "      <td>propagation analysis and prediction of the cov...</td>\n",
              "      <td>based on the official data modeling this paper...</td>\n",
              "      <td>situation  7 the average number of days from d...</td>\n",
              "      <td>how to predict the development of italian epi...</td>\n",
              "      <td>['situation', '7', 'the', 'average', 'number',...</td>\n",
              "      <td>132</td>\n",
              "      <td>country epidemic growth parameter death curve ...</td>\n",
              "      <td>incubation</td>\n",
              "      <td>26</td>\n",
              "      <td>35</td>\n",
              "    </tr>\n",
              "    <tr>\n",
              "      <th>2</th>\n",
              "      <td>spreading rates and potential change points fo...</td>\n",
              "      <td>as covid-19 is rapidly spreading across the gl...</td>\n",
              "      <td>introduction when faced with the outbreak of a...</td>\n",
              "      <td>as of april 1 we have evidence of a first cha...</td>\n",
              "      <td>['introduction', 'when', 'faced', 'with', 'the...</td>\n",
              "      <td>132</td>\n",
              "      <td>country epidemic growth parameter death curve ...</td>\n",
              "      <td>incubation</td>\n",
              "      <td>123</td>\n",
              "      <td>25</td>\n",
              "    </tr>\n",
              "  </tbody>\n",
              "</table>\n",
              "</div>"
            ],
            "text/plain": [
              "                                                 title  ... count_subtask1\n",
              "226  high-titer preparation of bombyx mori nucleopo...  ...             44\n",
              "12   a data-driven model for predicting the course ...  ...             39\n",
              "15   understanding epidemic data and statistics a c...  ...             39\n",
              "78   propagation analysis and prediction of the cov...  ...             35\n",
              "2    spreading rates and potential change points fo...  ...             25\n",
              "\n",
              "[5 rows x 10 columns]"
            ]
          },
          "metadata": {
            "tags": []
          },
          "execution_count": 11
        }
      ]
    },
    {
      "cell_type": "code",
      "metadata": {
        "id": "4a46CP_HCSvq",
        "colab_type": "code",
        "colab": {}
      },
      "source": [
        "subtasks = []\n",
        "tasks = []"
      ],
      "execution_count": 0,
      "outputs": []
    },
    {
      "cell_type": "code",
      "metadata": {
        "id": "Jxn627QgkYq-",
        "colab_type": "code",
        "colab": {}
      },
      "source": [
        "task_1_incubation_top5 = incubation_df[\"body_text\"].tolist()[:5]\n",
        "task_1_incubation_top5_title = incubation_df[\"title\"].tolist()[:5]\n",
        "subtask1 = list(zip(task_1_incubation_top5, task_1_incubation_top5_title))\n",
        "tasks.append( \"days\")\n",
        "subtasks.append(subtask1)"
      ],
      "execution_count": 0,
      "outputs": []
    },
    {
      "cell_type": "code",
      "metadata": {
        "id": "bQI0R-nskiAy",
        "colab_type": "code",
        "colab": {}
      },
      "source": [
        "# subtask2\n",
        "# Prevalence of asymptomatic shedding and transmission (e.g., particularly children)\n",
        "\n",
        "task_2_transmission = ['prevalence', 'transmission','children', 'predominance', 'shedding', 'asymptomatic', 'symptomatic', 'covid19', 'covid', 'corona']\n",
        "transmission_df[\"count_subtask2\"] = 0\n",
        "text_body = transmission_df['body_text'].tolist()\n",
        "tokens = [word.split() for word in text_body]\n",
        "\n",
        "for i in range(transmission_df.shape[0]):\n",
        "    count = 0\n",
        "    for word in task_2_transmission:\n",
        "        if (tokens[i].count(word)>0):\n",
        "            count += tokens[i].count(word)\n",
        "    transmission_df.loc[i, \"count_subtask2\"] = count\n",
        "\n",
        "transmission_df = transmission_df.sort_values(by =['count_subtask2'], inplace = False, ascending = False)\n",
        "transmission_df.dropna(inplace=True)\n",
        "task_2_transmission_top5 = transmission_df[\"body_text\"].tolist()[:5]\n",
        "task_2_transmission_top5_title = transmission_df[\"title\"].tolist()[:5]\n",
        "subtask2 = list(zip(task_2_transmission_top5, task_2_transmission_top5_title))\n",
        "subtasks.append(subtask2)\n",
        "tasks.append(\"children\")"
      ],
      "execution_count": 0,
      "outputs": []
    },
    {
      "cell_type": "code",
      "metadata": {
        "id": "-0rWYe74tOUB",
        "colab_type": "code",
        "colab": {}
      },
      "source": [
        "# subtask3\n",
        "# Prevalence of asymptomatic shedding and transmission (e.g., particularly children)\n",
        "\n",
        "task_3_transmission = ['season', 'summer', 'rainy', 'winter', 'seasonal', 'seasonality', 'seasonally', 'covid19', 'covid', 'corona']\n",
        "transmission_df[\"count_subtask3\"] = 0\n",
        "text_body = transmission_df['body_text'].tolist()\n",
        "tokens = [word.split() for word in text_body]\n",
        "\n",
        "for i in range(transmission_df.shape[0]):\n",
        "    count = 0\n",
        "    for word in task_3_transmission:\n",
        "        if (tokens[i].count(word)>0):\n",
        "            count += tokens[i].count(word)\n",
        "    transmission_df.loc[i, \"count_subtask3\"] = count\n",
        "\n",
        "transmission_df = transmission_df.sort_values(by =['count_subtask3'], inplace = False, ascending = False)\n",
        "transmission_df.dropna(inplace=True)\n",
        "task_3_transmission_top5 = transmission_df[\"body_text\"].tolist()[:5]\n",
        "task_3_transmission_top5_title = transmission_df[\"title\"].tolist()[:5]\n",
        "subtask3 = list(zip(task_3_transmission_top5, task_3_transmission_top5_title))\n",
        "subtasks.append(subtask3)\n",
        "tasks.append(\"season\")"
      ],
      "execution_count": 0,
      "outputs": []
    },
    {
      "cell_type": "code",
      "metadata": {
        "id": "I7k7g0dPuefB",
        "colab_type": "code",
        "colab": {}
      },
      "source": [
        "# subtask4\n",
        "# Physical science of the coronavirus (e.g., charge distribution, adhesion to hydrophilic/phobic surfaces, environmental \n",
        "# survival to inform decontamination efforts for affected areas and provide information about viral shedding).\n",
        "task_4_stability = ['contamination', 'decontamination', 'physical', 'contaminated', 'decontaminated', 'contaminates', \\\n",
        "                       'decontaminates', 'physical structure', 'adhesion', 'hydrophilic', 'hydrophobic',  'survival', 'affected', 'covid19', 'covid', 'corona' ]\n",
        "\n",
        "stability_df[\"count_subtask4\"] = 0\n",
        "text_body = stability_df['body_text'].tolist()\n",
        "tokens = [word.split() for word in text_body]\n",
        "\n",
        "for i in range(stability_df.shape[0]):\n",
        "    count = 0\n",
        "    for word in task_4_stability:\n",
        "        if (tokens[i].count(word)>0):\n",
        "            count += tokens[i].count(word)\n",
        "    stability_df.loc[i, \"count_subtask4\"] = count\n",
        "\n",
        "stability_df = stability_df.sort_values(by =['count_subtask4'], inplace = False, ascending = False)\n",
        "stability_df.dropna(inplace=True)\n",
        "task_4_stability_top5 = stability_df[\"body_text\"].tolist()[:5]\n",
        "task_4_stability_top5_title = transmission_df[\"title\"].tolist()[:5]\n",
        "subtask4 = list(zip(task_4_stability_top5, task_4_stability_top5_title))\n",
        "subtasks.append(subtask4)\n",
        "tasks.append(\"contamination\")"
      ],
      "execution_count": 0,
      "outputs": []
    },
    {
      "cell_type": "code",
      "metadata": {
        "id": "77AZl0Inwxfk",
        "colab_type": "code",
        "colab": {}
      },
      "source": [
        "# subtask5\n",
        "# Persistence and stability on a multitude of substrates and sources (e.g., nasal discharge, sputum, urine, fecal matter, blood).\n",
        "\n",
        "task_5_corona = ['sputum', 'blood', 'urine', 'nasal', 'fecal', 'covid19', 'covid', 'corona']\n",
        "\n",
        "corona = pd.read_csv(\"/content/drive/My Drive/Covid/final_lemmetized_df.csv\", index_col = None)\n",
        "corona = corona.drop(['Unnamed: 0'], axis = 1)\n",
        "\n",
        "corona[\"count_subtask5\"] = 0\n",
        "text_body = corona['body_text'].tolist()\n",
        "tokens = [word.split() for word in text_body]\n",
        "\n",
        "for i in range(corona.shape[0]):\n",
        "    count = 0\n",
        "    for word in task_5_corona:\n",
        "        if (tokens[i].count(word)>0):\n",
        "            count += tokens[i].count(word)\n",
        "    corona.loc[i, \"count_subtask5\"] = count\n",
        "\n",
        "corona = corona.sort_values(by =['count_subtask5'], inplace = False, ascending = False)\n",
        "corona.dropna(inplace=True)\n",
        "task_5_corona_top5 = corona[\"body_text\"].tolist()[:5]\n",
        "task_5_corona_top5_title = corona[\"title\"].tolist()[:5]\n",
        "subtask5 = list(zip(task_5_corona_top5, task_5_corona_top5_title))\n",
        "subtasks.append(subtask5)\n",
        "tasks.append(\"nasal\")"
      ],
      "execution_count": 0,
      "outputs": []
    },
    {
      "cell_type": "code",
      "metadata": {
        "id": "dG7lBUxGy8gx",
        "colab_type": "code",
        "colab": {}
      },
      "source": [
        "# subtask 6\n",
        "# Persistence of virus on surfaces of different materials (e,g., copper, stainless steel, plastic).\n",
        "\n",
        "\n",
        "task_6_corona = ['surface', 'metal', 'copper', 'steel', 'plastic','surfaces', 'glass', 'plastic', 'inanimate', 'covid19', 'covid', 'corona']\n",
        "\n",
        "corona = pd.read_csv(\"/content/drive/My Drive/Covid/final_lemmetized_df.csv\", index_col = None)\n",
        "corona = corona.drop(['Unnamed: 0'], axis = 1)\n",
        "\n",
        "corona[\"count_subtask6\"] = 0\n",
        "text_body = corona['body_text'].tolist()\n",
        "tokens = [word.split() for word in text_body]\n",
        "\n",
        "for i in range(corona.shape[0]):\n",
        "    count = 0\n",
        "    for word in task_6_corona:\n",
        "        if (tokens[i].count(word)>0):\n",
        "            count += tokens[i].count(word)\n",
        "    corona.loc[i, \"count_subtask6\"] = count\n",
        "\n",
        "corona = corona.sort_values(by =['count_subtask6'], inplace = False, ascending = False)\n",
        "corona.dropna(inplace=True)\n",
        "task_6_corona_top5 = corona[\"body_text\"].tolist()[:5]\n",
        "task_6_corona_top5_title = corona[\"title\"].tolist()[:5]\n",
        "subtask6 = list(zip(task_6_corona_top5, task_6_corona_top5_title))\n",
        "subtasks.append(subtask6)\n",
        "tasks.append(\"surface\")"
      ],
      "execution_count": 0,
      "outputs": []
    },
    {
      "cell_type": "code",
      "metadata": {
        "id": "B2TqZdzPzoqj",
        "colab_type": "code",
        "colab": {}
      },
      "source": [
        "# subtask 7\n",
        "# Natural history of the virus and shedding of it from an infected person\n",
        "\n",
        "\n",
        "task_7_transmission = ['viral', 'shedding', 'infected', 'duration', 'period', 'history', 'covid19', 'covid', 'corona']\n",
        "\n",
        "transmission_df[\"count_subtask7\"] = 0\n",
        "text_body = transmission_df['body_text'].tolist()\n",
        "tokens = [word.split() for word in text_body]\n",
        "\n",
        "for i in range(transmission_df.shape[0]):\n",
        "    count = 0\n",
        "    for word in task_7_transmission :\n",
        "        if (tokens[i].count(word)>0):\n",
        "            count += tokens[i].count(word)\n",
        "    transmission_df.loc[i, \"count_subtask7\"] = count\n",
        "\n",
        "transmission_df = transmission_df.sort_values(by =['count_subtask7'], inplace = False, ascending = False)\n",
        "transmission_df.dropna(inplace=True)\n",
        "task_7_transmission_top5 = transmission_df[\"body_text\"].tolist()[:5]\n",
        "task_7_transmission_top5_title = transmission_df[\"title\"].tolist()[:5]\n",
        "subtask7 = list(zip(task_7_transmission_top5, task_7_transmission_top5_title))\n",
        "subtasks.append(subtask7)\n",
        "tasks.append(\"infected\")"
      ],
      "execution_count": 0,
      "outputs": []
    },
    {
      "cell_type": "code",
      "metadata": {
        "id": "HMtIBnYR1n8P",
        "colab_type": "code",
        "colab": {}
      },
      "source": [
        "# subtask 8\n",
        "# Implementation of diagnostics and products to improve clinical processes\n",
        "\n",
        "\n",
        "task_8_corona = ['diagnostic']\n",
        "\n",
        "corona = pd.read_csv(\"/content/drive/My Drive/Covid/final_lemmetized_df.csv\", index_col = None)\n",
        "corona = corona.drop(['Unnamed: 0'], axis = 1)\n",
        "\n",
        "corona[\"count_subtask8\"] = 0\n",
        "text_body = corona['body_text'].tolist()\n",
        "tokens = [word.split() for word in text_body]\n",
        "\n",
        "for i in range(corona.shape[0]):\n",
        "    count = 0\n",
        "    for word in task_8_corona:\n",
        "        if (tokens[i].count(word)>0):\n",
        "            count += tokens[i].count(word)\n",
        "    corona.loc[i, \"count_subtask8\"] = count\n",
        "\n",
        "corona = corona.sort_values(by =['count_subtask8'], inplace = False, ascending = False)\n",
        "corona.dropna(inplace=True)\n",
        "task_8_corona_top5 = corona[\"body_text\"].tolist()[:5]\n",
        "task_8_corona_top5_title = corona[\"title\"].tolist()[:5]\n",
        "subtask8 = list(zip(task_8_corona_top5, task_8_corona_top5_title))\n",
        "subtasks.append(subtask8)\n",
        "tasks.append(\"diagnostic\")"
      ],
      "execution_count": 0,
      "outputs": []
    },
    {
      "cell_type": "code",
      "metadata": {
        "id": "zOJuJjgk2Saq",
        "colab_type": "code",
        "colab": {}
      },
      "source": [
        "# subtask 9\n",
        "# Disease models, including animal models for infection, disease and transmission\n",
        "\n",
        "\n",
        "task_9_transmission = ['disease models', 'animal', 'model', 'models', 'transmision of disease', 'disease transmission', \\\n",
        "                       'disease infection', 'infection of disease', 'covid19', 'covid', 'corona']\n",
        "\n",
        "transmission_df[\"count_subtask9\"] = 0\n",
        "text_body = transmission_df['body_text'].tolist()\n",
        "tokens = [word.split() for word in text_body]\n",
        "\n",
        "for i in range(transmission_df.shape[0]):\n",
        "    count = 0\n",
        "    for word in task_9_transmission :\n",
        "        if (tokens[i].count(word)>0):\n",
        "            count += tokens[i].count(word)\n",
        "    transmission_df.loc[i, \"count_subtask9\"] = count\n",
        "\n",
        "transmission_df = transmission_df.sort_values(by =['count_subtask9'], inplace = False, ascending = False)\n",
        "transmission_df.dropna(inplace=True)\n",
        "task_9_transmission_top5 = transmission_df[\"body_text\"].tolist()[:5]\n",
        "task_9_transmission_top5_title = transmission_df[\"title\"].tolist()[:5]\n",
        "subtask9 = list(zip(task_9_transmission_top5, task_9_transmission_top5_title))\n",
        "subtasks.append(subtask9)\n",
        "tasks.append(\"animals\")"
      ],
      "execution_count": 0,
      "outputs": []
    },
    {
      "cell_type": "code",
      "metadata": {
        "id": "FvmZJug22lSF",
        "colab_type": "code",
        "colab": {}
      },
      "source": [
        "# subtask10\n",
        "# Tools and studies to monitor phenotypic change and potential adaptation of the virus\n",
        "\n",
        "task_10_corona = ['phenotype', 'phenotypes', 'mutation', 'mutated', 'adaptions', 'mutations', 'adaption','phenotypic', \"alteration\",\\\n",
        "                     \"anomaly\", \"variation\", \"mutant\"]\n",
        "\n",
        "corona[\"count_subtask10\"] = 0\n",
        "text_body = corona['body_text'].tolist()\n",
        "tokens = [word.split() for word in text_body]\n",
        "\n",
        "for i in range(corona.shape[0]):\n",
        "    count = 0\n",
        "    for word in task_10_corona:\n",
        "        if (tokens[i].count(word)>0):\n",
        "            count += tokens[i].count(word)\n",
        "    corona.loc[i, \"count_subtask10\"] = count\n",
        "\n",
        "corona = corona.sort_values(by =['count_subtask10'], inplace = False, ascending = False)\n",
        "corona.dropna(inplace=True)\n",
        "task_10_corona_top5 = corona[\"body_text\"].tolist()[:5]\n",
        "task_11_corona_top5_title = corona[\"title\"].tolist()[:5]\n",
        "subtask10 = list(zip(task_10_corona_top5, task_11_corona_top5_title))\n",
        "subtasks.append(subtask10)\n",
        "tasks.append(\"phenotype\")"
      ],
      "execution_count": 0,
      "outputs": []
    },
    {
      "cell_type": "code",
      "metadata": {
        "id": "jdGIEqwf2lOP",
        "colab_type": "code",
        "colab": {}
      },
      "source": [
        "# subtask 11\n",
        "# Immune response and immunity\n",
        "\n",
        "\n",
        "task_11_corona = ['immune', 'immunity', 'immune response', 'immune system']\n",
        "\n",
        "corona = pd.read_csv(\"/content/drive/My Drive/Covid/final_lemmetized_df.csv\", index_col = None)\n",
        "corona = corona.drop(['Unnamed: 0'], axis = 1)\n",
        "\n",
        "corona[\"count_subtask11\"] = 0\n",
        "text_body = corona['body_text'].tolist()\n",
        "tokens = [word.split() for word in text_body]\n",
        "\n",
        "for i in range(corona.shape[0]):\n",
        "    count = 0\n",
        "    for word in task_11_corona:\n",
        "        if (tokens[i].count(word)>0):\n",
        "            count += tokens[i].count(word)\n",
        "    corona.loc[i, \"count_subtask11\"] = count\n",
        "\n",
        "corona = corona.sort_values(by =['count_subtask11'], inplace = False, ascending = False)\n",
        "corona.dropna(inplace=True)\n",
        "task_11_corona_top5 = corona[\"body_text\"].tolist()[:5]\n",
        "task_11_corona_top5_title = corona[\"title\"].tolist()[:5]\n",
        "subtask11 = list(zip(task_11_corona_top5, task_11_corona_top5_title))\n",
        "subtasks.append(subtask11)\n",
        "tasks.append(\"immune\")"
      ],
      "execution_count": 0,
      "outputs": []
    },
    {
      "cell_type": "code",
      "metadata": {
        "id": "JIJjjw0e2lJv",
        "colab_type": "code",
        "colab": {}
      },
      "source": [
        "# subtask 12\n",
        "# Effectiveness of movement control strategies to prevent secondary transmission in health care and community settings\n",
        "\n",
        "task_12_transmission = ['prevent', 'strategies', 'control', 'strategy', 'effectiveness']\n",
        "\n",
        "transmission_df[\"count_subtask12\"] = 0\n",
        "text_body = transmission_df['body_text'].tolist()\n",
        "tokens = [word.split() for word in text_body]\n",
        "\n",
        "for i in range(transmission_df.shape[0]):\n",
        "    count = 0\n",
        "    for word in task_12_transmission :\n",
        "        if (tokens[i].count(word)>0):\n",
        "            count += tokens[i].count(word)\n",
        "    transmission_df.loc[i, \"count_subtask12\"] = count\n",
        "\n",
        "transmission_df = transmission_df.sort_values(by =['count_subtask12'], inplace = False, ascending = False)\n",
        "transmission_df.dropna(inplace=True)\n",
        "task_12_transmission_top5 = transmission_df[\"body_text\"].tolist()[:5]\n",
        "task_12_transmission_top5_title = transmission_df[\"title\"].tolist()[:5]\n",
        "subtask12 = list(zip(task_12_transmission_top5, task_12_transmission_top5_title))\n",
        "subtasks.append(subtask12)\n",
        "tasks.append(\"strategies\")"
      ],
      "execution_count": 0,
      "outputs": []
    },
    {
      "cell_type": "code",
      "metadata": {
        "id": "Rt03vLAZ5KN8",
        "colab_type": "code",
        "colab": {}
      },
      "source": [
        "# subtask 13\n",
        "# Effectiveness of personal protective equipment (PPE) and its usefulness to reduce risk of transmission in health care and community settings\n",
        "\n",
        "\n",
        "task_13_transmission = ['personal protective equipment', 'ppe', 'protective equipment']\n",
        "\n",
        "transmission_df[\"count_subtask13\"] = 0\n",
        "text_body = transmission_df['body_text'].tolist()\n",
        "tokens = [word.split() for word in text_body]\n",
        "\n",
        "for i in range(transmission_df.shape[0]):\n",
        "    count = 0\n",
        "    for word in task_13_transmission :\n",
        "        if (tokens[i].count(word)>0):\n",
        "            count += tokens[i].count(word)\n",
        "    transmission_df.loc[i, \"count_subtask13\"] = count\n",
        "\n",
        "transmission_df = transmission_df.sort_values(by =['count_subtask13'], inplace = False, ascending = False)\n",
        "transmission_df.dropna(inplace=True)\n",
        "task_13_transmission_top5 = transmission_df[\"body_text\"].tolist()[:5]\n",
        "task_13_transmission_top5_title = transmission_df[\"title\"].tolist()[:5]\n",
        "subtask13 = list(zip(task_13_transmission_top5, task_13_transmission_top5_title))\n",
        "subtasks.append(subtask13)\n",
        "tasks.append(\"ppe\")"
      ],
      "execution_count": 0,
      "outputs": []
    },
    {
      "cell_type": "code",
      "metadata": {
        "id": "YM-IFDwp5g46",
        "colab_type": "code",
        "colab": {}
      },
      "source": [
        "# subtask 14\n",
        "# Role of the environment in transmission\n",
        "\n",
        "\n",
        "task_14_transmission = ['role of environment', 'environmental role', \"environment\"]\n",
        "transmission_df[\"count_subtask14\"] = 0\n",
        "text_body = transmission_df['body_text'].tolist()\n",
        "tokens = [word.split() for word in text_body]\n",
        "\n",
        "for i in range(transmission_df.shape[0]):\n",
        "    count = 0\n",
        "    for word in task_14_transmission :\n",
        "        if (tokens[i].count(word)>0):\n",
        "            count += tokens[i].count(word)\n",
        "    transmission_df.loc[i, \"count_subtask14\"] = count\n",
        "\n",
        "transmission_df = transmission_df.sort_values(by =['count_subtask14'], inplace = False, ascending = False)\n",
        "transmission_df.dropna(inplace=True)\n",
        "task_14_transmission_top5 = transmission_df[\"body_text\"].tolist()[:5]\n",
        "task_14_transmission_top5_title = transmission_df[\"title\"].tolist()[:5]\n",
        "subtask14 = list(zip(task_14_transmission_top5, task_14_transmission_top5_title))\n",
        "subtasks.append(subtask14)\n",
        "tasks.append(\"environment\")"
      ],
      "execution_count": 0,
      "outputs": []
    },
    {
      "cell_type": "code",
      "metadata": {
        "id": "w1BT8PbAvJ7X",
        "colab_type": "code",
        "colab": {}
      },
      "source": [
        "import pickle\n",
        "with open(\"/content/drive/My Drive/Covid/subtask_list.txt\", \"wb\") as fp:   #Pickling\n",
        "    pickle.dump(subtasks, fp)\n",
        "with open(\"/content/drive/My Drive/Covid/tasks.txt\", \"wb\") as fp:   #Pickling\n",
        "    pickle.dump(tasks, fp)"
      ],
      "execution_count": 0,
      "outputs": []
    },
    {
      "cell_type": "markdown",
      "metadata": {
        "id": "gwE8azOKTgIU",
        "colab_type": "text"
      },
      "source": [
        "## Final Day"
      ]
    },
    {
      "cell_type": "code",
      "metadata": {
        "id": "UruNj9GERYnt",
        "colab_type": "code",
        "outputId": "9e708685-283a-4028-a957-cbef3660a7f4",
        "colab": {
          "base_uri": "https://localhost:8080/",
          "height": 130
        }
      },
      "source": [
        "from google.colab import drive\n",
        "drive.mount('/content/drive')"
      ],
      "execution_count": 0,
      "outputs": [
        {
          "output_type": "stream",
          "text": [
            "Go to this URL in a browser: https://accounts.google.com/o/oauth2/auth?client_id=947318989803-6bn6qk8qdgf4n4g3pfee6491hc0brc4i.apps.googleusercontent.com&redirect_uri=urn%3aietf%3awg%3aoauth%3a2.0%3aoob&response_type=code&scope=email%20https%3a%2f%2fwww.googleapis.com%2fauth%2fdocs.test%20https%3a%2f%2fwww.googleapis.com%2fauth%2fdrive%20https%3a%2f%2fwww.googleapis.com%2fauth%2fdrive.photos.readonly%20https%3a%2f%2fwww.googleapis.com%2fauth%2fpeopleapi.readonly\n",
            "\n",
            "Enter your authorization code:\n",
            "··········\n",
            "Mounted at /content/drive\n"
          ],
          "name": "stdout"
        }
      ]
    },
    {
      "cell_type": "code",
      "metadata": {
        "id": "mIDCF67yvrY4",
        "colab_type": "code",
        "colab": {}
      },
      "source": [
        "import pickle\n",
        "with open(\"/content/drive/My Drive/Covid/subtask_list.txt\", \"rb\") as fp:   # Unpickling\n",
        "    subtasks = pickle.load(fp)\n",
        "\n",
        "with open(\"/content/drive/My Drive/Covid/tasks.txt\", \"rb\") as fp:   # Unpickling\n",
        "    tasks = pickle.load(fp)\n",
        "\n",
        "\n",
        "# if you are not using google colab then use this code\n",
        "# with open(\"subtask_list.txt\", \"rb\") as fp:   # Unpickling\n",
        "#     subtasks = pickle.load(fp)\n",
        "\n",
        "# with open(\"tasks.txt\", \"rb\") as fp:   # Unpickling\n",
        "#     tasks = pickle.load(fp)"
      ],
      "execution_count": 0,
      "outputs": []
    },
    {
      "cell_type": "code",
      "metadata": {
        "id": "nTOs7CFuPLuu",
        "colab_type": "code",
        "outputId": "e65406b4-0897-48f3-ba11-0da2c655ac08",
        "colab": {
          "base_uri": "https://localhost:8080/",
          "height": 355
        }
      },
      "source": [
        "!pip install transformers\n",
        "import re\n",
        "from transformers import pipeline\n",
        "import requests\n",
        "import pprint\n",
        "import time\n",
        "\n",
        "def bart_summary(key):\n",
        "    if((key == 9 )| (key == 11 ) | (key == 12 ) | (key == 13 ) ):\n",
        "        text = subtasks[key][0][0]\n",
        "    elif((key ==1)):\n",
        "        text = subtasks[key][4][0]\n",
        "    elif(key == 0):\n",
        "        text = subtasks[key][3][0]\n",
        "    else:\n",
        "        text = subtasks[key][2][0]\n",
        "    position = [m.start() for m in re.finditer(tasks[key], text)]\n",
        "    print(position)\n",
        "    if(len(position) > 10):\n",
        "        position = position[0:10]\n",
        "    text_ = \"\"\n",
        "    print(\"################## Title of the paper is: ###############\")\n",
        "    print(subtasks[key][2][1])\n",
        "    print(\"\\n\\n\\n\")\n",
        "    print(\"################## Task Answer: ###############\")\n",
        "    for i in range(len(position)):\n",
        "        if((position[i]>200) & ((position[i]+200)< len(text))):\n",
        "            text_ += text[position[i]-200:position[i]+200]\n",
        "            text_ += \" \\n\"\n",
        "        elif((position[i]>200) & ((position[i]+200)>len(text))):\n",
        "            text_ += text[position[i]-200:]\n",
        "            text_ += \" \\n\"\n",
        "        else:\n",
        "            text_ += text[0:position[i]+200]\n",
        "            text_ += \" \\n\"\n",
        "    pp = pprint.PrettyPrinter(indent=14)\n",
        "    summarizer_bart = pipeline(task='summarization', model=\"bart-large-cnn\")\n",
        "\n",
        "    t0 = time.time() # timer\n",
        "    summary_raw_bart = summarizer_bart(text_, min_length=200, max_length=300) # change min_ and max_length for different output\n",
        "    print(\"Summarization took \" + str(round((time.time() - t0) / 60, 2)) + \" minutes.\")\n",
        "\n",
        "    pp.pprint(summary_raw_bart[0]['summary_text'])\n",
        "    return summary_raw_bart[0]['summary_text']\n"
      ],
      "execution_count": 0,
      "outputs": [
        {
          "output_type": "stream",
          "text": [
            "Requirement already satisfied: transformers in /usr/local/lib/python3.6/dist-packages (2.10.0)\n",
            "Requirement already satisfied: numpy in /usr/local/lib/python3.6/dist-packages (from transformers) (1.18.4)\n",
            "Requirement already satisfied: tqdm>=4.27 in /usr/local/lib/python3.6/dist-packages (from transformers) (4.41.1)\n",
            "Requirement already satisfied: regex!=2019.12.17 in /usr/local/lib/python3.6/dist-packages (from transformers) (2019.12.20)\n",
            "Requirement already satisfied: requests in /usr/local/lib/python3.6/dist-packages (from transformers) (2.23.0)\n",
            "Requirement already satisfied: sentencepiece in /usr/local/lib/python3.6/dist-packages (from transformers) (0.1.91)\n",
            "Requirement already satisfied: sacremoses in /usr/local/lib/python3.6/dist-packages (from transformers) (0.0.43)\n",
            "Requirement already satisfied: tokenizers==0.7.0 in /usr/local/lib/python3.6/dist-packages (from transformers) (0.7.0)\n",
            "Requirement already satisfied: dataclasses; python_version < \"3.7\" in /usr/local/lib/python3.6/dist-packages (from transformers) (0.7)\n",
            "Requirement already satisfied: filelock in /usr/local/lib/python3.6/dist-packages (from transformers) (3.0.12)\n",
            "Requirement already satisfied: chardet<4,>=3.0.2 in /usr/local/lib/python3.6/dist-packages (from requests->transformers) (3.0.4)\n",
            "Requirement already satisfied: idna<3,>=2.5 in /usr/local/lib/python3.6/dist-packages (from requests->transformers) (2.9)\n",
            "Requirement already satisfied: certifi>=2017.4.17 in /usr/local/lib/python3.6/dist-packages (from requests->transformers) (2020.4.5.1)\n",
            "Requirement already satisfied: urllib3!=1.25.0,!=1.25.1,<1.26,>=1.21.1 in /usr/local/lib/python3.6/dist-packages (from requests->transformers) (1.24.3)\n",
            "Requirement already satisfied: six in /usr/local/lib/python3.6/dist-packages (from sacremoses->transformers) (1.12.0)\n",
            "Requirement already satisfied: joblib in /usr/local/lib/python3.6/dist-packages (from sacremoses->transformers) (0.15.1)\n",
            "Requirement already satisfied: click in /usr/local/lib/python3.6/dist-packages (from sacremoses->transformers) (7.1.2)\n"
          ],
          "name": "stdout"
        }
      ]
    },
    {
      "cell_type": "code",
      "metadata": {
        "id": "0l3FZRB055HD",
        "colab_type": "code",
        "outputId": "8e46cbfb-fa43-4da6-a2bb-d5b03f7ca4e7",
        "colab": {
          "base_uri": "https://localhost:8080/",
          "height": 598
        }
      },
      "source": [
        "class color:\n",
        "   PURPLE = '\\033[95m'\n",
        "   CYAN = '\\033[96m'\n",
        "   DARKCYAN = '\\033[36m'\n",
        "   BLUE = '\\033[94m'\n",
        "   GREEN = '\\033[92m'\n",
        "   YELLOW = '\\033[93m'\n",
        "   RED = '\\033[91m'\n",
        "   BOLD = '\\033[1m'\n",
        "   UNDERLINE = '\\033[4m'\n",
        "   END = '\\033[0m'\n",
        "\n",
        "print(color.BOLD + \"Select subtask from these subtasks:\\n\" + color.END)\n",
        "print(\"1. Range of incubation periods for the disease in humans (and how this varies across age and health status) and how\\\n",
        "long individuals are contagious, even after recovery.\\n\")\n",
        "print(\"2. Prevalence of asymptomatic shedding and transmission (e.g., particularly children).\\n\")\n",
        "print(\"3. Seasonality of transmission.\\n\")\n",
        "print(\"4. Physical science of the coronavirus (e.g., charge distribution, adhesion to hydrophilic/phobic surfaces, environmental\\\n",
        "survival to inform decontamination efforts for affected areas and provide information about viral shedding).\\n\")\n",
        "print(\"5. Persistence and stability on a multitude of substrates and sources (e.g., nasal discharge, sputum, urine, fecal matter, blood).\\n\")\n",
        "print(\"6. Persistence of virus on surfaces of different materials (e,g., copper, stainless steel, plastic).\\n\")\n",
        "print(\"7. Natural history of the virus and shedding of it from an infected person\\n\")\n",
        "print(\"8. Implementation of diagnostics and products to improve clinical processes\\n\")\n",
        "print(\"9. Disease models, including animal models for infection, disease and transmission\\n\")\n",
        "print(\"10. Tools and studies to monitor phenotypic change and potential adaptation of the virus\\n\")\n",
        "print(\"11. Immune response and immunity\\n\")\n",
        "print(\"12. Effectiveness of movement control strategies to prevent secondary transmission in health care and community settings\\n\")\n",
        "print(\"13. Effectiveness of personal protective equipment (PPE) and its usefulness to reduce risk of transmission in health care and\\\n",
        "community settings\\n\")\n",
        "print(\"14. Role of the environment in transmission\\n\")\n"
      ],
      "execution_count": 0,
      "outputs": [
        {
          "output_type": "stream",
          "text": [
            "\u001b[1mSelect subtask from these subtasks:\n",
            "\u001b[0m\n",
            "1. Range of incubation periods for the disease in humans (and how this varies across age and health status) and howlong individuals are contagious, even after recovery.\n",
            "\n",
            "2. Prevalence of asymptomatic shedding and transmission (e.g., particularly children).\n",
            "\n",
            "3. Seasonality of transmission.\n",
            "\n",
            "4. Physical science of the coronavirus (e.g., charge distribution, adhesion to hydrophilic/phobic surfaces, environmentalsurvival to inform decontamination efforts for affected areas and provide information about viral shedding).\n",
            "\n",
            "5. Persistence and stability on a multitude of substrates and sources (e.g., nasal discharge, sputum, urine, fecal matter, blood).\n",
            "\n",
            "6. Persistence of virus on surfaces of different materials (e,g., copper, stainless steel, plastic).\n",
            "\n",
            "7. Natural history of the virus and shedding of it from an infected person\n",
            "\n",
            "8. Implementation of diagnostics and products to improve clinical processes\n",
            "\n",
            "9. Disease models, including animal models for infection, disease and transmission\n",
            "\n",
            "10. Tools and studies to monitor phenotypic change and potential adaptation of the virus\n",
            "\n",
            "11. Immune response and immunity\n",
            "\n",
            "12. Effectiveness of movement control strategies to prevent secondary transmission in health care and community settings\n",
            "\n",
            "13. Effectiveness of personal protective equipment (PPE) and its usefulness to reduce risk of transmission in health care andcommunity settings\n",
            "\n",
            "14. Role of the environment in transmission\n",
            "\n"
          ],
          "name": "stdout"
        }
      ]
    },
    {
      "cell_type": "code",
      "metadata": {
        "id": "cSlN06f0_wrN",
        "colab_type": "code",
        "outputId": "73204f27-05b7-4f71-8962-8e8a7127a26c",
        "colab": {
          "base_uri": "https://localhost:8080/",
          "height": 523
        }
      },
      "source": [
        "input_task = int(input(\"Please select the task from the above list:\"))\n",
        "# fun_calculate_summary(input_task-1)\n",
        "bart_summary(input_task-1)"
      ],
      "execution_count": 0,
      "outputs": [
        {
          "output_type": "stream",
          "text": [
            "Please select the task from the above list:13\n",
            "[3214, 4904, 13251, 17926, 21791, 27877, 29841, 30430]\n",
            "################## Title of the paper is: ###############\n",
            "relatedness of the incidence decay with exponential adjustment  model farrs law and sir compartmental difference equation models-nc-nd license \n",
            "\n",
            "\n",
            "\n",
            "\n",
            "################## Task Answer: ###############\n",
            "Summarization took 1.19 minutes.\n",
            "('iagnosis and sought to turn data about the infected populations into '\n",
            " 'inferences about where and how the infectious disease spread the most famous '\n",
            " 'example is from the 19th century in which john snow mapped the locations of '\n",
            " 'clinically defined cholera cases in an outbreak in london and inferred that '\n",
            " 'the outbreak was due to contaminated water from the broad street pump. '\n",
            " 'iagnosis can also refer to the initial entry of a pathogen into a community '\n",
            " 'such as cholERA which appeared in haiti in 2010. outbreaks are most '\n",
            " 'frequently caused by the transmission of a clonal lineage of a Pathogen '\n",
            " 'through a combination of limited initial diversity and population '\n",
            " 'bottlenecks in t  ARTICLE: How do we identify outbreaks and how do we know '\n",
            " 'where and why they started?    The author uses whole genome sequencing and '\n",
            " 'molecular evolutionary theory to answer the question of the origin of an '\n",
            " 'outbreak and how they spread.   In this article the author uses sequencing '\n",
            " 'and evolutionary theory as a basis for his theory of outbreak origins and '\n",
            " 'spread.')\n"
          ],
          "name": "stdout"
        },
        {
          "output_type": "execute_result",
          "data": {
            "text/plain": [
              "'iagnosis and sought to turn data about the infected populations into inferences about where and how the infectious disease spread the most famous example is from the 19th century in which john snow mapped the locations of clinically defined cholera cases in an outbreak in london and inferred that the outbreak was due to contaminated water from the broad street pump. iagnosis can also refer to the initial entry of a pathogen into a community such as cholERA which appeared in haiti in 2010. outbreaks are most frequently caused by the transmission of a clonal lineage of a Pathogen through a combination of limited initial diversity and population bottlenecks in t  ARTICLE: How do we identify outbreaks and how do we know where and why they started?    The author uses whole genome sequencing and molecular evolutionary theory to answer the question of the origin of an outbreak and how they spread.   In this article the author uses sequencing and evolutionary theory as a basis for his theory of outbreak origins and spread.'"
            ]
          },
          "metadata": {
            "tags": []
          },
          "execution_count": 15
        }
      ]
    },
    {
      "cell_type": "code",
      "metadata": {
        "id": "OmreEs9WgRLJ",
        "colab_type": "code",
        "outputId": "27b9551a-7167-44b6-c764-63cbb069e48e",
        "colab": {
          "base_uri": "https://localhost:8080/",
          "height": 1000
        }
      },
      "source": [
        "import pickle\n",
        "import numpy as np\n",
        "import pandas as pd\n",
        "!pip install ktrain\n",
        "import ktrain\n",
        "if not os.path.isfile(\"/content/drive/My Drive/Covid/topic_model.txt\"):\n",
        "\n",
        "    df = pd.read_csv('/content/drive/My Drive/Covid/final_lemmetized_df.csv')\n",
        "\n",
        "    #if not using google colab\n",
        "    # df = pd.read_csv('final_lemmetized_df.csv')\n",
        "\n",
        "    ktrain.text.preprocessor.detect_lang = ktrain.text.textutils.detect_lang\n",
        "\n",
        "    max_vocab = 35000     # set the maximum vocabulary size\n",
        "    num_of_topics = 200  # set the number of topics\n",
        "    #max_vocab = 10000\n",
        "\n",
        "    # Run topic modeling using Keras wrappers on LDA\n",
        "    tm = ktrain.text.get_topic_model(df['text_lemmatized'], n_topics = num_of_topics, n_features = max_vocab, lda_max_iter = 10, lda_mode = 'batch')\n",
        "\n",
        "    tm.print_topics()\n",
        "\n",
        "    threshold_value = 0.25\n",
        "    tm.build(df['text_lemmatized'], threshold = threshold_value)\n",
        "\n",
        "\n",
        "    with open(\"/content/drive/My Drive/Covid/topic_model.txt\", \"wb\") as fp:   #Pickling\n",
        "        pickle.dump(tm, fp)\n",
        "else\n",
        "    with open(\"/content/drive/My Drive/Covid/topic_model.txt\", \"rb\") as fp:   # Unpickling\n",
        "        tm_save = pickle.load(fp)"
      ],
      "execution_count": 0,
      "outputs": [
        {
          "output_type": "stream",
          "text": [
            "Requirement already satisfied: ktrain in /usr/local/lib/python3.6/dist-packages (0.15.2)\n",
            "Requirement already satisfied: networkx>=2.3 in /usr/local/lib/python3.6/dist-packages (from ktrain) (2.4)\n",
            "Requirement already satisfied: keras-bert>=0.81.0 in /usr/local/lib/python3.6/dist-packages (from ktrain) (0.81.0)\n",
            "Requirement already satisfied: syntok in /usr/local/lib/python3.6/dist-packages (from ktrain) (1.3.1)\n",
            "Requirement already satisfied: fastprogress>=0.1.21 in /usr/local/lib/python3.6/dist-packages (from ktrain) (0.2.3)\n",
            "Requirement already satisfied: pandas>=1.0.1 in /usr/local/lib/python3.6/dist-packages (from ktrain) (1.0.3)\n",
            "Requirement already satisfied: seqeval in /usr/local/lib/python3.6/dist-packages (from ktrain) (0.0.12)\n",
            "Requirement already satisfied: jieba in /usr/local/lib/python3.6/dist-packages (from ktrain) (0.42.1)\n",
            "Requirement already satisfied: scikit-learn==0.21.3 in /usr/local/lib/python3.6/dist-packages (from ktrain) (0.21.3)\n",
            "Requirement already satisfied: matplotlib>=3.0.0 in /usr/local/lib/python3.6/dist-packages (from ktrain) (3.2.1)\n",
            "Requirement already satisfied: requests in /usr/local/lib/python3.6/dist-packages (from ktrain) (2.23.0)\n",
            "Requirement already satisfied: joblib in /usr/local/lib/python3.6/dist-packages (from ktrain) (0.15.1)\n",
            "Requirement already satisfied: cchardet==2.1.5 in /usr/local/lib/python3.6/dist-packages (from ktrain) (2.1.5)\n",
            "Requirement already satisfied: tensorflow-datasets in /usr/local/lib/python3.6/dist-packages (from ktrain) (2.1.0)\n",
            "Requirement already satisfied: whoosh in /usr/local/lib/python3.6/dist-packages (from ktrain) (2.7.4)\n",
            "Requirement already satisfied: tensorflow==2.1.0 in /usr/local/lib/python3.6/dist-packages (from ktrain) (2.1.0)\n",
            "Requirement already satisfied: langdetect in /usr/local/lib/python3.6/dist-packages (from ktrain) (1.0.8)\n",
            "Requirement already satisfied: ipython in /usr/local/lib/python3.6/dist-packages (from ktrain) (5.5.0)\n",
            "Requirement already satisfied: bokeh in /usr/local/lib/python3.6/dist-packages (from ktrain) (1.4.0)\n",
            "Requirement already satisfied: packaging in /usr/local/lib/python3.6/dist-packages (from ktrain) (20.4)\n",
            "Requirement already satisfied: transformers>=2.7.0 in /usr/local/lib/python3.6/dist-packages (from ktrain) (2.10.0)\n",
            "Requirement already satisfied: decorator>=4.3.0 in /usr/local/lib/python3.6/dist-packages (from networkx>=2.3->ktrain) (4.4.2)\n",
            "Requirement already satisfied: Keras in /usr/local/lib/python3.6/dist-packages (from keras-bert>=0.81.0->ktrain) (2.3.1)\n",
            "Requirement already satisfied: numpy in /usr/local/lib/python3.6/dist-packages (from keras-bert>=0.81.0->ktrain) (1.18.4)\n",
            "Requirement already satisfied: keras-transformer>=0.30.0 in /usr/local/lib/python3.6/dist-packages (from keras-bert>=0.81.0->ktrain) (0.33.0)\n",
            "Requirement already satisfied: regex in /usr/local/lib/python3.6/dist-packages (from syntok->ktrain) (2019.12.20)\n",
            "Requirement already satisfied: pytz>=2017.2 in /usr/local/lib/python3.6/dist-packages (from pandas>=1.0.1->ktrain) (2018.9)\n",
            "Requirement already satisfied: python-dateutil>=2.6.1 in /usr/local/lib/python3.6/dist-packages (from pandas>=1.0.1->ktrain) (2.8.1)\n",
            "Requirement already satisfied: scipy>=0.17.0 in /usr/local/lib/python3.6/dist-packages (from scikit-learn==0.21.3->ktrain) (1.4.1)\n",
            "Requirement already satisfied: pyparsing!=2.0.4,!=2.1.2,!=2.1.6,>=2.0.1 in /usr/local/lib/python3.6/dist-packages (from matplotlib>=3.0.0->ktrain) (2.4.7)\n",
            "Requirement already satisfied: cycler>=0.10 in /usr/local/lib/python3.6/dist-packages (from matplotlib>=3.0.0->ktrain) (0.10.0)\n",
            "Requirement already satisfied: kiwisolver>=1.0.1 in /usr/local/lib/python3.6/dist-packages (from matplotlib>=3.0.0->ktrain) (1.2.0)\n",
            "Requirement already satisfied: chardet<4,>=3.0.2 in /usr/local/lib/python3.6/dist-packages (from requests->ktrain) (3.0.4)\n",
            "Requirement already satisfied: certifi>=2017.4.17 in /usr/local/lib/python3.6/dist-packages (from requests->ktrain) (2020.4.5.1)\n",
            "Requirement already satisfied: urllib3!=1.25.0,!=1.25.1,<1.26,>=1.21.1 in /usr/local/lib/python3.6/dist-packages (from requests->ktrain) (1.24.3)\n",
            "Requirement already satisfied: idna<3,>=2.5 in /usr/local/lib/python3.6/dist-packages (from requests->ktrain) (2.9)\n",
            "Requirement already satisfied: tensorflow-metadata in /usr/local/lib/python3.6/dist-packages (from tensorflow-datasets->ktrain) (0.22.0)\n",
            "Requirement already satisfied: protobuf>=3.6.1 in /usr/local/lib/python3.6/dist-packages (from tensorflow-datasets->ktrain) (3.10.0)\n",
            "Requirement already satisfied: six in /usr/local/lib/python3.6/dist-packages (from tensorflow-datasets->ktrain) (1.12.0)\n",
            "Requirement already satisfied: absl-py in /usr/local/lib/python3.6/dist-packages (from tensorflow-datasets->ktrain) (0.9.0)\n",
            "Requirement already satisfied: wrapt in /usr/local/lib/python3.6/dist-packages (from tensorflow-datasets->ktrain) (1.12.1)\n",
            "Requirement already satisfied: termcolor in /usr/local/lib/python3.6/dist-packages (from tensorflow-datasets->ktrain) (1.1.0)\n",
            "Requirement already satisfied: dill in /usr/local/lib/python3.6/dist-packages (from tensorflow-datasets->ktrain) (0.3.1.1)\n",
            "Requirement already satisfied: attrs>=18.1.0 in /usr/local/lib/python3.6/dist-packages (from tensorflow-datasets->ktrain) (19.3.0)\n",
            "Requirement already satisfied: future in /usr/local/lib/python3.6/dist-packages (from tensorflow-datasets->ktrain) (0.16.0)\n",
            "Requirement already satisfied: promise in /usr/local/lib/python3.6/dist-packages (from tensorflow-datasets->ktrain) (2.3)\n",
            "Requirement already satisfied: tqdm in /usr/local/lib/python3.6/dist-packages (from tensorflow-datasets->ktrain) (4.41.1)\n",
            "Requirement already satisfied: keras-applications>=1.0.8 in /usr/local/lib/python3.6/dist-packages (from tensorflow==2.1.0->ktrain) (1.0.8)\n",
            "Requirement already satisfied: wheel>=0.26; python_version >= \"3\" in /usr/local/lib/python3.6/dist-packages (from tensorflow==2.1.0->ktrain) (0.34.2)\n",
            "Requirement already satisfied: tensorboard<2.2.0,>=2.1.0 in /usr/local/lib/python3.6/dist-packages (from tensorflow==2.1.0->ktrain) (2.1.1)\n",
            "Requirement already satisfied: tensorflow-estimator<2.2.0,>=2.1.0rc0 in /usr/local/lib/python3.6/dist-packages (from tensorflow==2.1.0->ktrain) (2.1.0)\n",
            "Requirement already satisfied: google-pasta>=0.1.6 in /usr/local/lib/python3.6/dist-packages (from tensorflow==2.1.0->ktrain) (0.2.0)\n",
            "Requirement already satisfied: keras-preprocessing>=1.1.0 in /usr/local/lib/python3.6/dist-packages (from tensorflow==2.1.0->ktrain) (1.1.2)\n",
            "Requirement already satisfied: opt-einsum>=2.3.2 in /usr/local/lib/python3.6/dist-packages (from tensorflow==2.1.0->ktrain) (3.2.1)\n",
            "Requirement already satisfied: grpcio>=1.8.6 in /usr/local/lib/python3.6/dist-packages (from tensorflow==2.1.0->ktrain) (1.29.0)\n",
            "Requirement already satisfied: gast==0.2.2 in /usr/local/lib/python3.6/dist-packages (from tensorflow==2.1.0->ktrain) (0.2.2)\n",
            "Requirement already satisfied: astor>=0.6.0 in /usr/local/lib/python3.6/dist-packages (from tensorflow==2.1.0->ktrain) (0.8.1)\n",
            "Requirement already satisfied: pygments in /usr/local/lib/python3.6/dist-packages (from ipython->ktrain) (2.1.3)\n",
            "Requirement already satisfied: prompt-toolkit<2.0.0,>=1.0.4 in /usr/local/lib/python3.6/dist-packages (from ipython->ktrain) (1.0.18)\n",
            "Requirement already satisfied: setuptools>=18.5 in /usr/local/lib/python3.6/dist-packages (from ipython->ktrain) (46.3.0)\n",
            "Requirement already satisfied: pickleshare in /usr/local/lib/python3.6/dist-packages (from ipython->ktrain) (0.7.5)\n",
            "Requirement already satisfied: simplegeneric>0.8 in /usr/local/lib/python3.6/dist-packages (from ipython->ktrain) (0.8.1)\n",
            "Requirement already satisfied: traitlets>=4.2 in /usr/local/lib/python3.6/dist-packages (from ipython->ktrain) (4.3.3)\n",
            "Requirement already satisfied: pexpect; sys_platform != \"win32\" in /usr/local/lib/python3.6/dist-packages (from ipython->ktrain) (4.8.0)\n",
            "Requirement already satisfied: tornado>=4.3 in /usr/local/lib/python3.6/dist-packages (from bokeh->ktrain) (4.5.3)\n",
            "Requirement already satisfied: pillow>=4.0 in /usr/local/lib/python3.6/dist-packages (from bokeh->ktrain) (7.0.0)\n",
            "Requirement already satisfied: Jinja2>=2.7 in /usr/local/lib/python3.6/dist-packages (from bokeh->ktrain) (2.11.2)\n",
            "Requirement already satisfied: PyYAML>=3.10 in /usr/local/lib/python3.6/dist-packages (from bokeh->ktrain) (3.13)\n",
            "Requirement already satisfied: dataclasses; python_version < \"3.7\" in /usr/local/lib/python3.6/dist-packages (from transformers>=2.7.0->ktrain) (0.7)\n",
            "Requirement already satisfied: tokenizers==0.7.0 in /usr/local/lib/python3.6/dist-packages (from transformers>=2.7.0->ktrain) (0.7.0)\n",
            "Requirement already satisfied: sacremoses in /usr/local/lib/python3.6/dist-packages (from transformers>=2.7.0->ktrain) (0.0.43)\n",
            "Requirement already satisfied: sentencepiece in /usr/local/lib/python3.6/dist-packages (from transformers>=2.7.0->ktrain) (0.1.91)\n",
            "Requirement already satisfied: filelock in /usr/local/lib/python3.6/dist-packages (from transformers>=2.7.0->ktrain) (3.0.12)\n",
            "Requirement already satisfied: h5py in /usr/local/lib/python3.6/dist-packages (from Keras->keras-bert>=0.81.0->ktrain) (2.10.0)\n",
            "Requirement already satisfied: keras-multi-head>=0.22.0 in /usr/local/lib/python3.6/dist-packages (from keras-transformer>=0.30.0->keras-bert>=0.81.0->ktrain) (0.24.0)\n",
            "Requirement already satisfied: keras-pos-embd>=0.10.0 in /usr/local/lib/python3.6/dist-packages (from keras-transformer>=0.30.0->keras-bert>=0.81.0->ktrain) (0.11.0)\n",
            "Requirement already satisfied: keras-embed-sim>=0.7.0 in /usr/local/lib/python3.6/dist-packages (from keras-transformer>=0.30.0->keras-bert>=0.81.0->ktrain) (0.7.0)\n",
            "Requirement already satisfied: keras-layer-normalization>=0.12.0 in /usr/local/lib/python3.6/dist-packages (from keras-transformer>=0.30.0->keras-bert>=0.81.0->ktrain) (0.14.0)\n",
            "Requirement already satisfied: keras-position-wise-feed-forward>=0.5.0 in /usr/local/lib/python3.6/dist-packages (from keras-transformer>=0.30.0->keras-bert>=0.81.0->ktrain) (0.6.0)\n",
            "Requirement already satisfied: googleapis-common-protos in /usr/local/lib/python3.6/dist-packages (from tensorflow-metadata->tensorflow-datasets->ktrain) (1.51.0)\n",
            "Requirement already satisfied: werkzeug>=0.11.15 in /usr/local/lib/python3.6/dist-packages (from tensorboard<2.2.0,>=2.1.0->tensorflow==2.1.0->ktrain) (1.0.1)\n",
            "Requirement already satisfied: google-auth-oauthlib<0.5,>=0.4.1 in /usr/local/lib/python3.6/dist-packages (from tensorboard<2.2.0,>=2.1.0->tensorflow==2.1.0->ktrain) (0.4.1)\n",
            "Requirement already satisfied: markdown>=2.6.8 in /usr/local/lib/python3.6/dist-packages (from tensorboard<2.2.0,>=2.1.0->tensorflow==2.1.0->ktrain) (3.2.2)\n",
            "Requirement already satisfied: google-auth<2,>=1.6.3 in /usr/local/lib/python3.6/dist-packages (from tensorboard<2.2.0,>=2.1.0->tensorflow==2.1.0->ktrain) (1.7.2)\n",
            "Requirement already satisfied: wcwidth in /usr/local/lib/python3.6/dist-packages (from prompt-toolkit<2.0.0,>=1.0.4->ipython->ktrain) (0.1.9)\n",
            "Requirement already satisfied: ipython-genutils in /usr/local/lib/python3.6/dist-packages (from traitlets>=4.2->ipython->ktrain) (0.2.0)\n",
            "Requirement already satisfied: ptyprocess>=0.5 in /usr/local/lib/python3.6/dist-packages (from pexpect; sys_platform != \"win32\"->ipython->ktrain) (0.6.0)\n",
            "Requirement already satisfied: MarkupSafe>=0.23 in /usr/local/lib/python3.6/dist-packages (from Jinja2>=2.7->bokeh->ktrain) (1.1.1)\n",
            "Requirement already satisfied: click in /usr/local/lib/python3.6/dist-packages (from sacremoses->transformers>=2.7.0->ktrain) (7.1.2)\n",
            "Requirement already satisfied: keras-self-attention==0.41.0 in /usr/local/lib/python3.6/dist-packages (from keras-multi-head>=0.22.0->keras-transformer>=0.30.0->keras-bert>=0.81.0->ktrain) (0.41.0)\n",
            "Requirement already satisfied: requests-oauthlib>=0.7.0 in /usr/local/lib/python3.6/dist-packages (from google-auth-oauthlib<0.5,>=0.4.1->tensorboard<2.2.0,>=2.1.0->tensorflow==2.1.0->ktrain) (1.3.0)\n",
            "Requirement already satisfied: importlib-metadata; python_version < \"3.8\" in /usr/local/lib/python3.6/dist-packages (from markdown>=2.6.8->tensorboard<2.2.0,>=2.1.0->tensorflow==2.1.0->ktrain) (1.6.0)\n",
            "Requirement already satisfied: cachetools<3.2,>=2.0.0 in /usr/local/lib/python3.6/dist-packages (from google-auth<2,>=1.6.3->tensorboard<2.2.0,>=2.1.0->tensorflow==2.1.0->ktrain) (3.1.1)\n",
            "Requirement already satisfied: pyasn1-modules>=0.2.1 in /usr/local/lib/python3.6/dist-packages (from google-auth<2,>=1.6.3->tensorboard<2.2.0,>=2.1.0->tensorflow==2.1.0->ktrain) (0.2.8)\n",
            "Requirement already satisfied: rsa<4.1,>=3.1.4 in /usr/local/lib/python3.6/dist-packages (from google-auth<2,>=1.6.3->tensorboard<2.2.0,>=2.1.0->tensorflow==2.1.0->ktrain) (4.0)\n",
            "Requirement already satisfied: oauthlib>=3.0.0 in /usr/local/lib/python3.6/dist-packages (from requests-oauthlib>=0.7.0->google-auth-oauthlib<0.5,>=0.4.1->tensorboard<2.2.0,>=2.1.0->tensorflow==2.1.0->ktrain) (3.1.0)\n",
            "Requirement already satisfied: zipp>=0.5 in /usr/local/lib/python3.6/dist-packages (from importlib-metadata; python_version < \"3.8\"->markdown>=2.6.8->tensorboard<2.2.0,>=2.1.0->tensorflow==2.1.0->ktrain) (3.1.0)\n",
            "Requirement already satisfied: pyasn1<0.5.0,>=0.4.6 in /usr/local/lib/python3.6/dist-packages (from pyasn1-modules>=0.2.1->google-auth<2,>=1.6.3->tensorboard<2.2.0,>=2.1.0->tensorflow==2.1.0->ktrain) (0.4.8)\n"
          ],
          "name": "stdout"
        }
      ]
    },
    {
      "cell_type": "code",
      "metadata": {
        "id": "Xp2dAT4dXzId",
        "colab_type": "code",
        "outputId": "af79b293-b79f-45db-f72d-ff61804b302a",
        "colab": {
          "base_uri": "https://localhost:8080/",
          "height": 447
        }
      },
      "source": [
        "text = bart_summary(4)"
      ],
      "execution_count": 0,
      "outputs": [
        {
          "output_type": "stream",
          "text": [
            "[14945, 23369, 23839, 26453, 27281, 34440, 35146]\n",
            "################## Title of the paper is: ###############\n",
            "find the right sample a study on the versatility of saliva and urine samples for the diagnosis of emerging viruses\n",
            "\n",
            "\n",
            "\n",
            "\n",
            "################## Task Answer: ###############\n",
            "Summarization took 1.54 minutes.\n",
            "('The recent ebolavirus outbreak in serra leone liberia und guinea with 11325 '\n",
            " 'deaths initiated several intensive investigations of different patient '\n",
            " 'specimens. antibodies against ebola virus could not be found in oral fluids '\n",
            " 'while 100 agreement between the presence of rna in serum and oral fluids by '\n",
            " 'rt-pcr was observed   moreover in 26 confirmed ebola cases 16 samples '\n",
            " 'including saliva stool semen breast milk tears nasal blood and a skin swab '\n",
            " 'were positive in ebola culture andor rt\\xa0pcr. The high viral load in npa '\n",
            " 'has a major impact on the airborne transmission which played a major role '\n",
            " 'during the outbreak in hong kong. A prediction model for oral-fecal andor '\n",
            " 'oral-saliva transmission routes for mers-cov was developed and evaluated. '\n",
            " 'camels as contributing animal got into focus of investigation and it became '\n",
            " 'that camels and the arabrevaled peninsula have a very high seroprevalence of '\n",
            " 'mers\\xa0cov antibodies.')\n"
          ],
          "name": "stdout"
        },
        {
          "output_type": "execute_result",
          "data": {
            "text/plain": [
              "'flu behavior facemask search correlation intention hong social kong google'"
            ]
          },
          "metadata": {
            "tags": []
          },
          "execution_count": 22
        }
      ]
    },
    {
      "cell_type": "code",
      "metadata": {
        "id": "ZeXnpeU-Yb_O",
        "colab_type": "code",
        "outputId": "8684dd9a-f8a7-4e29-c472-ebbc73f1420e",
        "colab": {
          "base_uri": "https://localhost:8080/",
          "height": 36
        }
      },
      "source": [
        "tm.topics[np.argmax(tm.predict([text]))]"
      ],
      "execution_count": 0,
      "outputs": [
        {
          "output_type": "execute_result",
          "data": {
            "text/plain": [
              "'flu behavior facemask search correlation intention hong social kong google'"
            ]
          },
          "metadata": {
            "tags": []
          },
          "execution_count": 23
        }
      ]
    },
    {
      "cell_type": "code",
      "metadata": {
        "id": "h3UXY2JZaDf0",
        "colab_type": "code",
        "colab": {}
      },
      "source": [
        "import os\n",
        "import pickle\n",
        "if not os.path.isfile(\"/content/drive/My Drive/Covid/summaries.txt\"):\n",
        "    topic_all_tasks = []\n",
        "    for i in range(1,15):\n",
        "    topic_all_tasks.append(bart_summary(i))\n",
        "    with open(\"/content/drive/My Drive/Covid/summaries.txt\", \"wb\") as fp:   #Pickling\n",
        "        pickle.dump(topic_all_tasks, fp)\n",
        "else:\n",
        "    with open(\"/content/drive/My Drive/Covid/summaries.txt\", \"rb\") as fp:   # Unpickling\n",
        "        summaries = pickle.load(fp)"
      ],
      "execution_count": 0,
      "outputs": []
    },
    {
      "cell_type": "code",
      "metadata": {
        "id": "bhIefhTEjxId",
        "colab_type": "code",
        "outputId": "4c947d0a-2525-470c-b3cb-bbb92049fa42",
        "colab": {
          "base_uri": "https://localhost:8080/",
          "height": 260
        }
      },
      "source": [
        "for i, summ in enumerate(summaries):\n",
        "    print(i, tm_save.topics[np.argmax(tm_save.predict([summ]))])"
      ],
      "execution_count": 0,
      "outputs": [
        {
          "output_type": "stream",
          "text": [
            "0 age child adult incidence aged prevalence period older old young\n",
            "1 estimate distribution period interval estimated transmission onset epidemic parameter incubation\n",
            "2 feed inactivation surface temperature pedv pig experiment material ingredient infectivity\n",
            "3 camel dog dromedary seroprevalence canine breed herd animal nasal fecal\n",
            "4 chikv nsp2 cough droplet corona denv1 denv2 albopictus mucus amyloid\n",
            "5 prediction epitope predicted structure score tool algorithm feature energy set\n",
            "6 mask transmission risk respirator contact exposure n95 protection measure pilgrim\n",
            "7 prediction epitope predicted structure score tool algorithm feature energy set\n",
            "8 autophagy mouse spinal cord astrocyte autophagic brain replication expression demyelination\n",
            "9 vaccine vaccination vector immune protection antibody challenge dna immunization antigen\n",
            "10 country travel passenger screening risk transmission imported traveller spread temperature\n",
            "11 article public search publication database term published scientific researcher user\n",
            "12 mask transmission risk respirator contact exposure n95 protection measure pilgrim\n"
          ],
          "name": "stdout"
        }
      ]
    },
    {
      "cell_type": "code",
      "metadata": {
        "id": "6E4WDW74Kgf4",
        "colab_type": "code",
        "colab": {}
      },
      "source": [
        ""
      ],
      "execution_count": 0,
      "outputs": []
    }
  ]
}