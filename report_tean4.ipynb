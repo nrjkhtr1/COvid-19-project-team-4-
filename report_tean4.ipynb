{
  "nbformat": 4,
  "nbformat_minor": 0,
  "metadata": {
    "colab": {
      "name": "README.md",
      "provenance": [],
      "collapsed_sections": []
    },
    "kernelspec": {
      "name": "python3",
      "display_name": "Python 3"
    }
  },
  "cells": [
    {
      "cell_type": "markdown",
      "metadata": {
        "id": "hFwTfG0tEr7w",
        "colab_type": "text"
      },
      "source": [
        "# Report for Covid 19 project 2020.\n",
        "Project files: https://drive.google.com/open?id=1IT1n_1LTm8vmzS8QNGVGSjbg6bijB1OI\n",
        "\n",
        "Team\n",
        "\n",
        "    Neeraj Khatri\n",
        "    Ujjawal Tiwari\n",
        "    Abhay Sharma\n",
        "    Gaurav Kumar\n",
        "    Anshul Sharma\n",
        "    Suraj Kumar\n",
        "    Deepak Das"
      ]
    },
    {
      "cell_type": "markdown",
      "metadata": {
        "id": "Z_ltTIO4lqmC",
        "colab_type": "text"
      },
      "source": [
        "#**1.Introduction and overview of the task**\n",
        "\n"
      ]
    },
    {
      "cell_type": "markdown",
      "metadata": {
        "id": "uqN9a4xNm9sc",
        "colab_type": "text"
      },
      "source": [
        "#### CORD-19 (COVID-19 Open Research Dataset) is a collection of more than 50000 articles about COVID-19 and other related coronaviruses.The task that we undertook is to use natural language processing and other machine learning techniques to get insights from this dataset about below queries about  **transmission ,incubation and environmental stability** .\n",
        "\n",
        "####Queries of my task are as follow:\n",
        "\n",
        "1.   Range of incubation periods for the disease in humans (and how this varies across age and health status) and how long individuals are contagious, even after recovery.\n",
        "2.   Prevalence of asymptomatic shedding and transmission (e.g., particularly children)\n",
        "\n",
        "1.   Seasonality of transmission\n",
        "2.   Physical science of the coronavirus (e.g., charge distribution, adhesion to hydrophilic/phobic surfaces, environmental survival to inform decontamination efforts for affected areas and provide information about viral shedding)\n",
        "\n",
        "1.   Persistence and stability on a multitude of substrates and sources (e.g., nasal discharge, sputum, urine, fecal matter, blood)\n",
        "2.   Persistence of virus on surfaces of different materials (e,g., copper, stainless steel, plastic)\n",
        "\n",
        "1.   Natural history of the virus and shedding of it from an infected person\n",
        "2.   Implementation of diagnostics and products to improve clinical processes\n",
        "\n",
        "1.   Disease models, including animal models for infection, disease and transmission\n",
        "2.   Tools and studies to monitor phenotypic change and potential adaptation of the virus\n",
        "\n",
        "1.   Immune response and immunity\n",
        "2.   Effectiveness of movement control strategies to prevent secondary transmission in health care and community settings\n",
        "\n",
        "1.   Effectiveness of personal protective equipment (PPE) and its usefulness to reduce risk of transmission in health care and community settings\n",
        "2.   Role of the environment in transmission\n",
        "\n",
        "\n",
        "\n",
        "\n",
        "\n",
        "\n",
        "\n",
        "\n",
        "\n",
        "\n",
        "\n",
        "\n",
        "\n",
        "\n",
        "\n",
        "---\n",
        "\n",
        "\n",
        "\n",
        "---\n",
        "\n"
      ]
    },
    {
      "cell_type": "markdown",
      "metadata": {
        "id": "Z1W1Yke9t3jl",
        "colab_type": "text"
      },
      "source": [
        "#**2.Our Approach**"
      ]
    },
    {
      "cell_type": "markdown",
      "metadata": {
        "id": "SKiWkhxMuJdo",
        "colab_type": "text"
      },
      "source": [
        "####Our approach to develope code for analyzing CORD-19 data to provide insight on what is known about COVID-19 transmission, incubation, and environmental stability consists of the following:\n",
        "\n",
        "\n",
        "1.   loading and extracting relevant features from our data\n",
        "2.   data cleaning\n",
        "\n",
        "1.   topic modelling\n",
        "2.  dataframe creation for transmission,incubation and environmental stability\n",
        "\n",
        "1.   Answer to all queries of our task as short summary\n",
        "2.   evaluation of our method\n",
        "\n",
        "\n",
        "\n",
        "\n",
        "\n"
      ]
    },
    {
      "cell_type": "markdown",
      "metadata": {
        "id": "fKSGmjLMy3qL",
        "colab_type": "text"
      },
      "source": [
        "#**2.1 loading and extracting relevant features from data**"
      ]
    },
    {
      "cell_type": "markdown",
      "metadata": {
        "id": "5L9Zws6rzNGf",
        "colab_type": "text"
      },
      "source": [
        "####In the CORD-19 dataset, we access json files for all research papers.we extract only below four columns which we consider  relevant for our task .\n",
        "\n",
        "\n",
        "1.   title\n",
        "2.  abstract\n",
        "\n",
        "1.   body_text\n",
        "2.   ref\n",
        "\n",
        "\n",
        "\n"
      ]
    },
    {
      "cell_type": "markdown",
      "metadata": {
        "id": "1W8kAaBA2BY0",
        "colab_type": "text"
      },
      "source": [
        "#**2.2 data cleaning**"
      ]
    },
    {
      "cell_type": "markdown",
      "metadata": {
        "id": "FkSyLpQK2NOS",
        "colab_type": "text"
      },
      "source": [
        "####we do following steps to clean our data:\n",
        "for every column of our dataframe ,we apply following\n",
        "\n",
        "1.   Remove the data inside brackets\n",
        "2.   Remove punctuation marks\n",
        "\n",
        "1.   Remove line break\n",
        "2.   Remove the stopword from data\n",
        "\n",
        "\n",
        "filter the rows of dataframe based on corona related words(pandemic,corona,coronavirus,covid-19,ars-cov-2) and words related to tasks (transmission,environmental,surround,infection,contagion,incubation,stability etc)\n",
        "\n",
        "Then we apply lemmatization on body text on filtered dataframe\n",
        "\n",
        "\n",
        "\n",
        "\n",
        "\n",
        "\n"
      ]
    },
    {
      "cell_type": "markdown",
      "metadata": {
        "id": "eoPmgi_G8bmF",
        "colab_type": "text"
      },
      "source": [
        "#**2.3 topic modelling**"
      ]
    },
    {
      "cell_type": "markdown",
      "metadata": {
        "id": "nFdJdq2G8j1c",
        "colab_type": "text"
      },
      "source": [
        "#### we apply topic modelling on lemmatized body text column of our dataframe using ktrain python library .\n",
        "we take :\n",
        "\n",
        "1.   max_vocab = 35000     # set the maximum vocabulary size as it is sufficient to cover all unique words of any research paper\n",
        "\n",
        "2.   num_of_topics = 200  # heurestically  taken\n",
        "\n",
        "we use build method with threshols=0.25 to allocate topic to a particular row of our dataframe.\n",
        "for each row in our dataframe,we append two columns containing topic number and list of words present in that topic\n"
      ]
    },
    {
      "cell_type": "markdown",
      "metadata": {
        "id": "_SjHH-Jr_laI",
        "colab_type": "text"
      },
      "source": [
        "#**2.4  dataframe creation for transmission,incubation and environmental stability**"
      ]
    },
    {
      "cell_type": "markdown",
      "metadata": {
        "id": "5zNBrdGh_qsL",
        "colab_type": "text"
      },
      "source": [
        "####  \n",
        "\n",
        "1.   for our task, sub tasks(queries) are related to transmission,incubation and stability.\n",
        "2.   for transmission, we find related topic number and  list of topics ,similarly we do for incubation and stability.\n",
        "3.we append new column called task which assign each row of our dataframe as related to one of transmission,incubation and stability.\n",
        "4.another column i.e  count_task gives frequency of keywords\n",
        "1.   sort dataframe by count_task values\n",
        "2.   for each sub task(i.e queries) broader classification like transmission,incubation and stability: \n",
        "      *    we create a separate frame with additional columns count_subtask and sort\n",
        "      *    return top 5 research papers for each sub task\n",
        "\n",
        "\n",
        "\n",
        "\n"
      ]
    },
    {
      "cell_type": "markdown",
      "metadata": {
        "id": "V1uPkANzKUT_",
        "colab_type": "text"
      },
      "source": [
        "#**2.5 Output:answer to all queries(sub task) of our task as short summary**"
      ]
    },
    {
      "cell_type": "markdown",
      "metadata": {
        "id": "ZL8EVyXaKvS9",
        "colab_type": "text"
      },
      "source": [
        "#### following actions we perform:\n",
        "\n",
        "1.   Create a list of important words for each questions(queries or sub tasks)\n",
        "2.   Extract paragraphs based on above list\n",
        "\n",
        "1.   Convert paragraphs into a short summary.\n",
        "\n",
        "\n",
        "\n",
        "\n"
      ]
    },
    {
      "cell_type": "markdown",
      "metadata": {
        "id": "ngD1tA-1LXNS",
        "colab_type": "text"
      },
      "source": [
        "#**2.6 Evaluation**"
      ]
    },
    {
      "cell_type": "markdown",
      "metadata": {
        "id": "CJgtXpP1Lh2o",
        "colab_type": "text"
      },
      "source": [
        "#### following actions we perform:\n",
        "\n",
        "1.   Pass the summary as an argument to topic model\n",
        "2.   That summary is assigned a particular topic.\n",
        "3.If that topic contains word which is related to our questions than “Positive” otherwise \"Negative\".\n",
        "\n"
      ]
    },
    {
      "cell_type": "markdown",
      "metadata": {
        "id": "l3HmSdrHLuFm",
        "colab_type": "text"
      },
      "source": [
        "#3. **Our observed results**"
      ]
    },
    {
      "cell_type": "markdown",
      "metadata": {
        "id": "-yCQo96pXKPy",
        "colab_type": "text"
      },
      "source": [
        "###### 3.1 for sub task 1:Range of incubation periods for the disease in humans (and how this varies across age and health status) and how long individuals are contagious, even after recovery."
      ]
    },
    {
      "cell_type": "code",
      "metadata": {
        "colab_type": "code",
        "outputId": "82679730-421f-4721-d510-4669561735c2",
        "id": "fAHGtPoPX7V1",
        "colab": {
          "base_uri": "https://localhost:8080/",
          "height": 428
        }
      },
      "source": [
        "input_task = int(input(\"Please select the task from the above list:\"))\n",
        "# fun_calculate_summary(input_task-1)\n",
        "bart_summary(input_task)"
      ],
      "execution_count": 0,
      "outputs": [
        {
          "output_type": "stream",
          "text": [
            "Please select the task from the above list:0\n",
            "[35, 126, 3690, 3791, 4108, 4209, 4257, 4316, 4435, 4525, 5180, 5374, 5603, 6719, 6818, 10066, 10348, 10451, 10502, 10554, 10647, 10734, 11088, 11580, 12739]\n",
            "################## Title of the paper is: ###############\n",
            "understanding epidemic data and statistics a case study of covid-19\n",
            "\n",
            "\n",
            "\n",
            "\n",
            "################## Task Answer: ###############\n",
            "Summarization took 1.28 minutes.\n",
            "('It takes an average of 21 days for patients from diagnosis to cure in the '\n",
            " 'stage of hubei epidemic. The shorter the incubation period the faster the '\n",
            " 'virus spreads and the greater the total number of infections. The earlier '\n",
            " 'the better combined with the ac, the earlier the cure can be achieved. It is '\n",
            " 'also found that when the average time for contagion is set to 8 days it fits '\n",
            " 'the official curve best. We know that epidemic control at different times '\n",
            " 'will have an important impact on the spread of the epidemic. We hope that '\n",
            " 'this article has helped you understand the epidemic situation in south korea '\n",
            " 'and how to predict it in the future. For more information, please visit: '\n",
            " 'http://www.korea.org.uk/en/news/korea-epidemic-situation-and-predicting-the-spread-of-a-virus-in-south-korea\\xa0'\n",
            " 'and-how-to- predict\\xa0it\\xa0in\\xa0the\\xa0future\\xa0at\\xa0different\\xa0'\n",
            " 'times.')\n"
          ],
          "name": "stdout"
        },
        {
          "output_type": "execute_result",
          "data": {
            "text/plain": [
              "'It takes an average of 21 days for patients from diagnosis to cure in the stage of hubei epidemic. The shorter the incubation period the faster the virus spreads and the greater the total number of infections. The earlier the better combined with the ac, the earlier the cure can be achieved. It is also found that when the average time for contagion is set to 8 days it fits the official curve best. We know that epidemic control at different times will have an important impact on the spread of the epidemic. We hope that this article has helped you understand the epidemic situation in south korea and how to predict it in the future. For more information, please visit: http://www.korea.org.uk/en/news/korea-epidemic-situation-and-predicting-the-spread-of-a-virus-in-south-korea\\xa0and-how-to- predict\\xa0it\\xa0in\\xa0the\\xa0future\\xa0at\\xa0different\\xa0times.'"
            ]
          },
          "metadata": {
            "tags": []
          },
          "execution_count": 13
        }
      ]
    },
    {
      "cell_type": "markdown",
      "metadata": {
        "id": "7pcJJdP7L7vT",
        "colab_type": "text"
      },
      "source": [
        "###### 3.2 for sub task 2 : Prevalence of asymptomatic shedding and transmission (e.g., particularly children)"
      ]
    },
    {
      "cell_type": "code",
      "metadata": {
        "id": "cSlN06f0_wrN",
        "colab_type": "code",
        "outputId": "169e3f3a-61c1-4fb5-e133-b2a959b5fbbc",
        "colab": {
          "base_uri": "https://localhost:8080/",
          "height": 496
        }
      },
      "source": [
        "input_task = int(input(\"Please select the task from the above list:\"))\n",
        "# fun_calculate_summary(input_task-1)\n",
        "bart_summary(input_task)"
      ],
      "execution_count": 0,
      "outputs": [
        {
          "output_type": "stream",
          "text": [
            "Please select the task from the above list:1\n",
            "[2302, 2386, 2418, 3295, 3988, 4089, 5577, 5890, 7354, 12980, 19580, 19766, 19870]\n",
            "################## Title of the paper is: ###############\n",
            "when are pathogen genome sequences informative of transmission events\n",
            "\n",
            "\n",
            "\n",
            "\n",
            "################## Task Answer: ###############\n",
            "Summarization took 1.56 minutes.\n",
            "('hrv tends to peak in the fall and spring  but is the dominant infection in '\n",
            " 'summer. The effects of sex have been less consistent with studies showing '\n",
            " 'higher prevalence in boys  or in women  hrv can be detected and cause '\n",
            " 'symptoms 10-11 hours after infection. There are two critical questions about '\n",
            " 'hrv transmission how it is transmitted and by whom despite some '\n",
            " 'inconsistent  and infectiousness among household members. The simplest '\n",
            " 'method tracks how many household members are infected after an identified '\n",
            " 'index case. We break individuals into four age groups determined at '\n",
            " 'enrollment 0-4 5-17 18-39 and 40-59 years these represent preschool and '\n",
            " 'school-aged children and early and midadulthood for individuals with '\n",
            " 'consecutive weekly nasal samples we recorded acquisition of hrv for a given '\n",
            " 'week if the test changed from negative in that week to positive in t '\n",
            " 'ipientsson distributed household sizes  with different means assuming at '\n",
            " 'least one adult a second individual with age group chosen at random based on '\n",
            " 'census data and any remaining individuals assumed to be children  and in '\n",
            " 'parents.')\n"
          ],
          "name": "stdout"
        },
        {
          "output_type": "execute_result",
          "data": {
            "text/plain": [
              "'hrv tends to peak in the fall and spring  but is the dominant infection in summer. The effects of sex have been less consistent with studies showing higher prevalence in boys  or in women  hrv can be detected and cause symptoms 10-11 hours after infection. There are two critical questions about hrv transmission how it is transmitted and by whom despite some inconsistent  and infectiousness among household members. The simplest method tracks how many household members are infected after an identified index case. We break individuals into four age groups determined at enrollment 0-4 5-17 18-39 and 40-59 years these represent preschool and school-aged children and early and midadulthood for individuals with consecutive weekly nasal samples we recorded acquisition of hrv for a given week if the test changed from negative in that week to positive in t ipientsson distributed household sizes  with different means assuming at least one adult a second individual with age group chosen at random based on census data and any remaining individuals assumed to be children  and in parents.'"
            ]
          },
          "metadata": {
            "tags": []
          },
          "execution_count": 6
        }
      ]
    },
    {
      "cell_type": "markdown",
      "metadata": {
        "id": "QSefHYY7N_NT",
        "colab_type": "text"
      },
      "source": [
        "###### 3.3 for sub task 3:Seasonality of transmission"
      ]
    },
    {
      "cell_type": "code",
      "metadata": {
        "colab_type": "code",
        "outputId": "f113b99f-1c20-44ba-ef03-2e327956b785",
        "id": "04SQSFghOvY8",
        "colab": {
          "base_uri": "https://localhost:8080/",
          "height": 496
        }
      },
      "source": [
        "input_task = int(input(\"Please select the task from the above list:\"))\n",
        "# fun_calculate_summary(input_task-1)\n",
        "bart_summary(input_task)"
      ],
      "execution_count": 0,
      "outputs": [
        {
          "output_type": "stream",
          "text": [
            "Please select the task from the above list:2\n",
            "[7372, 12385, 17737, 18858, 18960, 21143, 23309]\n",
            "################## Title of the paper is: ###############\n",
            "transmission potential of influenza ah7n9\n",
            "\n",
            "\n",
            "\n",
            "\n",
            "################## Task Answer: ###############\n",
            "Summarization took 1.29 minutes.\n",
            "('The only parameter to be estimated is r we made two different assumptions '\n",
            " 'for the latent and infectious periods to illustrate a short infection '\n",
            " 'process consistent with seasonal influenza  and a longer infection process '\n",
            " 'in line with descriptions of the prolonged course of ah7n9 infections in '\n",
            " 'humans. The bayesian approach was very sensitive to assumptions regarding '\n",
            " 'the prior distribution of  \\xa0 \\xa0 \\xa0 \\xa0 \\xa0 \\xa0 \\xa0 \\xa0\\xa0'\n",
            " 'virus\\xa0as information is lacking on the residual prevalence of ah 7n9 in '\n",
            " 'poultry populations in china. We cannot rule out a subsequent rise in ah7N9 '\n",
            " 'transmission potential in the coming months as seasonal factors could affect '\n",
            " 'virus prevalence in the  avian reservoir and promote avian-to-human and '\n",
            " 'possibly human- to-human transmission. We have provided transmissibility '\n",
            " 'estimates for influenza ah5n1 swine influenza ah3n2v seasonal and pandemic '\n",
            " 'influenza nipah virus and severe acute respiratory syndrome influenza ah7 n9 '\n",
            " 'epidemic curves reproduction number estimates based on the bayesian '\n",
            " 'sequential approach. The estimates are based on a variety of approaches '\n",
            " 'including transmission model fitting methods and individual-level exposure.')\n"
          ],
          "name": "stdout"
        },
        {
          "output_type": "execute_result",
          "data": {
            "text/plain": [
              "'The only parameter to be estimated is r we made two different assumptions for the latent and infectious periods to illustrate a short infection process consistent with seasonal influenza  and a longer infection process in line with descriptions of the prolonged course of ah7n9 infections in humans. The bayesian approach was very sensitive to assumptions regarding the prior distribution of  \\xa0 \\xa0 \\xa0 \\xa0 \\xa0 \\xa0 \\xa0 \\xa0\\xa0virus\\xa0as information is lacking on the residual prevalence of ah 7n9 in poultry populations in china. We cannot rule out a subsequent rise in ah7N9 transmission potential in the coming months as seasonal factors could affect virus prevalence in the  avian reservoir and promote avian-to-human and possibly human- to-human transmission. We have provided transmissibility estimates for influenza ah5n1 swine influenza ah3n2v seasonal and pandemic influenza nipah virus and severe acute respiratory syndrome influenza ah7 n9 epidemic curves reproduction number estimates based on the bayesian sequential approach. The estimates are based on a variety of approaches including transmission model fitting methods and individual-level exposure.'"
            ]
          },
          "metadata": {
            "tags": []
          },
          "execution_count": 7
        }
      ]
    },
    {
      "cell_type": "markdown",
      "metadata": {
        "id": "9SDvYheyPTaC",
        "colab_type": "text"
      },
      "source": [
        "###### 3.4 for sub task 4 : Physical science of the coronavirus (e.g., charge distribution, adhesion to hydrophilic/phobic surfaces, environmental survival to inform decontamination efforts for affected areas and provide information about viral shedding)"
      ]
    },
    {
      "cell_type": "code",
      "metadata": {
        "colab_type": "code",
        "outputId": "d1c64dbe-786d-4a88-f9a6-2dde9cc52395",
        "id": "PLxPbAr0QB8Z",
        "colab": {
          "base_uri": "https://localhost:8080/",
          "height": 496
        }
      },
      "source": [
        "input_task = int(input(\"Please select the task from the above list:\"))\n",
        "# fun_calculate_summary(input_task-1)\n",
        "bart_summary(input_task)"
      ],
      "execution_count": 0,
      "outputs": [
        {
          "output_type": "stream",
          "text": [
            "Please select the task from the above list:3\n",
            "[1796, 1937, 2027, 11571, 11840, 14711]\n",
            "################## Title of the paper is: ###############\n",
            "transmission potential of influenza ah7n9\n",
            "\n",
            "\n",
            "\n",
            "\n",
            "################## Task Answer: ###############\n",
            "Summarization took 1.16 minutes.\n",
            "('If a contaminated feed ingredient enters the feed mill it has been '\n",
            " 'demonstrated that this ingredient will contaminate feed mill surfaces and '\n",
            " 'subsequent batches of feed. If this type of contamination occurs it is '\n",
            " 'necessary to understand virus inactivation kinetics on different surface '\n",
            " 'materials before a treatment is applied. limited studies have been conducted '\n",
            " 'on pedv long-term survival after a surface is contaminated but data from '\n",
            " 'this experiment suggest that pedv can survive for exten ll unknown. If a '\n",
            " 'feed ingredient is contaminated studies have shown that it can then '\n",
            " 'contaminate surfaces in a feed mill. After surface contamination with pedv '\n",
            " 'subsequent batches\\xa0of feed can be contaminated with the virus. It is '\n",
            " 'needed to determine if any differences in virus survival among feed '\n",
            " 'ingredients requires different thermal processing conditions to reduce the '\n",
            " 'risk of subsequent contamination. We hope to provide more information on '\n",
            " 'this topic in the coming months. We are also hoping to provide information '\n",
            " 'on the effects of temperature treatment on the survival of pedv on various '\n",
            " 'surfaces of materials used in feed mills and swine farms.')\n"
          ],
          "name": "stdout"
        },
        {
          "output_type": "execute_result",
          "data": {
            "text/plain": [
              "'If a contaminated feed ingredient enters the feed mill it has been demonstrated that this ingredient will contaminate feed mill surfaces and subsequent batches of feed. If this type of contamination occurs it is necessary to understand virus inactivation kinetics on different surface materials before a treatment is applied. limited studies have been conducted on pedv long-term survival after a surface is contaminated but data from this experiment suggest that pedv can survive for exten ll unknown. If a feed ingredient is contaminated studies have shown that it can then contaminate surfaces in a feed mill. After surface contamination with pedv subsequent batches\\xa0of feed can be contaminated with the virus. It is needed to determine if any differences in virus survival among feed ingredients requires different thermal processing conditions to reduce the risk of subsequent contamination. We hope to provide more information on this topic in the coming months. We are also hoping to provide information on the effects of temperature treatment on the survival of pedv on various surfaces of materials used in feed mills and swine farms.'"
            ]
          },
          "metadata": {
            "tags": []
          },
          "execution_count": 8
        }
      ]
    },
    {
      "cell_type": "markdown",
      "metadata": {
        "id": "JrbeZq-2Y16m",
        "colab_type": "text"
      },
      "source": [
        "###### 3.5  for sub task 5: Persistence and stability on a multitude of substrates and sources (e.g., nasal discharge, sputum, urine, fecal matter, blood)"
      ]
    },
    {
      "cell_type": "code",
      "metadata": {
        "colab_type": "code",
        "outputId": "269cf14a-b63e-4bb6-b12f-96a301663c8e",
        "id": "k3NUaY4kZx6E",
        "colab": {
          "base_uri": "https://localhost:8080/",
          "height": 479
        }
      },
      "source": [
        "input_task = int(input(\"Please select the task from the above list:\"))\n",
        "# fun_calculate_summary(input_task-1)\n",
        "bart_summary(input_task)"
      ],
      "execution_count": 0,
      "outputs": [
        {
          "output_type": "stream",
          "text": [
            "Please select the task from the above list:4\n",
            "[14945, 23369, 23839, 26453, 27281, 34440, 35146]\n",
            "################## Title of the paper is: ###############\n",
            "find the right sample a study on the versatility of saliva and urine samples for the diagnosis of emerging viruses\n",
            "\n",
            "\n",
            "\n",
            "\n",
            "################## Task Answer: ###############\n",
            "Summarization took 1.28 minutes.\n",
            "('In 26 confirmed ebola cases 16 samples including saliva stool semen breast '\n",
            " 'milk tears nasal blood and a skin swab were positive in ebola culture andor '\n",
            " 'rt-pcr   in case of ebov all samples including body fluids must be handled '\n",
            " 'applying the who recommendations since they are highly infec. Death was '\n",
            " 'associated with higher virus load in nasopharyngeal specimens obtained on '\n",
            " 'day 10 after the onset of symptoms. bronchoalveolar and lower respiratory '\n",
            " 'tract fluids were highly positive for mers-cov in the two identified cases   '\n",
            " 'while urine samples were only positive on day 13 stool samples and oro-nasal '\n",
            " \"swabs contained very low mer's copy number on days 12 and 16 respectively. \"\n",
            " 'No virus was detected in blood in the beginning of the outbreak the way of '\n",
            " 'transmission was rather unclear theref  hypertnd the arabian peninsula have '\n",
            " 'a very high seroprevalence of mer’s antibodies for further surveillance '\n",
            " 'studies in camels hedgehogs and bats very often non-invasive samples like '\n",
            " 'urine saliva fecal nasal swaps fecal swaps or camel milk were used to '\n",
            " 'analyze for specific antibodies.')\n"
          ],
          "name": "stdout"
        },
        {
          "output_type": "execute_result",
          "data": {
            "text/plain": [
              "\"In 26 confirmed ebola cases 16 samples including saliva stool semen breast milk tears nasal blood and a skin swab were positive in ebola culture andor rt-pcr   in case of ebov all samples including body fluids must be handled applying the who recommendations since they are highly infec. Death was associated with higher virus load in nasopharyngeal specimens obtained on day 10 after the onset of symptoms. bronchoalveolar and lower respiratory tract fluids were highly positive for mers-cov in the two identified cases   while urine samples were only positive on day 13 stool samples and oro-nasal swabs contained very low mer's copy number on days 12 and 16 respectively. No virus was detected in blood in the beginning of the outbreak the way of transmission was rather unclear theref  hypertnd the arabian peninsula have a very high seroprevalence of mer’s antibodies for further surveillance studies in camels hedgehogs and bats very often non-invasive samples like urine saliva fecal nasal swaps fecal swaps or camel milk were used to analyze for specific antibodies.\""
            ]
          },
          "metadata": {
            "tags": []
          },
          "execution_count": 14
        }
      ]
    },
    {
      "cell_type": "markdown",
      "metadata": {
        "id": "B-9S9fcJZ4ic",
        "colab_type": "text"
      },
      "source": [
        "#### 3.6 for sub task 6 :Persistence of virus on surfaces of different materials (e,g., copper, stainless steel, plastic)"
      ]
    },
    {
      "cell_type": "code",
      "metadata": {
        "colab_type": "code",
        "outputId": "c921c493-4ee8-429a-88eb-8f68bbfaa4dc",
        "id": "8p25yS-TazLv",
        "colab": {
          "base_uri": "https://localhost:8080/",
          "height": 530
        }
      },
      "source": [
        "input_task = int(input(\"Please select the task from the above list:\"))\n",
        "# fun_calculate_summary(input_task-1)\n",
        "bart_summary(input_task)"
      ],
      "execution_count": 0,
      "outputs": [
        {
          "output_type": "stream",
          "text": [
            "Please select the task from the above list:5\n",
            "[75, 232, 330, 596, 769, 1500, 5124, 6032, 6703, 12650, 13448, 13765, 14748, 15273, 15426, 16911, 18956, 19740, 20269, 20460, 25124, 25550, 25640, 26057, 26670, 26750, 27102, 28241, 28547, 29010, 29199]\n",
            "################## Title of the paper is: ###############\n",
            "the viral protein corona directs viral pathogenesis and amyloid aggregation\n",
            "\n",
            "\n",
            "\n",
            "\n",
            "################## Task Answer: ###############\n",
            "Summarization took 1.49 minutes.\n",
            "('The term protein corona refers to the layer of proteins that adhere to the '\n",
            " 'surfaces of nanostructures when they encounter biological fluids. '\n",
            " 'nanoparticles adsorb biomolecules in biological fluids due to the high free '\n",
            " 'energy of their surfaces. Hundreds of proteins have been identified to '\n",
            " 'confer a distinct biological identity of nanoparticles in different '\n",
            " 'microenvironments depending on their size chemistry and surface '\n",
            " 'modification. These factors were found to be critical determinants of the '\n",
            " 'biodistribution and pharmacodynamics of\\xa0n nanoparticles on the other hand '\n",
            " 'the ability of the surfaces to partially denature certain corona proteins '\n",
            " 'exposing cryptic epitopes highlights the role of the corona in the '\n",
            " 'toxicology\\xa0of nanoparticles. We found that the presence of rsv particles '\n",
            " 'significantly accelerated amyloid formation of nnfgail compared to '\n",
            " 'non-infected cell supernatant demonstrating that rsv acted as a catalytic '\n",
            " 'surface for amyloids aggregation. We studied viruses in terms of their '\n",
            " 'biophysical equ t necessarily the most abundant in the biological fluids '\n",
            " 'this together with the pca analyses comparing rsv to hsv-1 and the controls '\n",
            " 'indicated enrichment of particular corona factors depending on the surface '\n",
            " 'properties of the virus.')\n"
          ],
          "name": "stdout"
        },
        {
          "output_type": "execute_result",
          "data": {
            "text/plain": [
              "'The term protein corona refers to the layer of proteins that adhere to the surfaces of nanostructures when they encounter biological fluids. nanoparticles adsorb biomolecules in biological fluids due to the high free energy of their surfaces. Hundreds of proteins have been identified to confer a distinct biological identity of nanoparticles in different microenvironments depending on their size chemistry and surface modification. These factors were found to be critical determinants of the biodistribution and pharmacodynamics of\\xa0n nanoparticles on the other hand the ability of the surfaces to partially denature certain corona proteins exposing cryptic epitopes highlights the role of the corona in the toxicology\\xa0of nanoparticles. We found that the presence of rsv particles significantly accelerated amyloid formation of nnfgail compared to non-infected cell supernatant demonstrating that rsv acted as a catalytic surface for amyloids aggregation. We studied viruses in terms of their biophysical equ t necessarily the most abundant in the biological fluids this together with the pca analyses comparing rsv to hsv-1 and the controls indicated enrichment of particular corona factors depending on the surface properties of the virus.'"
            ]
          },
          "metadata": {
            "tags": []
          },
          "execution_count": 15
        }
      ]
    },
    {
      "cell_type": "markdown",
      "metadata": {
        "id": "jfnrB83ha7Pk",
        "colab_type": "text"
      },
      "source": [
        "#### 3.7 for sub task 7:natural history of the virus and shedding of it from an infected person"
      ]
    },
    {
      "cell_type": "code",
      "metadata": {
        "colab_type": "code",
        "outputId": "1588e9b2-27a2-4a4f-ae3a-6c003ab67950",
        "id": "JUUypwKTbpvb",
        "colab": {
          "base_uri": "https://localhost:8080/",
          "height": 479
        }
      },
      "source": [
        "input_task = int(input(\"Please select the task from the above list:\"))\n",
        "# fun_calculate_summary(input_task-1)\n",
        "bart_summary(input_task)"
      ],
      "execution_count": 0,
      "outputs": [
        {
          "output_type": "stream",
          "text": [
            "Please select the task from the above list:6\n",
            "[]\n",
            "################## Title of the paper is: ###############\n",
            "patterns of seasonal and pandemic influenza-associated health care and mortality in ontario canada\n",
            "\n",
            "\n",
            "\n",
            "\n",
            "################## Task Answer: ###############\n"
          ],
          "name": "stdout"
        },
        {
          "output_type": "stream",
          "text": [
            "Your min_length is set to 200, but you input_length is only 2. You might consider decreasing min_length manually, e.g. summarizer('...', min_length=10)\n",
            "Your max_length is set to 300, but you input_length is only 2. You might consider decreasing max_length manually, e.g. summarizer('...', max_length=50)\n"
          ],
          "name": "stderr"
        },
        {
          "output_type": "stream",
          "text": [
            "Summarization took 0.7 minutes.\n",
            "('CNN.com will feature iReporter photos in a weekly Travel Snapshots gallery. '\n",
            " 'Please submit your best shots of the U.S. for next week. Visit '\n",
            " 'CNN.com/Travel next Friday for a new gallery of snapshots from around the '\n",
            " 'world. Please share your best photos of the United States with CNN iReport. '\n",
            " 'Click here to share your snapshots from across the globe with the CNN Travel '\n",
            " 'Snapshot gallery. For the latest, go to CNN.co/Travel and click here for a '\n",
            " \"selection of our best shots from the world's most beautiful destinations, \"\n",
            " 'including London, Paris, Rome and Rome. For more information on CNN Travel, '\n",
            " 'visit www.dailymail.co.uk/Travel. We will feature some of the best photos '\n",
            " 'from the globe in our next Travel Snap shots next week, including some of '\n",
            " 'our favorite vacation spots. Please send your best images of the world to '\n",
            " \"CNNimages@aol.com. We'll feature the best shots in a new Travel Snap shot \"\n",
            " 'gallery for next Tuesday.')\n"
          ],
          "name": "stdout"
        },
        {
          "output_type": "execute_result",
          "data": {
            "text/plain": [
              "\"CNN.com will feature iReporter photos in a weekly Travel Snapshots gallery. Please submit your best shots of the U.S. for next week. Visit CNN.com/Travel next Friday for a new gallery of snapshots from around the world. Please share your best photos of the United States with CNN iReport. Click here to share your snapshots from across the globe with the CNN Travel Snapshot gallery. For the latest, go to CNN.co/Travel and click here for a selection of our best shots from the world's most beautiful destinations, including London, Paris, Rome and Rome. For more information on CNN Travel, visit www.dailymail.co.uk/Travel. We will feature some of the best photos from the globe in our next Travel Snap shots next week, including some of our favorite vacation spots. Please send your best images of the world to CNNimages@aol.com. We'll feature the best shots in a new Travel Snap shot gallery for next Tuesday.\""
            ]
          },
          "metadata": {
            "tags": []
          },
          "execution_count": 16
        }
      ]
    },
    {
      "cell_type": "markdown",
      "metadata": {
        "id": "b4s-iSDnbs0L",
        "colab_type": "text"
      },
      "source": [
        "#### 3.8 for sub task 8:Implementation of diagnostics and products to improve clinical processes"
      ]
    },
    {
      "cell_type": "code",
      "metadata": {
        "colab_type": "code",
        "outputId": "7026a5fc-3296-499b-d0cc-8694d309d648",
        "id": "sESi8I69coey",
        "colab": {
          "base_uri": "https://localhost:8080/",
          "height": 513
        }
      },
      "source": [
        "input_task = int(input(\"Please select the task from the above list:\"))\n",
        "# fun_calculate_summary(input_task-1)\n",
        "bart_summary(input_task)"
      ],
      "execution_count": 0,
      "outputs": [
        {
          "output_type": "stream",
          "text": [
            "Please select the task from the above list:7\n",
            "[4650, 10757, 10848, 10988, 11199, 11339, 11501, 12851, 13817, 13912, 14319, 14760, 14850, 15816, 16435, 16509, 16660, 16706, 17454, 17541, 18412, 18947, 19090, 19324, 19777, 19932, 20109, 20304, 20600, 20853, 21033, 21158, 21739, 21787, 22996, 25925, 26686, 26876, 27069, 29598, 29653, 29681, 29736, 29852, 34115, 35473, 36187, 39931, 39957, 40588, 41426]\n",
            "################## Title of the paper is: ###############\n",
            "bmc infectious diseases quarantine for pandemic influenza control at the borders of small island nations\n",
            "\n",
            "\n",
            "\n",
            "\n",
            "################## Task Answer: ###############\n",
            "Summarization took 1.26 minutes.\n",
            "('Successful detection during quarantine relies largely on onset of '\n",
            " 'influenza-like symptoms but as a possible option we also consider adding '\n",
            " 'rapid diagnostic testing to improve the sensitivity of case detection. To '\n",
            " 'theoretically and quantitatively examine the effectiveness of quarantine we '\n",
            " 'use several parameters describing the epidemiologic '\n",
            " 'charac  \\xa0 \\xa0 \\xa0 \\xa0 \\xa0 \\xa0 \\xa0 \\xa0s. We assume that the '\n",
            " 'sensitivity  and specificity  of the rapid diagnostic test are 690 and 990 '\n",
            " 'respectively   since our effectiveness measure is conditioned on infected '\n",
            " 'individuals the risk of releasing infectious individuals in the presence of '\n",
            " 'quarantine with us  is 690 \\xa0and\\xa0990 respectively. We examine the '\n",
            " 'preventive performance of quarantine combined with rapid diagnostic tests '\n",
            " 'when the combination scheme is employed those testing negative to the rapid '\n",
            " 'diagnose test following quarantine of length t would be the population of '\n",
            " 'interest as they are released into the community let p be the prevalence '\n",
            " 'level at the source  among infected individual among infected individuals. '\n",
            " 'We conclude by randomly simulating the incubation period, generation time, '\n",
            " 'presence of any symptoms  and the sensitivity.')\n"
          ],
          "name": "stdout"
        },
        {
          "output_type": "execute_result",
          "data": {
            "text/plain": [
              "'Successful detection during quarantine relies largely on onset of influenza-like symptoms but as a possible option we also consider adding rapid diagnostic testing to improve the sensitivity of case detection. To theoretically and quantitatively examine the effectiveness of quarantine we use several parameters describing the epidemiologic charac  \\xa0 \\xa0 \\xa0 \\xa0 \\xa0 \\xa0 \\xa0 \\xa0s. We assume that the sensitivity  and specificity  of the rapid diagnostic test are 690 and 990 respectively   since our effectiveness measure is conditioned on infected individuals the risk of releasing infectious individuals in the presence of quarantine with us  is 690 \\xa0and\\xa0990 respectively. We examine the preventive performance of quarantine combined with rapid diagnostic tests when the combination scheme is employed those testing negative to the rapid diagnose test following quarantine of length t would be the population of interest as they are released into the community let p be the prevalence level at the source  among infected individual among infected individuals. We conclude by randomly simulating the incubation period, generation time, presence of any symptoms  and the sensitivity.'"
            ]
          },
          "metadata": {
            "tags": []
          },
          "execution_count": 17
        }
      ]
    },
    {
      "cell_type": "markdown",
      "metadata": {
        "id": "OsbACXhFcv3Q",
        "colab_type": "text"
      },
      "source": [
        "#### 3.9 for sub task 9:Disease models, including animal models for infection, disease and transmission"
      ]
    },
    {
      "cell_type": "code",
      "metadata": {
        "colab_type": "code",
        "outputId": "4406c4ce-3906-4bd4-931b-a3ec78c6c602",
        "id": "1E6CaEAvd7Yd",
        "colab": {
          "base_uri": "https://localhost:8080/",
          "height": 479
        }
      },
      "source": [
        "input_task = int(input(\"Please select the task from the above list:\"))\n",
        "# fun_calculate_summary(input_task-1)\n",
        "bart_summary(input_task)"
      ],
      "execution_count": 0,
      "outputs": [
        {
          "output_type": "stream",
          "text": [
            "Please select the task from the above list:8\n",
            "[]\n",
            "################## Title of the paper is: ###############\n",
            "estimating incidence curves of several infections using symptom surveillance data\n",
            "\n",
            "\n",
            "\n",
            "\n",
            "################## Task Answer: ###############\n"
          ],
          "name": "stdout"
        },
        {
          "output_type": "stream",
          "text": [
            "Your min_length is set to 200, but you input_length is only 2. You might consider decreasing min_length manually, e.g. summarizer('...', min_length=10)\n",
            "Your max_length is set to 300, but you input_length is only 2. You might consider decreasing max_length manually, e.g. summarizer('...', max_length=50)\n"
          ],
          "name": "stderr"
        },
        {
          "output_type": "stream",
          "text": [
            "Summarization took 0.7 minutes.\n",
            "('CNN.com will feature iReporter photos in a weekly Travel Snapshots gallery. '\n",
            " 'Please submit your best shots of the U.S. for next week. Visit '\n",
            " 'CNN.com/Travel next Friday for a new gallery of snapshots from around the '\n",
            " 'world. Please share your best photos of the United States with CNN iReport. '\n",
            " 'Click here to share your snapshots from across the globe with the CNN Travel '\n",
            " 'Snapshot gallery. For the latest, go to CNN.co/Travel and click here for a '\n",
            " \"selection of our best shots from the world's most beautiful destinations, \"\n",
            " 'including London, Paris, Rome and Rome. For more information on CNN Travel, '\n",
            " 'visit www.dailymail.co.uk/Travel. We will feature some of the best photos '\n",
            " 'from the globe in our next Travel Snap shots next week, including some of '\n",
            " 'our favorite vacation spots. Please send your best images of the world to '\n",
            " \"CNNimages@aol.com. We'll feature the best shots in a new Travel Snap shot \"\n",
            " 'gallery for next Tuesday.')\n"
          ],
          "name": "stdout"
        },
        {
          "output_type": "execute_result",
          "data": {
            "text/plain": [
              "\"CNN.com will feature iReporter photos in a weekly Travel Snapshots gallery. Please submit your best shots of the U.S. for next week. Visit CNN.com/Travel next Friday for a new gallery of snapshots from around the world. Please share your best photos of the United States with CNN iReport. Click here to share your snapshots from across the globe with the CNN Travel Snapshot gallery. For the latest, go to CNN.co/Travel and click here for a selection of our best shots from the world's most beautiful destinations, including London, Paris, Rome and Rome. For more information on CNN Travel, visit www.dailymail.co.uk/Travel. We will feature some of the best photos from the globe in our next Travel Snap shots next week, including some of our favorite vacation spots. Please send your best images of the world to CNNimages@aol.com. We'll feature the best shots in a new Travel Snap shot gallery for next Tuesday.\""
            ]
          },
          "metadata": {
            "tags": []
          },
          "execution_count": 6
        }
      ]
    },
    {
      "cell_type": "markdown",
      "metadata": {
        "id": "1JGJo4Dzd9nl",
        "colab_type": "text"
      },
      "source": [
        "#### 3.10 for sub task 10 : Tools and studies to monitor phenotypic change and potential adaptation of the virus"
      ]
    },
    {
      "cell_type": "code",
      "metadata": {
        "colab_type": "code",
        "outputId": "653fa05a-b2d6-4294-f2c3-402d8d12fdb1",
        "id": "XvCL2vL4e1Mz",
        "colab": {
          "base_uri": "https://localhost:8080/",
          "height": 496
        }
      },
      "source": [
        "input_task = int(input(\"Please select the task from the above list:\"))\n",
        "# fun_calculate_summary(input_task-1)\n",
        "bart_summary(input_task)"
      ],
      "execution_count": 0,
      "outputs": [
        {
          "output_type": "stream",
          "text": [
            "Please select the task from the above list:9\n",
            "[19167, 24987]\n",
            "################## Title of the paper is: ###############\n",
            "mass gatherings and respiratory disease outbreaks in the united states -should we be worried results from a systematic literature review and analysis of the national outbreak reporting system\n",
            "\n",
            "\n",
            "\n",
            "\n",
            "################## Task Answer: ###############\n"
          ],
          "name": "stdout"
        },
        {
          "output_type": "stream",
          "text": [
            "Your max_length is set to 300, but you input_length is only 164. You might consider decreasing max_length manually, e.g. summarizer('...', max_length=50)\n"
          ],
          "name": "stderr"
        },
        {
          "output_type": "stream",
          "text": [
            "Summarization took 0.9 minutes.\n",
            "('Experiment no 2 reproduced the disease and motor phenotypes seen in '\n",
            " 'experiment no 1. mice began losing weight by 7 dpi and started succumbing to '\n",
            " 'the disease by 11 dpi. All zikv-infected mice had died or been humanely '\n",
            " 'euthanized by 14. The severity of hindlimb paralysis and seizure-like '\n",
            " 'activity did not correlate well with changes in body wei  no to only subtle '\n",
            " 'hind Limb deficits after seizure activity had subsided. mice with complete '\n",
            " 'paralysis  that were never observed to have seizure- like activity were also '\n",
            " 'observed walking in circles and extreme mobile activity. The disease is '\n",
            " 'likely caused primarily by spinal cord myelitis though upper motor neuron '\n",
            " 'disease and peripheral neuropathy may contribute to the infection.    all '\n",
            " 'zikV- infected animals had died  by 14 and were humanely\\xa0euthanasia by 15 '\n",
            " 'dpi\\xa0in experiment\\xa0no\\xa02.  The mice were also found to have complete '\n",
            " 'paralysis that was never observed\\xa0to have seizure\\xa0like activity two '\n",
            " 'other disease phenotypes walking in\\xa0 circles and\\xa0extreme mobile '\n",
            " 'activity\\xa0were also observed.')\n"
          ],
          "name": "stdout"
        },
        {
          "output_type": "execute_result",
          "data": {
            "text/plain": [
              "'Experiment no 2 reproduced the disease and motor phenotypes seen in experiment no 1. mice began losing weight by 7 dpi and started succumbing to the disease by 11 dpi. All zikv-infected mice had died or been humanely euthanized by 14. The severity of hindlimb paralysis and seizure-like activity did not correlate well with changes in body wei  no to only subtle hind Limb deficits after seizure activity had subsided. mice with complete paralysis  that were never observed to have seizure- like activity were also observed walking in circles and extreme mobile activity. The disease is likely caused primarily by spinal cord myelitis though upper motor neuron disease and peripheral neuropathy may contribute to the infection.    all zikV- infected animals had died  by 14 and were humanely\\xa0euthanasia by 15 dpi\\xa0in experiment\\xa0no\\xa02.  The mice were also found to have complete paralysis that was never observed\\xa0to have seizure\\xa0like activity two other disease phenotypes walking in\\xa0 circles and\\xa0extreme mobile activity\\xa0were also observed.'"
            ]
          },
          "metadata": {
            "tags": []
          },
          "execution_count": 7
        }
      ]
    },
    {
      "cell_type": "markdown",
      "metadata": {
        "id": "3I5T4oNre2yN",
        "colab_type": "text"
      },
      "source": [
        "#### 3.11 for sub task 11 : Immune response and immunity"
      ]
    },
    {
      "cell_type": "code",
      "metadata": {
        "colab_type": "code",
        "outputId": "a33b7b29-2275-44a5-8ff4-3d1bd826bb4c",
        "id": "dlWN7qUBfnPD",
        "colab": {
          "base_uri": "https://localhost:8080/",
          "height": 496
        }
      },
      "source": [
        "input_task = int(input(\"Please select the task from the above list:\"))\n",
        "# fun_calculate_summary(input_task-1)\n",
        "bart_summary(input_task)"
      ],
      "execution_count": 0,
      "outputs": [
        {
          "output_type": "stream",
          "text": [
            "Please select the task from the above list:10\n",
            "[1082, 1774, 1833, 3395, 3951, 4896, 4917, 5034, 5065, 5329, 5841, 5879, 6499, 6802, 7199, 7812, 8643, 9700, 9990, 10105, 10461, 11928, 12539, 14695, 15968, 16234, 16320, 16370, 16543, 16617, 16688, 17963, 18071, 19401, 19728, 21670, 21964, 22326, 22888, 23106, 23497, 23673, 23892, 24793, 25092, 25654, 26761, 27433, 27915, 28498, 29452, 30314, 31768, 32572, 34334, 34766, 36374, 36623, 36914, 36987, 37190, 37334, 37950, 38450, 40150, 41794, 42196, 42397, 42720, 43399, 44582, 45179, 45500, 45957, 47060, 47560, 48955, 49218, 49612, 49805, 50010, 50959, 51986, 53511, 53655, 53985, 55223, 55936, 56474, 56660, 56875, 57115, 58367, 58901, 59240, 59597, 60297, 60911, 61188]\n",
            "################## Title of the paper is: ###############\n",
            "review intranasal and oral vaccination with protein-based antigens advantages challenges and formulation strategies\n",
            "\n",
            "\n",
            "\n",
            "\n",
            "################## Task Answer: ###############\n",
            "Summarization took 1.28 minutes.\n",
            "('Mucosal immunity is highly desirable to provide an efficient and '\n",
            " 'long-lasting protection against pathogen invasion. Most commercial vaccines '\n",
            " 'are delivered systemically which only induces humoral immune protection '\n",
            " 'without pathogen-specific mucosal immunity. An effective vaccine often '\n",
            " 'contains the following components 1 antigens for eliciting specific adaptive '\n",
            " 'immune response 2 immunostimulants to stimulate the innate immune system and '\n",
            " '3 delivery systems for the right-place and right-time vaccine delivery. '\n",
            " 'mucosal vaccination is highly advantageous for infectious diseases that is '\n",
            " 'inhaled ingested or sexually transmitted such as influ \\xa0n adjuvant '\n",
            " 'formulation administration route and animal model for efficacy and safety '\n",
            " 'evaluation. The mucosal immunization occurs at the inductive sites called '\n",
            " 'the mucosa-associated lymphoid tissue which contains b cells t cells and '\n",
            " 'antigen presenting cells  for specific immune response initiation   the malt '\n",
            " 'is covered by a follicle-associated epithelium comprising epithellium cells '\n",
            " 'lymphoid cells and a minor portion of microfoldmembraneous  cells   m cells '\n",
            " 'are general general immune cells.')\n"
          ],
          "name": "stdout"
        },
        {
          "output_type": "execute_result",
          "data": {
            "text/plain": [
              "'Mucosal immunity is highly desirable to provide an efficient and long-lasting protection against pathogen invasion. Most commercial vaccines are delivered systemically which only induces humoral immune protection without pathogen-specific mucosal immunity. An effective vaccine often contains the following components 1 antigens for eliciting specific adaptive immune response 2 immunostimulants to stimulate the innate immune system and 3 delivery systems for the right-place and right-time vaccine delivery. mucosal vaccination is highly advantageous for infectious diseases that is inhaled ingested or sexually transmitted such as influ \\xa0n adjuvant formulation administration route and animal model for efficacy and safety evaluation. The mucosal immunization occurs at the inductive sites called the mucosa-associated lymphoid tissue which contains b cells t cells and antigen presenting cells  for specific immune response initiation   the malt is covered by a follicle-associated epithelium comprising epithellium cells lymphoid cells and a minor portion of microfoldmembraneous  cells   m cells are general general immune cells.'"
            ]
          },
          "metadata": {
            "tags": []
          },
          "execution_count": 8
        }
      ]
    },
    {
      "cell_type": "markdown",
      "metadata": {
        "id": "eNeE6YzBf1rE",
        "colab_type": "text"
      },
      "source": [
        "#### 3.12 for sub task : Effectiveness of movement control strategies to prevent secondary transmission in health care and community settings"
      ]
    },
    {
      "cell_type": "code",
      "metadata": {
        "colab_type": "code",
        "outputId": "2d711e02-06e4-436a-cb58-de7834d09dca",
        "id": "dciGDh8fgRVJ",
        "colab": {
          "base_uri": "https://localhost:8080/",
          "height": 530
        }
      },
      "source": [
        "input_task = int(input(\"Please select the task from the above list:\"))\n",
        "# fun_calculate_summary(input_task-1)\n",
        "bart_summary(input_task)"
      ],
      "execution_count": 0,
      "outputs": [
        {
          "output_type": "stream",
          "text": [
            "Please select the task from the above list:11\n",
            "[1883, 25704, 31004, 32648, 33143]\n",
            "################## Title of the paper is: ###############\n",
            "estimating the reproductive number in the presence of spatial heterogeneity of transmission patterns\n",
            "\n",
            "\n",
            "\n",
            "\n",
            "################## Task Answer: ###############\n",
            "Summarization took 0.97 minutes.\n",
            "('Avian influenza viruses should be considered a major global health threat. '\n",
            " 'When no suitable influenza vaccine is available locally the traveller should '\n",
            " 'arrange vaccination as soon as possible after arriving at the travel '\n",
            " 'destination. Future studies should focus on both a better understanding of '\n",
            " 'the epidemiological aspects of seasonal influenza and optimization of '\n",
            " 'vaccination strategies. The WHO advises travellers going to the opposite '\n",
            " 'hemisphere to be vaccinated with a vaccine containing strains circulating at '\n",
            " 'their destination  this advice is currently almost impossible to implement. '\n",
            " 'Increasing the shelf-life of seasonal flu vaccines could improve the '\n",
            " 'situation in years when the strains do not change between northern and '\n",
            " 'southern formulations but other strategies should also be pursued like '\n",
            " 'ensuring global licensure of seasonal vaccines and development of more '\n",
            " 'universal vaccines. improvement in the effectiveness of seasonal Influenza '\n",
            " 'vaccines would e. tion or re-assortment 3 4 avian influenza virus should be '\n",
            " 'consider a majorglobal health threat 5 several reviews have recently '\n",
            " 'addressed influenza virus epidemiology high-risk groups vaccination '\n",
            " 'strategies and treatments. However one fast-growing risk group-travellersis '\n",
            " 'largely missing from these overviews.')\n"
          ],
          "name": "stdout"
        },
        {
          "output_type": "execute_result",
          "data": {
            "text/plain": [
              "'Avian influenza viruses should be considered a major global health threat. When no suitable influenza vaccine is available locally the traveller should arrange vaccination as soon as possible after arriving at the travel destination. Future studies should focus on both a better understanding of the epidemiological aspects of seasonal influenza and optimization of vaccination strategies. The WHO advises travellers going to the opposite hemisphere to be vaccinated with a vaccine containing strains circulating at their destination  this advice is currently almost impossible to implement. Increasing the shelf-life of seasonal flu vaccines could improve the situation in years when the strains do not change between northern and southern formulations but other strategies should also be pursued like ensuring global licensure of seasonal vaccines and development of more universal vaccines. improvement in the effectiveness of seasonal Influenza vaccines would e. tion or re-assortment 3 4 avian influenza virus should be consider a majorglobal health threat 5 several reviews have recently addressed influenza virus epidemiology high-risk groups vaccination strategies and treatments. However one fast-growing risk group-travellersis largely missing from these overviews.'"
            ]
          },
          "metadata": {
            "tags": []
          },
          "execution_count": 9
        }
      ]
    },
    {
      "cell_type": "markdown",
      "metadata": {
        "id": "aKKcdQfagasp",
        "colab_type": "text"
      },
      "source": [
        "#### 3.13 for sub task : Effectiveness of personal protective equipment (PPE) and its usefulness to reduce risk of transmission in health care and community settings"
      ]
    },
    {
      "cell_type": "code",
      "metadata": {
        "colab_type": "code",
        "outputId": "86514c94-ee76-4f70-8dda-c51d4b5cd03c",
        "id": "2E-ZZm-ohFJh",
        "colab": {
          "base_uri": "https://localhost:8080/",
          "height": 479
        }
      },
      "source": [
        "input_task = int(input(\"Please select the task from the above list:\"))\n",
        "# fun_calculate_summary(input_task-1)\n",
        "bart_summary(input_task)"
      ],
      "execution_count": 0,
      "outputs": [
        {
          "output_type": "stream",
          "text": [
            "Please select the task from the above list:12\n",
            "[3214, 4904, 13251, 17926, 21791, 27877, 29841, 30430]\n",
            "################## Title of the paper is: ###############\n",
            "relatedness of the incidence decay with exponential adjustment  model farrs law and sir compartmental difference equation models-nc-nd license \n",
            "\n",
            "\n",
            "\n",
            "\n",
            "################## Task Answer: ###############\n",
            "Summarization took 1.11 minutes.\n",
            "('iagnosis and sought to turn data about the infected populations into '\n",
            " 'inferences about where and how the infectious disease spread the most famous '\n",
            " 'example is from the 19th century in which john snow mapped the locations of '\n",
            " 'clinically defined cholera cases in an outbreak in london and inferred that '\n",
            " 'the outbreak was due to contaminated water from the broad street pump. '\n",
            " 'iagnosis can also refer to the initial entry of a pathogen into a community '\n",
            " 'such as cholERA which appeared in haiti in 2010. outbreaks are most '\n",
            " 'frequently caused by the transmission of a clonal lineage of a Pathogen '\n",
            " 'through a combination of limited initial diversity and population '\n",
            " 'bottlenecks in t  ARTICLE: How do we identify outbreaks and how do we know '\n",
            " 'where and why they started?    The author uses whole genome sequencing and '\n",
            " 'molecular evolutionary theory to answer the question of the origin of an '\n",
            " 'outbreak and how they spread.   In this article the author uses sequencing '\n",
            " 'and evolutionary theory as a basis for his theory of outbreak origins and '\n",
            " 'spread.')\n"
          ],
          "name": "stdout"
        },
        {
          "output_type": "execute_result",
          "data": {
            "text/plain": [
              "'iagnosis and sought to turn data about the infected populations into inferences about where and how the infectious disease spread the most famous example is from the 19th century in which john snow mapped the locations of clinically defined cholera cases in an outbreak in london and inferred that the outbreak was due to contaminated water from the broad street pump. iagnosis can also refer to the initial entry of a pathogen into a community such as cholERA which appeared in haiti in 2010. outbreaks are most frequently caused by the transmission of a clonal lineage of a Pathogen through a combination of limited initial diversity and population bottlenecks in t  ARTICLE: How do we identify outbreaks and how do we know where and why they started?    The author uses whole genome sequencing and molecular evolutionary theory to answer the question of the origin of an outbreak and how they spread.   In this article the author uses sequencing and evolutionary theory as a basis for his theory of outbreak origins and spread.'"
            ]
          },
          "metadata": {
            "tags": []
          },
          "execution_count": 10
        }
      ]
    },
    {
      "cell_type": "markdown",
      "metadata": {
        "id": "TOb_iqeNSvOC",
        "colab_type": "text"
      },
      "source": [
        "#### 3.14 for sub task 14 : Role of the environment in transmission"
      ]
    },
    {
      "cell_type": "code",
      "metadata": {
        "colab_type": "code",
        "outputId": "ed73b3ba-ebd9-45a2-bf43-a87ea9884fc7",
        "id": "qNMlBIkqS7dO",
        "colab": {
          "base_uri": "https://localhost:8080/",
          "height": 513
        }
      },
      "source": [
        "input_task = int(input(\"Please select the task from the above list:\"))\n",
        "# fun_calculate_summary(input_task-1)\n",
        "bart_summary(input_task)"
      ],
      "execution_count": 0,
      "outputs": [
        {
          "output_type": "stream",
          "text": [
            "Please select the task from the above list:13\n",
            "[1187, 4067, 12142]\n",
            "################## Title of the paper is: ###############\n",
            "title transmission potential of covid-19 in south korea\n",
            "\n",
            "\n",
            "\n",
            "\n",
            "################## Task Answer: ###############\n"
          ],
          "name": "stdout"
        },
        {
          "output_type": "stream",
          "text": [
            "Your max_length is set to 300, but you input_length is only 211. You might consider decreasing max_length manually, e.g. summarizer('...', max_length=50)\n"
          ],
          "name": "stderr"
        },
        {
          "output_type": "stream",
          "text": [
            "Summarization took 0.88 minutes.\n",
            "('Transmission of 2009 h1n1 and other respiratory viruses is facilitated by '\n",
            " 'crowded and confined environments. The first confirmed case of 2009. h1N1 '\n",
            " 'infection was identified on 11 may 2009 in mainland china. Long exposure '\n",
            " 'increased the probability of infection. 19 passengers who shared a room were '\n",
            " 'in a higher-risk environment for infection. 20 crew members who served many '\n",
            " 'passengers in the train were at higher risk of infection and once infected '\n",
            " 'may have been more effective sources for spreading illness to other '\n",
            " 'passengers. Following a standard protocol respiratory specimens were '\n",
            " 'collected    respiratory specimens  were collected from the passengers and '\n",
            " 'crew members. A few imported cases of the virus were reported in mainland '\n",
            " 'China in 2009. Since then transmission patterns evolved rapidly from a few '\n",
            " 'cases to sust er at designated hospitals or at home was imposed when '\n",
            " 'professionals confirmed the presence of symptoms. We also collected '\n",
            " 'information from the chinese ministry of railways to investigate the '\n",
            " 'internal environment of the train including air conditioning the cafeteria '\n",
            " 'seating locations capacity capacity timetable crew passengers and structure.')\n"
          ],
          "name": "stdout"
        },
        {
          "output_type": "execute_result",
          "data": {
            "text/plain": [
              "'Transmission of 2009 h1n1 and other respiratory viruses is facilitated by crowded and confined environments. The first confirmed case of 2009. h1N1 infection was identified on 11 may 2009 in mainland china. Long exposure increased the probability of infection. 19 passengers who shared a room were in a higher-risk environment for infection. 20 crew members who served many passengers in the train were at higher risk of infection and once infected may have been more effective sources for spreading illness to other passengers. Following a standard protocol respiratory specimens were collected    respiratory specimens  were collected from the passengers and crew members. A few imported cases of the virus were reported in mainland China in 2009. Since then transmission patterns evolved rapidly from a few cases to sust er at designated hospitals or at home was imposed when professionals confirmed the presence of symptoms. We also collected information from the chinese ministry of railways to investigate the internal environment of the train including air conditioning the cafeteria seating locations capacity capacity timetable crew passengers and structure.'"
            ]
          },
          "metadata": {
            "tags": []
          },
          "execution_count": 12
        }
      ]
    },
    {
      "cell_type": "markdown",
      "metadata": {
        "id": "czam_yVohUTt",
        "colab_type": "text"
      },
      "source": [
        "#**4. key findings from our result**\n",
        "\n",
        "1.   **from answer to sub task 1 ,we got this result: it takes an average of 21 days for patients from diagnoses to cure in in the stage of hubei(a province in china) epidemic**\n",
        "2.   **from answer to sub task 8, we got this result:successful detection during quarantine relies largely on onset of influenza -like symptoms but as a possible option we also consider adding rapid diagnostic testing to improve the sensitivity of case detection**\n",
        "\n",
        "1.   **from answer to sub task 11,we got this result:mucosal immunity is highly desirable to provide an efficient and long-lasting protection against pathogen invasion.** \n",
        "\n",
        "     Most commercial vaccines are delivered systemically which only induces    humoral immune protection without pathogen-specific mucosal immunity. \n",
        "An effective vaccine often contains the following components \n",
        "   '\n",
        "\n",
        "* antigens for eliciting specific adaptive immune response \n",
        "*    immunostimulants to stimulate the innate immune system \n",
        "\n",
        "*   delivery systems for the right-place and right-time vaccine delivery\n",
        "\n",
        "\n",
        "\n",
        "\n",
        "\n",
        "\n",
        "\n",
        "\n"
      ]
    }
  ]
}